{
 "cells": [
  {
   "cell_type": "code",
   "execution_count": 1,
   "source": [
    "import json"
   ],
   "outputs": [],
   "metadata": {}
  },
  {
   "cell_type": "code",
   "execution_count": 12,
   "source": [
    "with open('results.json','rb') as f:\r\n",
    "    tmp = json.load(f)"
   ],
   "outputs": [],
   "metadata": {}
  },
  {
   "cell_type": "code",
   "execution_count": 13,
   "source": [
    "print(tmp['meta'])"
   ],
   "outputs": [
    {
     "output_type": "stream",
     "name": "stdout",
     "text": [
      "data\n"
     ]
    }
   ],
   "metadata": {}
  },
  {
   "cell_type": "code",
   "execution_count": 14,
   "source": [
    "keys = tmp.keys()"
   ],
   "outputs": [],
   "metadata": {}
  },
  {
   "cell_type": "code",
   "execution_count": 18,
   "source": [
    "data_list = []\r\n",
    "if 'left' in keys:\r\n",
    "    # print(tmp['left'])\r\n",
    "    \r\n",
    "    for x in tmp['left']:\r\n",
    "        chunk = []\r\n",
    "        chunk.append(x['x'])\r\n",
    "        chunk.append(x['y'])\r\n",
    "        chunk.append(x['z'])\r\n",
    "        data_list.append(chunk)\r\n",
    "print(data_list)"
   ],
   "outputs": [
    {
     "output_type": "stream",
     "name": "stdout",
     "text": [
      "[[0.6957069039344788, 0.7239000201225281, -2.6323399652028456e-05], [0.6554962992668152, 0.6858683228492737, -0.012517792172729969], [0.6307834982872009, 0.6245937943458557, -0.019344450905919075], [0.6177201271057129, 0.5657724142074585, -0.02809068374335766], [0.6003247499465942, 0.5277910232543945, -0.03728301450610161], [0.6608554720878601, 0.5403708219528198, -0.004359598271548748], [0.6493051648139954, 0.46839725971221924, -0.01632990501821041], [0.6437309384346008, 0.4246305525302887, -0.02990211360156536], [0.6401956677436829, 0.3841682970523834, -0.03993256762623787], [0.6863664388656616, 0.5335320234298706, -0.00821902509778738], [0.6829988956451416, 0.4492306113243103, -0.014869946986436844], [0.6802646517753601, 0.3953726291656494, -0.031389106065034866], [0.6781104207038879, 0.349253386259079, -0.04601572826504707], [0.7095841765403748, 0.5426339507102966, -0.014180522412061691], [0.7107536196708679, 0.4653133749961853, -0.021683085709810257], [0.7106389999389648, 0.4170421361923218, -0.033443864434957504], [0.7100541591644287, 0.3750571608543396, -0.04363653436303139], [0.7321858406066895, 0.5639334321022034, -0.021574942395091057], [0.7374268770217896, 0.5040582418441772, -0.032524630427360535], [0.7388145327568054, 0.4657007157802582, -0.0430687740445137], [0.73909592628479, 0.4291137456893921, -0.05053078383207321]]\n"
     ]
    }
   ],
   "metadata": {}
  },
  {
   "cell_type": "code",
   "execution_count": 2,
   "source": [
    "import json"
   ],
   "outputs": [],
   "metadata": {}
  },
  {
   "cell_type": "code",
   "execution_count": 13,
   "source": [
    "with open('results.json','rb') as f:\r\n",
    "    tmp = json.load(f)\r\n"
   ],
   "outputs": [],
   "metadata": {}
  },
  {
   "cell_type": "code",
   "execution_count": 15,
   "source": [
    "len(tmp.keys())"
   ],
   "outputs": [
    {
     "output_type": "execute_result",
     "data": {
      "text/plain": [
       "3"
      ]
     },
     "metadata": {},
     "execution_count": 15
    }
   ],
   "metadata": {}
  },
  {
   "cell_type": "code",
   "execution_count": 4,
   "source": [
    "tmp['data'][0][0]['x']"
   ],
   "outputs": [
    {
     "output_type": "execute_result",
     "data": {
      "text/plain": [
       "0.18257416784763336"
      ]
     },
     "metadata": {},
     "execution_count": 4
    }
   ],
   "metadata": {}
  },
  {
   "cell_type": "code",
   "execution_count": 19,
   "source": [
    "tmp_list = []\r\n",
    "for x in tmp['data'][0]:\r\n",
    "    data = []\r\n",
    "    data.append(x['x'])\r\n",
    "    data.append(x['y'])\r\n",
    "    data.append(x['z'])\r\n",
    "    tmp_list.append(data)\r\n",
    "\r\n"
   ],
   "outputs": [],
   "metadata": {}
  },
  {
   "cell_type": "code",
   "execution_count": 20,
   "source": [
    "import numpy as np"
   ],
   "outputs": [],
   "metadata": {}
  },
  {
   "cell_type": "code",
   "execution_count": 21,
   "source": [
    "\r\n",
    "tmp_np = np.array(tmp_list)"
   ],
   "outputs": [],
   "metadata": {}
  },
  {
   "cell_type": "code",
   "execution_count": 23,
   "source": [
    "tmp_np"
   ],
   "outputs": [
    {
     "output_type": "execute_result",
     "data": {
      "text/plain": [
       "(21, 3)"
      ]
     },
     "metadata": {},
     "execution_count": 23
    }
   ],
   "metadata": {}
  },
  {
   "cell_type": "code",
   "execution_count": 34,
   "source": [],
   "outputs": [
    {
     "output_type": "execute_result",
     "data": {
      "text/plain": [
       "[[{'x': 0.18257416784763336,\n",
       "   'y': 0.8570026159286499,\n",
       "   'z': -8.007748692762107e-05},\n",
       "  {'x': 0.25674980878829956,\n",
       "   'y': 0.8152546882629395,\n",
       "   'z': -0.021176718175411224},\n",
       "  {'x': 0.31068944931030273,\n",
       "   'y': 0.69562828540802,\n",
       "   'z': -0.028549889102578163},\n",
       "  {'x': 0.3414917290210724,\n",
       "   'y': 0.5833594799041748,\n",
       "   'z': -0.04039531201124191},\n",
       "  {'x': 0.36913490295410156,\n",
       "   'y': 0.5097771286964417,\n",
       "   'z': -0.05492408946156502},\n",
       "  {'x': 0.2654382288455963,\n",
       "   'y': 0.5374295115470886,\n",
       "   'z': 0.018868068233132362},\n",
       "  {'x': 0.2938026785850525,\n",
       "   'y': 0.4333001375198364,\n",
       "   'z': -0.0009624407393857837},\n",
       "  {'x': 0.309020459651947,\n",
       "   'y': 0.3818625807762146,\n",
       "   'z': -0.020777840167284012},\n",
       "  {'x': 0.31828969717025757,\n",
       "   'y': 0.34494465589523315,\n",
       "   'z': -0.03258700296282768},\n",
       "  {'x': 0.22189782559871674,\n",
       "   'y': 0.5085575580596924,\n",
       "   'z': 0.010310353711247444},\n",
       "  {'x': 0.2360900491476059,\n",
       "   'y': 0.37476587295532227,\n",
       "   'z': 0.005412029568105936},\n",
       "  {'x': 0.2448456585407257,\n",
       "   'y': 0.2818361222743988,\n",
       "   'z': -0.007995661348104477},\n",
       "  {'x': 0.25124117732048035,\n",
       "   'y': 0.2022499442100525,\n",
       "   'z': -0.020415225997567177},\n",
       "  {'x': 0.17754751443862915,\n",
       "   'y': 0.5155208706855774,\n",
       "   'z': -0.008183012716472149},\n",
       "  {'x': 0.17153367400169373,\n",
       "   'y': 0.3822324275970459,\n",
       "   'z': -0.022324999794363976},\n",
       "  {'x': 0.16781407594680786,\n",
       "   'y': 0.29113802313804626,\n",
       "   'z': -0.04070957750082016},\n",
       "  {'x': 0.164232537150383, 'y': 0.2076472043991089, 'z': -0.05695473402738571},\n",
       "  {'x': 0.13038480281829834,\n",
       "   'y': 0.5534497499465942,\n",
       "   'z': -0.029903652146458626},\n",
       "  {'x': 0.10500875115394592,\n",
       "   'y': 0.45649445056915283,\n",
       "   'z': -0.04571366682648659},\n",
       "  {'x': 0.08662055432796478,\n",
       "   'y': 0.387912392616272,\n",
       "   'z': -0.06217638775706291},\n",
       "  {'x': 0.06847040355205536,\n",
       "   'y': 0.31857043504714966,\n",
       "   'z': -0.0752788782119751}],\n",
       " [{'x': 0.7721832990646362,\n",
       "   'y': 0.8368340730667114,\n",
       "   'z': -2.4999901143019088e-05},\n",
       "  {'x': 0.6982024312019348, 'y': 0.784034252166748, 'z': -0.02277601882815361},\n",
       "  {'x': 0.6457560062408447,\n",
       "   'y': 0.6722358465194702,\n",
       "   'z': -0.029323969036340714},\n",
       "  {'x': 0.6133802533149719,\n",
       "   'y': 0.5720515251159668,\n",
       "   'z': -0.039682310074567795},\n",
       "  {'x': 0.5775488018989563,\n",
       "   'y': 0.5106498003005981,\n",
       "   'z': -0.05045991390943527},\n",
       "  {'x': 0.697131335735321, 'y': 0.5010005235671997, 'z': 0.013872777111828327},\n",
       "  {'x': 0.6694651246070862,\n",
       "   'y': 0.38213789463043213,\n",
       "   'z': 0.006621939595788717},\n",
       "  {'x': 0.6560336351394653,\n",
       "   'y': 0.30411967635154724,\n",
       "   'z': -0.009347168728709221},\n",
       "  {'x': 0.6470805406570435,\n",
       "   'y': 0.23676082491874695,\n",
       "   'z': -0.02066735550761223},\n",
       "  {'x': 0.7423706650733948, 'y': 0.4832727611064911, 'z': 0.0107406135648489},\n",
       "  {'x': 0.7292693853378296,\n",
       "   'y': 0.3397963047027588,\n",
       "   'z': 0.014341368339955807},\n",
       "  {'x': 0.7212839722633362,\n",
       "   'y': 0.24772107601165771,\n",
       "   'z': -0.00315991067327559},\n",
       "  {'x': 0.7156391739845276,\n",
       "   'y': 0.1691882312297821,\n",
       "   'z': -0.019582197070121765},\n",
       "  {'x': 0.7844675779342651,\n",
       "   'y': 0.4962809085845947,\n",
       "   'z': 0.0021857330575585365},\n",
       "  {'x': 0.7817742228507996,\n",
       "   'y': 0.36717310547828674,\n",
       "   'z': 0.002063961001113057},\n",
       "  {'x': 0.7776687741279602,\n",
       "   'y': 0.28621208667755127,\n",
       "   'z': -0.01004389114677906},\n",
       "  {'x': 0.7726427912712097,\n",
       "   'y': 0.2163127362728119,\n",
       "   'z': -0.022060798481106758},\n",
       "  {'x': 0.8260951638221741,\n",
       "   'y': 0.5324423909187317,\n",
       "   'z': -0.010000730864703655},\n",
       "  {'x': 0.8354032635688782,\n",
       "   'y': 0.43714243173599243,\n",
       "   'z': -0.020901650190353394},\n",
       "  {'x': 0.8391194939613342,\n",
       "   'y': 0.37555021047592163,\n",
       "   'z': -0.033565957099199295},\n",
       "  {'x': 0.8394569754600525,\n",
       "   'y': 0.3154895305633545,\n",
       "   'z': -0.043874967843294144}]]"
      ]
     },
     "metadata": {},
     "execution_count": 34
    }
   ],
   "metadata": {}
  },
  {
   "cell_type": "code",
   "execution_count": 6,
   "source": [
    "len(tmp)"
   ],
   "outputs": [
    {
     "output_type": "execute_result",
     "data": {
      "text/plain": [
       "1"
      ]
     },
     "metadata": {},
     "execution_count": 6
    }
   ],
   "metadata": {}
  },
  {
   "cell_type": "code",
   "execution_count": 17,
   "source": [
    "import numpy as np\r\n",
    "a = np.zeros((21,3))\r\n",
    "b = np.zeros((21,3))\r\n",
    "c = np.zeros((21,3))"
   ],
   "outputs": [],
   "metadata": {}
  },
  {
   "cell_type": "code",
   "execution_count": 24,
   "source": [
    "d = np.array((a,b,c))"
   ],
   "outputs": [],
   "metadata": {}
  },
  {
   "cell_type": "code",
   "execution_count": 25,
   "source": [
    "d.shape"
   ],
   "outputs": [
    {
     "output_type": "execute_result",
     "data": {
      "text/plain": [
       "(3, 21, 3)"
      ]
     },
     "metadata": {},
     "execution_count": 25
    }
   ],
   "metadata": {}
  },
  {
   "cell_type": "code",
   "execution_count": 26,
   "source": [
    "a = [[1,2,3],[1]]"
   ],
   "outputs": [],
   "metadata": {}
  },
  {
   "cell_type": "code",
   "execution_count": 27,
   "source": [
    "len(a)"
   ],
   "outputs": [
    {
     "output_type": "execute_result",
     "data": {
      "text/plain": [
       "2"
      ]
     },
     "metadata": {},
     "execution_count": 27
    }
   ],
   "metadata": {}
  },
  {
   "cell_type": "code",
   "execution_count": 45,
   "source": [
    "zeros_list = [[0,0,0]]*21\r\n",
    "one_list = [[1,1,1]]*21"
   ],
   "outputs": [],
   "metadata": {}
  },
  {
   "cell_type": "code",
   "execution_count": 51,
   "source": [
    "tmp = zeros_list.copy()\r\n",
    "tmp.extend(one_list)"
   ],
   "outputs": [],
   "metadata": {}
  },
  {
   "cell_type": "code",
   "execution_count": 53,
   "source": [
    "print(type(None))"
   ],
   "outputs": [
    {
     "output_type": "stream",
     "name": "stdout",
     "text": [
      "<class 'NoneType'>\n"
     ]
    }
   ],
   "metadata": {}
  },
  {
   "cell_type": "code",
   "execution_count": 52,
   "source": [
    "print(tmp)"
   ],
   "outputs": [
    {
     "output_type": "stream",
     "name": "stdout",
     "text": [
      "[[0, 0, 0], [0, 0, 0], [0, 0, 0], [0, 0, 0], [0, 0, 0], [0, 0, 0], [0, 0, 0], [0, 0, 0], [0, 0, 0], [0, 0, 0], [0, 0, 0], [0, 0, 0], [0, 0, 0], [0, 0, 0], [0, 0, 0], [0, 0, 0], [0, 0, 0], [0, 0, 0], [0, 0, 0], [0, 0, 0], [0, 0, 0], [1, 1, 1], [1, 1, 1], [1, 1, 1], [1, 1, 1], [1, 1, 1], [1, 1, 1], [1, 1, 1], [1, 1, 1], [1, 1, 1], [1, 1, 1], [1, 1, 1], [1, 1, 1], [1, 1, 1], [1, 1, 1], [1, 1, 1], [1, 1, 1], [1, 1, 1], [1, 1, 1], [1, 1, 1], [1, 1, 1], [1, 1, 1]]\n"
     ]
    }
   ],
   "metadata": {}
  },
  {
   "cell_type": "code",
   "execution_count": 100,
   "source": [
    "with open('result2.json','rb') as f:\r\n",
    "    json2 = json.load(f)\r\n"
   ],
   "outputs": [],
   "metadata": {}
  },
  {
   "cell_type": "code",
   "execution_count": 70,
   "source": [
    "tmp_list = []\r\n",
    "for x in json2['tmp']:\r\n",
    "    tmp_j = []\r\n",
    "    for y in x:\r\n",
    "        tmp_j.append(y['x'])\r\n",
    "        tmp_j.append(y['y'])\r\n",
    "        tmp_j.append(y['z'])\r\n",
    "        tmp_list.append(tmp_j)\r\n",
    "        # print(y)\r\n",
    "    print('--------------------------')"
   ],
   "outputs": [
    {
     "output_type": "stream",
     "name": "stdout",
     "text": [
      "--------------------------\n",
      "--------------------------\n"
     ]
    }
   ],
   "metadata": {}
  },
  {
   "cell_type": "code",
   "execution_count": 71,
   "source": [
    "len(tmp_list)"
   ],
   "outputs": [
    {
     "output_type": "execute_result",
     "data": {
      "text/plain": [
       "42"
      ]
     },
     "metadata": {},
     "execution_count": 71
    }
   ],
   "metadata": {}
  },
  {
   "cell_type": "code",
   "execution_count": 81,
   "source": [
    "(json2['tmp2'][0]['label'] =='Left')  , json2['tmp2'][0]['index']\r\n",
    "\r\n",
    "\r\n"
   ],
   "outputs": [
    {
     "output_type": "execute_result",
     "data": {
      "text/plain": [
       "(True, 0)"
      ]
     },
     "metadata": {},
     "execution_count": 81
    }
   ],
   "metadata": {}
  },
  {
   "cell_type": "code",
   "execution_count": 91,
   "source": [
    "count = 1\r\n",
    "if (json2['tmp2'][0]['label'] =='Left'):\r\n",
    "    count = 0\r\n",
    "\r\n"
   ],
   "outputs": [],
   "metadata": {}
  },
  {
   "cell_type": "code",
   "execution_count": 98,
   "source": [
    "len(json2['landmarks'])"
   ],
   "outputs": [
    {
     "output_type": "execute_result",
     "data": {
      "text/plain": [
       "1"
      ]
     },
     "metadata": {},
     "execution_count": 98
    }
   ],
   "metadata": {}
  },
  {
   "cell_type": "code",
   "execution_count": 111,
   "source": [
    "tmp_list = []\r\n",
    "for data_ in json2['tmp']:\r\n",
    "    tmp = []\r\n",
    "    for y in data_:\r\n",
    "        tmp_j = []\r\n",
    "        tmp_j.append(y['x'])\r\n",
    "        tmp_j.append(y['y'])\r\n",
    "        tmp_j.append(y['z'])\r\n",
    "        tmp.append(tmp_j)\r\n",
    "    tmp_list.append(tmp)"
   ],
   "outputs": [],
   "metadata": {}
  },
  {
   "cell_type": "code",
   "execution_count": 113,
   "source": [
    "len(tmp_list)"
   ],
   "outputs": [
    {
     "output_type": "execute_result",
     "data": {
      "text/plain": [
       "2"
      ]
     },
     "metadata": {},
     "execution_count": 113
    }
   ],
   "metadata": {}
  },
  {
   "cell_type": "code",
   "execution_count": 93,
   "source": [
    "import numpy as np\r\n",
    "np.array(tmp_list)"
   ],
   "outputs": [
    {
     "output_type": "execute_result",
     "data": {
      "text/plain": [
       "array([[ 7.21991956e-01,  8.30480516e-01, -4.17371994e-05, ...,\n",
       "         7.81666756e-01,  3.84252608e-01, -7.28052035e-02],\n",
       "       [ 7.21991956e-01,  8.30480516e-01, -4.17371994e-05, ...,\n",
       "         7.81666756e-01,  3.84252608e-01, -7.28052035e-02],\n",
       "       [ 7.21991956e-01,  8.30480516e-01, -4.17371994e-05, ...,\n",
       "         7.81666756e-01,  3.84252608e-01, -7.28052035e-02],\n",
       "       ...,\n",
       "       [ 2.65407145e-01,  8.21153760e-01, -1.18128977e-04, ...,\n",
       "         2.05523580e-01,  3.63961220e-01, -9.93432477e-02],\n",
       "       [ 2.65407145e-01,  8.21153760e-01, -1.18128977e-04, ...,\n",
       "         2.05523580e-01,  3.63961220e-01, -9.93432477e-02],\n",
       "       [ 2.65407145e-01,  8.21153760e-01, -1.18128977e-04, ...,\n",
       "         2.05523580e-01,  3.63961220e-01, -9.93432477e-02]])"
      ]
     },
     "metadata": {},
     "execution_count": 93
    }
   ],
   "metadata": {}
  }
 ],
 "metadata": {
  "orig_nbformat": 4,
  "language_info": {
   "name": "python",
   "version": "3.7.0",
   "mimetype": "text/x-python",
   "codemirror_mode": {
    "name": "ipython",
    "version": 3
   },
   "pygments_lexer": "ipython3",
   "nbconvert_exporter": "python",
   "file_extension": ".py"
  },
  "kernelspec": {
   "name": "python3",
   "display_name": "Python 3.7.0 64-bit ('base': conda)"
  },
  "interpreter": {
   "hash": "cef9e06bb236b2a8629b07e87a04b187b952a0f661eff5533360a155783f0c33"
  }
 },
 "nbformat": 4,
 "nbformat_minor": 2
}