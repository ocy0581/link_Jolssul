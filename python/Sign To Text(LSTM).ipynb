{
 "cells": [
  {
   "cell_type": "code",
   "execution_count": 4,
   "metadata": {},
   "outputs": [],
   "source": [
    "import os\n",
    "import warnings\n",
    "import tensorflow as tf\n",
    "import sklearn\n",
    "import numpy as np\n",
    "import matplotlib.pyplot as plt\n",
    "import matplotlib\n",
    "from sklearn.metrics import confusion_matrix\n",
    "from tensorflow.keras.utils import to_categorical\n",
    "from tensorflow.keras.preprocessing import sequence\n",
    "from tensorflow.keras import layers, models\n",
    "from tensorflow.keras.models import Sequential\n",
    "from tensorflow import keras\n",
    "from tensorflow.keras import layers\n",
    "from tensorflow.keras import optimizers\n",
    "from tensorflow.keras.layers import SimpleRNN, Dense\n",
    "from tensorflow.keras.layers import Bidirectional\n",
    "from tensorflow.compat.v1 import ConfigProto\n",
    "from tensorflow.compat.v1 import InteractiveSession\n",
    "import torch.nn.functional as F\n",
    "from sklearn.model_selection import train_test_split\n",
    "from sklearn.preprocessing import LabelBinarizer\n",
    "from tensorflow.keras.utils import to_categorical\n",
    "from keras.callbacks import Callback, ModelCheckpoint\n",
    "from matplotlib import pyplot\n",
    "import sys\n",
    "import tensorflow.keras as K"
   ]
  },
  {
   "cell_type": "code",
   "execution_count": 5,
   "metadata": {},
   "outputs": [
    {
     "data": {
      "text/plain": [
       "[name: \"/device:CPU:0\"\n",
       " device_type: \"CPU\"\n",
       " memory_limit: 268435456\n",
       " locality {\n",
       " }\n",
       " incarnation: 10868125902241690231,\n",
       " name: \"/device:GPU:0\"\n",
       " device_type: \"GPU\"\n",
       " memory_limit: 9988323456\n",
       " locality {\n",
       "   bus_id: 1\n",
       "   links {\n",
       "   }\n",
       " }\n",
       " incarnation: 11563577909884304717\n",
       " physical_device_desc: \"device: 0, name: NVIDIA GeForce GTX 1080 Ti, pci bus id: 0000:65:00.0, compute capability: 6.1\"]"
      ]
     },
     "execution_count": 5,
     "metadata": {},
     "output_type": "execute_result"
    }
   ],
   "source": [
    "import tensorflow as tf\n",
    "tf.__version__\n",
    "from tensorflow.python.client import device_lib\n",
    "device_lib.list_local_devices()"
   ]
  },
  {
   "cell_type": "code",
   "execution_count": 2,
   "metadata": {},
   "outputs": [
    {
     "data": {
      "text/plain": [
       "'\\ndevice = torch.device(\"cuda\")\\n# import gensim\\n'"
      ]
     },
     "execution_count": 2,
     "metadata": {},
     "output_type": "execute_result"
    }
   ],
   "source": [
    "import numpy as np\n",
    "import time\n",
    "import cv2\n",
    "import torch\n",
    "import math\n",
    "import pandas as pd\n",
    "import os\n",
    "import time\n",
    "\n",
    "\"\"\"\n",
    "device = torch.device(\"cuda\")\n",
    "# import gensim\n",
    "\"\"\""
   ]
  },
  {
   "cell_type": "code",
   "execution_count": 7,
   "metadata": {},
   "outputs": [
    {
     "name": "stdout",
     "output_type": "stream",
     "text": [
      "Num GPUs: 1\n"
     ]
    }
   ],
   "source": [
    "# GPU-initialization\n",
    "session = None\n",
    "if (session):\n",
    "    session.close()\n",
    "physical_devices = tf.config.list_physical_devices('GPU') \n",
    "print(\"Num GPUs:\", len(physical_devices)) \n",
    "\n",
    "config = ConfigProto()\n",
    "config.gpu_options.per_process_gpu_memory_fraction = 0.3\n",
    "config.gpu_options.allow_growth = True\n",
    "session = InteractiveSession(config=config)"
   ]
  },
  {
   "cell_type": "code",
   "execution_count": 8,
   "metadata": {},
   "outputs": [
    {
     "data": {
      "text/plain": [
       "\"\\ndef load_tensor(directions, dir_names, kors, directions_on = False):\\n    '''\\n    tensor 가져오는 방식을 csv에서 가져온 번호에서 부터 불러오도록 설정\\n    output 에 nums는 현재 가져온곳의 한글값을 표현하기 위해서 \\n    '''\\n    h_list = []\\n    answers = []\\n    \\n    for i, dir_name in enumerate(dir_names):\\n            \\n            path = 'output/tensor/'+dir_name\\n            if not (os.path.isdir(path)):\\n                continue\\n                \\n            if directions_on and not directions == '정면':\\n                continue\\n                \\n            h_list.append(torch.load(path+'/hand.pt'))\\n            print(dir_name, kors[i])\\n            answers.append(str(kors[i]))\\n\\n    return h_list, answers\\n\""
      ]
     },
     "execution_count": 8,
     "metadata": {},
     "output_type": "execute_result"
    }
   ],
   "source": [
    "\"\"\"\n",
    "def load_tensor(directions, dir_names, kors, directions_on = False):\n",
    "    '''\n",
    "    tensor 가져오는 방식을 csv에서 가져온 번호에서 부터 불러오도록 설정\n",
    "    output 에 nums는 현재 가져온곳의 한글값을 표현하기 위해서 \n",
    "    '''\n",
    "    h_list = []\n",
    "    answers = []\n",
    "    \n",
    "    for i, dir_name in enumerate(dir_names):\n",
    "            \n",
    "            path = 'output/tensor/'+dir_name\n",
    "            if not (os.path.isdir(path)):\n",
    "                continue\n",
    "                \n",
    "            if directions_on and not directions == '정면':\n",
    "                continue\n",
    "                \n",
    "            h_list.append(torch.load(path+'/hand.pt'))\n",
    "            print(dir_name, kors[i])\n",
    "            answers.append(str(kors[i]))\n",
    "\n",
    "    return h_list, answers\n",
    "\"\"\""
   ]
  },
  {
   "cell_type": "code",
   "execution_count": 9,
   "metadata": {},
   "outputs": [
    {
     "data": {
      "text/plain": [
       "'\\ncsv1 = pd.read_csv(\"output\\\\csv\\\\KETI-2017-SL-0_10480-v2_1.csv\")\\ncsv2 = pd.read_csv(\"output\\\\csv\\\\KETI-2018-SL-Annotation-v1.csv\")\\n\\ndirections = pd.concat([csv1[\\'방향\\'], csv2[\\'방향\\']], ignore_index=True)\\ndirections = directions[:43492]\\n\\ndir_names = pd.concat([csv1[\\'파일명\\'], csv2[\\'파일명\\']], ignore_index=True)\\ndir_names = dir_names[:43492]\\n\\nkors = pd.concat([csv1[\\'한국어\\'], csv2[\\'한국어\\']], ignore_index=True)\\nkors = kors[:43492]\\n'"
      ]
     },
     "execution_count": 9,
     "metadata": {},
     "output_type": "execute_result"
    }
   ],
   "source": [
    "\"\"\"\n",
    "csv1 = pd.read_csv(\"output\\csv\\KETI-2017-SL-0_10480-v2_1.csv\")\n",
    "csv2 = pd.read_csv(\"output\\csv\\KETI-2018-SL-Annotation-v1.csv\")\n",
    "\n",
    "directions = pd.concat([csv1['방향'], csv2['방향']], ignore_index=True)\n",
    "directions = directions[:43492]\n",
    "\n",
    "dir_names = pd.concat([csv1['파일명'], csv2['파일명']], ignore_index=True)\n",
    "dir_names = dir_names[:43492]\n",
    "\n",
    "kors = pd.concat([csv1['한국어'], csv2['한국어']], ignore_index=True)\n",
    "kors = kors[:43492]\n",
    "\"\"\""
   ]
  },
  {
   "cell_type": "code",
   "execution_count": 10,
   "metadata": {},
   "outputs": [],
   "source": [
    "#print(directions)"
   ]
  },
  {
   "cell_type": "code",
   "execution_count": 11,
   "metadata": {},
   "outputs": [],
   "source": [
    "def load_tensor(dir_path = [\".\", \"output\", \"tensor\"]):\n",
    "    '''\n",
    "    tensor 가져오는 방식을 csv에서 가져온 번호에서 부터 불러오도록 설정\n",
    "    output 에 nums는 현재 가져온곳의 한글값을 표현하기 위해서 \n",
    "    '''\n",
    "    dir_path = os.path.join(*dir_path)\n",
    "    tensor_folders = sorted(os.listdir(dir_path))\n",
    "    print(tensor_folders[1:9])\n",
    "    h_list = []\n",
    "    answers = []\n",
    "    \n",
    "    # 0 ~ 7 순회\n",
    "    for tensor_folder in tensor_folders[1:9]:\n",
    "        tensors_path = os.path.join(dir_path + \"/\" + tensor_folder)\n",
    "        tensors = sorted(os.listdir(tensors_path))\n",
    "        \n",
    "        # 각각의 숫자 순회\n",
    "        for tensor in tensors:\n",
    "            h_list.append(torch.load(tensors_path + \"/\" + tensor + \"/hand.pt\"))\n",
    "            answers.append(tensor_folder)\n",
    "            \n",
    "\n",
    "    return h_list, answers"
   ]
  },
  {
   "cell_type": "code",
   "execution_count": null,
   "metadata": {},
   "outputs": [],
   "source": [
    "import pandas as pd\n",
    "\n",
    "def load_tensor_aihub(dir_path = [\".\", \"output\", \"csv\"]):\n",
    "    '''\n",
    "    tensor 가져오는 방식을 csv에서 가져온 번호에서 부터 불러오도록 설정\n",
    "    output 에 nums는 현재 가져온곳의 한글값을 표현하기 위해서 \n",
    "    '''\n",
    "    \n",
    "    dir_path = os.path.join(*dir_path)\n",
    "    tensor_folders = sorted(os.listdir(dir_path))\n",
    "    \n",
    "    \n",
    "    # 0 ~ 7 순회\n",
    "    for tensor_folder in tensor_folders:\n",
    "        if 'v2_1_num' in tensor_folder:\n",
    "            num_csv = pd.read_csv(os.path.join(dir_path, tensor_folder))\n",
    "\n",
    "            \n",
    "    num_csv = num_csv[num_csv['한국어'] <= 7]  # 7 이하만 남김\n",
    "    answers = []\n",
    "    \n",
    "    dir_path = os.path.join('.', 'dummy')\n",
    "    tensor_folders = sorted(os.listdir(dir_path))\n",
    "    \n",
    "#     h_list = [''] * len(tensor_folders)\n",
    "    h_list = []\n",
    "    num_csv['파일명'] = num_csv['파일명'].map(lambda x : x.split('.')[0])\n",
    "\n",
    "    print(num_csv[:10])\n",
    "    \n",
    "    print('fuck', num_csv.loc[102]['한국어'])\n",
    "    \n",
    "          \n",
    "    for tensor_folder in tensor_folders:\n",
    "        if 'KETI' in tensor_folder :\n",
    "            idx = num_csv.index[tensor_folder == num_csv['파일명']].tolist()\n",
    "            \n",
    "            if len(idx) != 0:\n",
    "                tensors_path = os.path.join(dir_path + \"\\\\\" + tensor_folder)\n",
    "                tensors = sorted(os.listdir(tensors_path))        \n",
    "\n",
    "                lh = torch.load(tensors_path + \"\\\\\" + \"\\\\left_hand.pt\")\n",
    "                rh = torch.load(tensors_path + \"\\\\\" + \"\\\\right_hand.pt\")\n",
    "#                 print(idx[0])\n",
    "                h_list.append(torch.cat([lh, rh], dim=1))  \n",
    "                answers.append(str(num_csv.loc[idx[0]]['한국어']))\n",
    "    print(len(answers))\n",
    "            \n",
    "\n",
    "    return h_list, answers\n",
    "\n"
   ]
  },
  {
   "cell_type": "code",
   "execution_count": 8,
   "metadata": {},
   "outputs": [
    {
     "name": "stdout",
     "output_type": "stream",
     "text": [
      "['0', '1', '2', '3', '4', '5', '6', '7']\n"
     ]
    }
   ],
   "source": [
    "load_tensor()"
   ]
  },
  {
   "cell_type": "code",
   "execution_count": 12,
   "metadata": {},
   "outputs": [
    {
     "name": "stdout",
     "output_type": "stream",
     "text": [
      "['0', '1', '2', '3', '4', '5', '6', '7']\n"
     ]
    }
   ],
   "source": [
    "h_list, answers = load_tensor()\n",
    "answer_set = list(map(str, sorted(map(int, list(set(answers))))))"
   ]
  },
  {
   "cell_type": "code",
   "execution_count": 13,
   "metadata": {},
   "outputs": [
    {
     "name": "stdout",
     "output_type": "stream",
     "text": [
      "숫자 0 : 117\n",
      "숫자 1 : 117\n",
      "숫자 2 : 117\n",
      "숫자 3 : 117\n",
      "숫자 4 : 120\n",
      "숫자 5 : 123\n",
      "숫자 6 : 120\n",
      "숫자 7 : 123\n"
     ]
    }
   ],
   "source": [
    "for i in range(8):\n",
    "    print(\"숫자\", i, \":\", answers.count(str(i)))"
   ]
  },
  {
   "cell_type": "code",
   "execution_count": 16,
   "metadata": {},
   "outputs": [
    {
     "data": {
      "text/plain": [
       "torch.Size([41, 42, 3])"
      ]
     },
     "execution_count": 16,
     "metadata": {},
     "output_type": "execute_result"
    }
   ],
   "source": [
    "h_list[0].shape"
   ]
  },
  {
   "cell_type": "code",
   "execution_count": 17,
   "metadata": {},
   "outputs": [],
   "source": [
    "def matchFrame(lst, max_frame):\n",
    "    for i in range(len(lst)):\n",
    "        lst[i] = lst[i].view(lst[i].shape[0], -1)\n",
    "        lst[i] = np.array(F.pad(lst[i], (0, 0, 0, max_frame - lst[i].shape[0]), value=0))\n",
    "        \n",
    "    return np.array(lst)"
   ]
  },
  {
   "cell_type": "code",
   "execution_count": 18,
   "metadata": {
    "scrolled": true
   },
   "outputs": [
    {
     "name": "stdout",
     "output_type": "stream",
     "text": [
      "71\n"
     ]
    }
   ],
   "source": [
    "mx = 0\n",
    "for i in h_list:\n",
    "       mx = max(mx, i.shape[0])\n",
    "print(mx)"
   ]
  },
  {
   "cell_type": "code",
   "execution_count": 19,
   "metadata": {},
   "outputs": [
    {
     "ename": "NameError",
     "evalue": "name 'F' is not defined",
     "output_type": "error",
     "traceback": [
      "\u001b[1;31m---------------------------------------------------------------------------\u001b[0m",
      "\u001b[1;31mNameError\u001b[0m                                 Traceback (most recent call last)",
      "\u001b[1;32m<ipython-input-19-2d3eb3b936e8>\u001b[0m in \u001b[0;36m<module>\u001b[1;34m()\u001b[0m\n\u001b[1;32m----> 1\u001b[1;33m \u001b[0mhand_data\u001b[0m \u001b[1;33m=\u001b[0m \u001b[0mmatchFrame\u001b[0m\u001b[1;33m(\u001b[0m\u001b[0mh_list\u001b[0m\u001b[1;33m,\u001b[0m \u001b[1;36m71\u001b[0m\u001b[1;33m)\u001b[0m\u001b[1;33m\u001b[0m\u001b[0m\n\u001b[0m",
      "\u001b[1;32m<ipython-input-17-d56ecf8c306c>\u001b[0m in \u001b[0;36mmatchFrame\u001b[1;34m(lst, max_frame)\u001b[0m\n\u001b[0;32m      2\u001b[0m     \u001b[1;32mfor\u001b[0m \u001b[0mi\u001b[0m \u001b[1;32min\u001b[0m \u001b[0mrange\u001b[0m\u001b[1;33m(\u001b[0m\u001b[0mlen\u001b[0m\u001b[1;33m(\u001b[0m\u001b[0mlst\u001b[0m\u001b[1;33m)\u001b[0m\u001b[1;33m)\u001b[0m\u001b[1;33m:\u001b[0m\u001b[1;33m\u001b[0m\u001b[0m\n\u001b[0;32m      3\u001b[0m         \u001b[0mlst\u001b[0m\u001b[1;33m[\u001b[0m\u001b[0mi\u001b[0m\u001b[1;33m]\u001b[0m \u001b[1;33m=\u001b[0m \u001b[0mlst\u001b[0m\u001b[1;33m[\u001b[0m\u001b[0mi\u001b[0m\u001b[1;33m]\u001b[0m\u001b[1;33m.\u001b[0m\u001b[0mview\u001b[0m\u001b[1;33m(\u001b[0m\u001b[0mlst\u001b[0m\u001b[1;33m[\u001b[0m\u001b[0mi\u001b[0m\u001b[1;33m]\u001b[0m\u001b[1;33m.\u001b[0m\u001b[0mshape\u001b[0m\u001b[1;33m[\u001b[0m\u001b[1;36m0\u001b[0m\u001b[1;33m]\u001b[0m\u001b[1;33m,\u001b[0m \u001b[1;33m-\u001b[0m\u001b[1;36m1\u001b[0m\u001b[1;33m)\u001b[0m\u001b[1;33m\u001b[0m\u001b[0m\n\u001b[1;32m----> 4\u001b[1;33m         \u001b[0mlst\u001b[0m\u001b[1;33m[\u001b[0m\u001b[0mi\u001b[0m\u001b[1;33m]\u001b[0m \u001b[1;33m=\u001b[0m \u001b[0mnp\u001b[0m\u001b[1;33m.\u001b[0m\u001b[0marray\u001b[0m\u001b[1;33m(\u001b[0m\u001b[0mF\u001b[0m\u001b[1;33m.\u001b[0m\u001b[0mpad\u001b[0m\u001b[1;33m(\u001b[0m\u001b[0mlst\u001b[0m\u001b[1;33m[\u001b[0m\u001b[0mi\u001b[0m\u001b[1;33m]\u001b[0m\u001b[1;33m,\u001b[0m \u001b[1;33m(\u001b[0m\u001b[1;36m0\u001b[0m\u001b[1;33m,\u001b[0m \u001b[1;36m0\u001b[0m\u001b[1;33m,\u001b[0m \u001b[1;36m0\u001b[0m\u001b[1;33m,\u001b[0m \u001b[0mmax_frame\u001b[0m \u001b[1;33m-\u001b[0m \u001b[0mlst\u001b[0m\u001b[1;33m[\u001b[0m\u001b[0mi\u001b[0m\u001b[1;33m]\u001b[0m\u001b[1;33m.\u001b[0m\u001b[0mshape\u001b[0m\u001b[1;33m[\u001b[0m\u001b[1;36m0\u001b[0m\u001b[1;33m]\u001b[0m\u001b[1;33m)\u001b[0m\u001b[1;33m,\u001b[0m \u001b[0mvalue\u001b[0m\u001b[1;33m=\u001b[0m\u001b[1;36m0\u001b[0m\u001b[1;33m)\u001b[0m\u001b[1;33m)\u001b[0m\u001b[1;33m\u001b[0m\u001b[0m\n\u001b[0m\u001b[0;32m      5\u001b[0m \u001b[1;33m\u001b[0m\u001b[0m\n\u001b[0;32m      6\u001b[0m     \u001b[1;32mreturn\u001b[0m \u001b[0mnp\u001b[0m\u001b[1;33m.\u001b[0m\u001b[0marray\u001b[0m\u001b[1;33m(\u001b[0m\u001b[0mlst\u001b[0m\u001b[1;33m)\u001b[0m\u001b[1;33m\u001b[0m\u001b[0m\n",
      "\u001b[1;31mNameError\u001b[0m: name 'F' is not defined"
     ]
    }
   ],
   "source": [
    "hand_data = matchFrame(h_list, 71)"
   ]
  },
  {
   "cell_type": "code",
   "execution_count": 17,
   "metadata": {},
   "outputs": [],
   "source": [
    "x_train, x_val, y_train, y_val = train_test_split(hand_data, answers, test_size=0.4, random_state=42)\n",
    "x_val, x_test, y_val, y_test = train_test_split(x_val, y_val, test_size=0.5, random_state=42)"
   ]
  },
  {
   "cell_type": "code",
   "execution_count": 18,
   "metadata": {},
   "outputs": [
    {
     "name": "stdout",
     "output_type": "stream",
     "text": [
      "['0', '1', '2', '3', '4', '5', '6', '7']\n"
     ]
    }
   ],
   "source": [
    "print(answer_set)"
   ]
  },
  {
   "cell_type": "code",
   "execution_count": null,
   "metadata": {},
   "outputs": [],
   "source": [
    "hand_data.shape"
   ]
  },
  {
   "cell_type": "code",
   "execution_count": 19,
   "metadata": {},
   "outputs": [],
   "source": [
    "encoder = LabelBinarizer()\n",
    "test = encoder.fit_transform(answer_set)\n",
    "\n",
    "y_train = encoder.transform(y_train)\n",
    "y_val = encoder.transform(y_val)\n",
    "y_test = encoder.transform(y_test)"
   ]
  },
  {
   "cell_type": "code",
   "execution_count": 20,
   "metadata": {},
   "outputs": [
    {
     "name": "stdout",
     "output_type": "stream",
     "text": [
      "[[0 0 0 ... 1 0 0]\n",
      " [0 0 1 ... 0 0 0]\n",
      " [0 0 1 ... 0 0 0]\n",
      " ...\n",
      " [0 0 0 ... 0 0 1]\n",
      " [0 0 0 ... 0 0 0]\n",
      " [1 0 0 ... 0 0 0]]\n"
     ]
    }
   ],
   "source": [
    "print(y_train)"
   ]
  },
  {
   "cell_type": "markdown",
   "metadata": {},
   "source": []
  },
  {
   "cell_type": "code",
   "execution_count": 22,
   "metadata": {},
   "outputs": [
    {
     "name": "stdout",
     "output_type": "stream",
     "text": [
      "Model: \"model_1\"\n",
      "_________________________________________________________________\n",
      "Layer (type)                 Output Shape              Param #   \n",
      "=================================================================\n",
      "input_2 (InputLayer)         [(None, 71, 126)]         0         \n",
      "_________________________________________________________________\n",
      "bidirectional_5 (Bidirection (None, 71, 256)           261120    \n",
      "_________________________________________________________________\n",
      "dropout_5 (Dropout)          (None, 71, 256)           0         \n",
      "_________________________________________________________________\n",
      "bidirectional_6 (Bidirection (None, 71, 512)           1050624   \n",
      "_________________________________________________________________\n",
      "dropout_6 (Dropout)          (None, 71, 512)           0         \n",
      "_________________________________________________________________\n",
      "bidirectional_7 (Bidirection (None, 71, 512)           1574912   \n",
      "_________________________________________________________________\n",
      "dropout_7 (Dropout)          (None, 71, 512)           0         \n",
      "_________________________________________________________________\n",
      "bidirectional_8 (Bidirection (None, 71, 256)           656384    \n",
      "_________________________________________________________________\n",
      "dropout_8 (Dropout)          (None, 71, 256)           0         \n",
      "_________________________________________________________________\n",
      "bidirectional_9 (Bidirection (None, 512)               1050624   \n",
      "_________________________________________________________________\n",
      "dropout_9 (Dropout)          (None, 512)               0         \n",
      "_________________________________________________________________\n",
      "class_output (Dense)         (None, 8)                 4104      \n",
      "=================================================================\n",
      "Total params: 4,597,768\n",
      "Trainable params: 4,597,768\n",
      "Non-trainable params: 0\n",
      "_________________________________________________________________\n"
     ]
    }
   ],
   "source": [
    "# Model\n",
    "dropout = 0.2\n",
    "num_classes = len(answer_set)\n",
    "nodesizes = [256, 256, 128]\n",
    "\n",
    "inputs = keras.Input(shape=(x_train.shape[1], x_train.shape[2]))\n",
    "\n",
    "lstm = Bidirectional(layers.LSTM(128, return_sequences=True))(inputs)\n",
    "lstm = layers.Dropout(rate=dropout)(lstm)  \n",
    "\n",
    "for i in range(0,3):    #number of layers random between 1 an 3\n",
    "    lstm = Bidirectional(layers.LSTM(nodesizes[i],return_sequences=True))(lstm)\n",
    "    lstm = layers.Dropout(rate=dropout)(lstm)\n",
    "\n",
    "lstm = Bidirectional(layers.LSTM(256))(lstm)\n",
    "lstm = layers.Dropout(rate=dropout)(lstm)\n",
    "class_output = layers.Dense(num_classes, activation='softmax', name='class_output')(lstm)\n",
    "\n",
    "model = keras.models.Model(inputs=inputs, outputs=[class_output])\n",
    "# Plot the model graph\n",
    "#keras.utils.plot_model(model, 'nn_graph.png', show_shapes=True)\n",
    "\n",
    "model.compile(loss={\n",
    "    'class_output': 'categorical_crossentropy', \n",
    "    },\n",
    "    optimizer='Adamax',\n",
    "    metrics=['accuracy',tf.keras.metrics.Precision(),tf.keras.metrics.Recall()])\n",
    "\n",
    "model.summary()\n"
   ]
  },
  {
   "cell_type": "code",
   "execution_count": 23,
   "metadata": {},
   "outputs": [
    {
     "name": "stdout",
     "output_type": "stream",
     "text": [
      "WARNING:tensorflow:`period` argument is deprecated. Please use `save_freq` to specify the frequency in number of batches seen.\n",
      "Epoch 1/50\n",
      "20/20 [==============================] - 24s 308ms/step - loss: 2.0250 - accuracy: 0.1676 - precision_1: 0.1679 - recall_1: 0.0021 - val_loss: 1.8798 - val_accuracy: 0.1728 - val_precision_1: 0.5294 - val_recall_1: 0.0471\n",
      "WARNING:tensorflow:Can save best model only with val_acc available, skipping.\n",
      "Epoch 2/50\n",
      "20/20 [==============================] - 2s 86ms/step - loss: 1.5936 - accuracy: 0.3222 - precision_1: 0.5863 - recall_1: 0.0781 - val_loss: 1.5660 - val_accuracy: 0.3141 - val_precision_1: 0.7000 - val_recall_1: 0.1466\n",
      "WARNING:tensorflow:Can save best model only with val_acc available, skipping.\n",
      "Epoch 3/50\n",
      "20/20 [==============================] - 2s 87ms/step - loss: 1.3868 - accuracy: 0.3834 - precision_1: 0.6877 - recall_1: 0.2034 - val_loss: 1.0315 - val_accuracy: 0.5497 - val_precision_1: 0.7432 - val_recall_1: 0.2880\n",
      "WARNING:tensorflow:Can save best model only with val_acc available, skipping.\n",
      "Epoch 4/50\n",
      "20/20 [==============================] - 2s 92ms/step - loss: 0.9618 - accuracy: 0.5352 - precision_1: 0.6753 - recall_1: 0.3133 - val_loss: 0.9657 - val_accuracy: 0.5236 - val_precision_1: 0.5143 - val_recall_1: 0.2827\n",
      "WARNING:tensorflow:Can save best model only with val_acc available, skipping.\n",
      "Epoch 5/50\n",
      "20/20 [==============================] - 2s 86ms/step - loss: 0.7494 - accuracy: 0.6181 - precision_1: 0.7126 - recall_1: 0.4979 - val_loss: 1.6761 - val_accuracy: 0.3351 - val_precision_1: 0.3865 - val_recall_1: 0.3298\n",
      "WARNING:tensorflow:Can save best model only with val_acc available, skipping.\n",
      "Epoch 6/50\n",
      "20/20 [==============================] - 2s 84ms/step - loss: 1.2419 - accuracy: 0.4828 - precision_1: 0.5269 - recall_1: 0.4316 - val_loss: 0.6543 - val_accuracy: 0.7539 - val_precision_1: 0.8630 - val_recall_1: 0.6597\n",
      "WARNING:tensorflow:Can save best model only with val_acc available, skipping.\n",
      "Epoch 7/50\n",
      "20/20 [==============================] - 2s 85ms/step - loss: 0.6916 - accuracy: 0.7240 - precision_1: 0.7831 - recall_1: 0.5797 - val_loss: 0.4985 - val_accuracy: 0.7435 - val_precision_1: 0.7765 - val_recall_1: 0.7277\n",
      "WARNING:tensorflow:Can save best model only with val_acc available, skipping.\n",
      "Epoch 8/50\n",
      "20/20 [==============================] - 2s 86ms/step - loss: 0.3862 - accuracy: 0.8407 - precision_1: 0.8655 - recall_1: 0.8059 - val_loss: 0.3132 - val_accuracy: 0.8429 - val_precision_1: 0.8541 - val_recall_1: 0.8272\n",
      "WARNING:tensorflow:Can save best model only with val_acc available, skipping.\n",
      "Epoch 9/50\n",
      "20/20 [==============================] - 2s 85ms/step - loss: 0.3117 - accuracy: 0.8689 - precision_1: 0.8746 - recall_1: 0.8522 - val_loss: 0.3323 - val_accuracy: 0.8429 - val_precision_1: 0.8503 - val_recall_1: 0.8325\n",
      "WARNING:tensorflow:Can save best model only with val_acc available, skipping.\n",
      "Epoch 10/50\n",
      "20/20 [==============================] - 2s 82ms/step - loss: 0.2841 - accuracy: 0.8905 - precision_1: 0.8909 - recall_1: 0.8903 - val_loss: 0.5683 - val_accuracy: 0.7958 - val_precision_1: 0.8000 - val_recall_1: 0.7958\n",
      "WARNING:tensorflow:Can save best model only with val_acc available, skipping.\n",
      "Epoch 11/50\n",
      "20/20 [==============================] - 2s 80ms/step - loss: 0.6661 - accuracy: 0.7715 - precision_1: 0.7775 - recall_1: 0.7661 - val_loss: 0.3169 - val_accuracy: 0.8953 - val_precision_1: 0.9081 - val_recall_1: 0.8796\n",
      "WARNING:tensorflow:Can save best model only with val_acc available, skipping.\n",
      "Epoch 12/50\n",
      "20/20 [==============================] - 2s 85ms/step - loss: 0.4027 - accuracy: 0.8551 - precision_1: 0.8571 - recall_1: 0.8430 - val_loss: 0.1863 - val_accuracy: 0.9529 - val_precision_1: 0.9529 - val_recall_1: 0.9529\n",
      "WARNING:tensorflow:Can save best model only with val_acc available, skipping.\n",
      "Epoch 13/50\n",
      "20/20 [==============================] - 2s 85ms/step - loss: 0.1530 - accuracy: 0.9641 - precision_1: 0.9641 - recall_1: 0.9638 - val_loss: 0.0860 - val_accuracy: 0.9686 - val_precision_1: 0.9686 - val_recall_1: 0.9686\n",
      "WARNING:tensorflow:Can save best model only with val_acc available, skipping.\n",
      "Epoch 14/50\n",
      "20/20 [==============================] - 2s 86ms/step - loss: 0.0724 - accuracy: 0.9879 - precision_1: 0.9879 - recall_1: 0.9879 - val_loss: 0.2885 - val_accuracy: 0.9005 - val_precision_1: 0.9005 - val_recall_1: 0.9005\n",
      "WARNING:tensorflow:Can save best model only with val_acc available, skipping.\n",
      "Epoch 15/50\n",
      "20/20 [==============================] - 2s 88ms/step - loss: 0.2075 - accuracy: 0.8996 - precision_1: 0.9005 - recall_1: 0.8996 - val_loss: 0.1353 - val_accuracy: 0.9738 - val_precision_1: 0.9738 - val_recall_1: 0.9738\n",
      "WARNING:tensorflow:Can save best model only with val_acc available, skipping.\n",
      "Epoch 16/50\n",
      "20/20 [==============================] - 2s 87ms/step - loss: 0.1492 - accuracy: 0.9571 - precision_1: 0.9571 - recall_1: 0.9571 - val_loss: 0.3972 - val_accuracy: 0.8272 - val_precision_1: 0.8404 - val_recall_1: 0.8272\n",
      "WARNING:tensorflow:Can save best model only with val_acc available, skipping.\n",
      "Epoch 17/50\n",
      "20/20 [==============================] - 2s 88ms/step - loss: 0.2790 - accuracy: 0.8744 - precision_1: 0.8761 - recall_1: 0.8727 - val_loss: 0.1663 - val_accuracy: 0.9424 - val_precision_1: 0.9474 - val_recall_1: 0.9424\n",
      "WARNING:tensorflow:Can save best model only with val_acc available, skipping.\n",
      "Epoch 18/50\n",
      "20/20 [==============================] - 2s 90ms/step - loss: 0.2594 - accuracy: 0.9044 - precision_1: 0.9044 - recall_1: 0.9044 - val_loss: 0.2304 - val_accuracy: 0.9005 - val_precision_1: 0.9053 - val_recall_1: 0.9005\n",
      "WARNING:tensorflow:Can save best model only with val_acc available, skipping.\n",
      "Epoch 19/50\n",
      "20/20 [==============================] - 2s 94ms/step - loss: 0.0932 - accuracy: 0.9662 - precision_1: 0.9695 - recall_1: 0.9662 - val_loss: 0.0962 - val_accuracy: 0.9581 - val_precision_1: 0.9581 - val_recall_1: 0.9581\n",
      "WARNING:tensorflow:Can save best model only with val_acc available, skipping.\n",
      "Epoch 20/50\n",
      "20/20 [==============================] - 2s 93ms/step - loss: 0.0626 - accuracy: 0.9907 - precision_1: 0.9907 - recall_1: 0.9907 - val_loss: 0.0735 - val_accuracy: 0.9791 - val_precision_1: 0.9791 - val_recall_1: 0.9791\n",
      "WARNING:tensorflow:Can save best model only with val_acc available, skipping.\n",
      "Epoch 21/50\n",
      "20/20 [==============================] - 2s 94ms/step - loss: 0.0309 - accuracy: 0.9966 - precision_1: 0.9966 - recall_1: 0.9966 - val_loss: 0.0888 - val_accuracy: 0.9738 - val_precision_1: 0.9738 - val_recall_1: 0.9738\n",
      "WARNING:tensorflow:Can save best model only with val_acc available, skipping.\n",
      "Epoch 22/50\n",
      "20/20 [==============================] - 2s 97ms/step - loss: 0.0861 - accuracy: 0.9756 - precision_1: 0.9756 - recall_1: 0.9756 - val_loss: 0.1269 - val_accuracy: 0.9476 - val_precision_1: 0.9476 - val_recall_1: 0.9476\n",
      "WARNING:tensorflow:Can save best model only with val_acc available, skipping.\n",
      "Epoch 23/50\n",
      "20/20 [==============================] - 2s 96ms/step - loss: 0.4381 - accuracy: 0.8530 - precision_1: 0.8557 - recall_1: 0.8527 - val_loss: 0.1873 - val_accuracy: 0.9581 - val_precision_1: 0.9581 - val_recall_1: 0.9581\n",
      "WARNING:tensorflow:Can save best model only with val_acc available, skipping.\n",
      "Epoch 24/50\n",
      "20/20 [==============================] - 2s 96ms/step - loss: 0.2830 - accuracy: 0.8944 - precision_1: 0.9004 - recall_1: 0.8919 - val_loss: 0.1715 - val_accuracy: 0.9529 - val_precision_1: 0.9731 - val_recall_1: 0.9476\n",
      "WARNING:tensorflow:Can save best model only with val_acc available, skipping.\n",
      "Epoch 25/50\n",
      "20/20 [==============================] - 2s 94ms/step - loss: 0.1184 - accuracy: 0.9691 - precision_1: 0.9719 - recall_1: 0.9678 - val_loss: 0.0894 - val_accuracy: 0.9791 - val_precision_1: 0.9791 - val_recall_1: 0.9791\n",
      "WARNING:tensorflow:Can save best model only with val_acc available, skipping.\n",
      "Epoch 26/50\n",
      "20/20 [==============================] - 2s 91ms/step - loss: 0.0505 - accuracy: 0.9885 - precision_1: 0.9885 - recall_1: 0.9885 - val_loss: 0.0523 - val_accuracy: 0.9843 - val_precision_1: 0.9842 - val_recall_1: 0.9791\n",
      "WARNING:tensorflow:Can save best model only with val_acc available, skipping.\n",
      "Epoch 27/50\n",
      "20/20 [==============================] - 2s 95ms/step - loss: 0.0242 - accuracy: 1.0000 - precision_1: 1.0000 - recall_1: 1.0000 - val_loss: 0.0466 - val_accuracy: 0.9895 - val_precision_1: 0.9895 - val_recall_1: 0.9843\n",
      "WARNING:tensorflow:Can save best model only with val_acc available, skipping.\n",
      "Epoch 28/50\n",
      "20/20 [==============================] - 2s 94ms/step - loss: 0.0170 - accuracy: 1.0000 - precision_1: 1.0000 - recall_1: 1.0000 - val_loss: 0.0585 - val_accuracy: 0.9895 - val_precision_1: 0.9895 - val_recall_1: 0.9843\n",
      "WARNING:tensorflow:Can save best model only with val_acc available, skipping.\n",
      "Epoch 29/50\n",
      "20/20 [==============================] - 2s 93ms/step - loss: 0.0133 - accuracy: 1.0000 - precision_1: 1.0000 - recall_1: 1.0000 - val_loss: 0.0560 - val_accuracy: 0.9895 - val_precision_1: 0.9895 - val_recall_1: 0.9843\n",
      "WARNING:tensorflow:Can save best model only with val_acc available, skipping.\n",
      "Epoch 30/50\n",
      "20/20 [==============================] - 2s 92ms/step - loss: 0.0097 - accuracy: 1.0000 - precision_1: 1.0000 - recall_1: 1.0000 - val_loss: 0.0373 - val_accuracy: 0.9895 - val_precision_1: 0.9947 - val_recall_1: 0.9895\n",
      "WARNING:tensorflow:Can save best model only with val_acc available, skipping.\n",
      "Epoch 31/50\n",
      "20/20 [==============================] - 2s 94ms/step - loss: 0.0082 - accuracy: 1.0000 - precision_1: 1.0000 - recall_1: 1.0000 - val_loss: 0.0601 - val_accuracy: 0.9843 - val_precision_1: 0.9895 - val_recall_1: 0.9843\n",
      "WARNING:tensorflow:Can save best model only with val_acc available, skipping.\n",
      "Epoch 32/50\n",
      "20/20 [==============================] - 2s 94ms/step - loss: 0.0108 - accuracy: 0.9973 - precision_1: 0.9973 - recall_1: 0.9973 - val_loss: 0.0359 - val_accuracy: 0.9895 - val_precision_1: 0.9947 - val_recall_1: 0.9895\n",
      "WARNING:tensorflow:Can save best model only with val_acc available, skipping.\n",
      "Epoch 33/50\n",
      "20/20 [==============================] - 2s 95ms/step - loss: 0.0129 - accuracy: 0.9983 - precision_1: 0.9983 - recall_1: 0.9983 - val_loss: 0.0757 - val_accuracy: 0.9895 - val_precision_1: 0.9895 - val_recall_1: 0.9843\n",
      "WARNING:tensorflow:Can save best model only with val_acc available, skipping.\n",
      "Epoch 34/50\n",
      "20/20 [==============================] - 2s 97ms/step - loss: 0.1071 - accuracy: 0.9720 - precision_1: 0.9720 - recall_1: 0.9720 - val_loss: 0.0318 - val_accuracy: 0.9948 - val_precision_1: 0.9948 - val_recall_1: 0.9948\n",
      "WARNING:tensorflow:Can save best model only with val_acc available, skipping.\n",
      "Epoch 35/50\n",
      "20/20 [==============================] - 2s 95ms/step - loss: 0.0318 - accuracy: 0.9931 - precision_1: 0.9931 - recall_1: 0.9915 - val_loss: 0.0293 - val_accuracy: 0.9895 - val_precision_1: 0.9895 - val_recall_1: 0.9895\n",
      "WARNING:tensorflow:Can save best model only with val_acc available, skipping.\n",
      "Epoch 36/50\n",
      "20/20 [==============================] - 2s 96ms/step - loss: 0.0111 - accuracy: 1.0000 - precision_1: 1.0000 - recall_1: 1.0000 - val_loss: 0.0326 - val_accuracy: 0.9843 - val_precision_1: 0.9843 - val_recall_1: 0.9843\n",
      "WARNING:tensorflow:Can save best model only with val_acc available, skipping.\n",
      "Epoch 37/50\n",
      "20/20 [==============================] - 2s 92ms/step - loss: 0.0066 - accuracy: 1.0000 - precision_1: 1.0000 - recall_1: 1.0000 - val_loss: 0.0248 - val_accuracy: 0.9895 - val_precision_1: 0.9895 - val_recall_1: 0.9895\n",
      "WARNING:tensorflow:Can save best model only with val_acc available, skipping.\n",
      "Epoch 38/50\n",
      "20/20 [==============================] - 2s 93ms/step - loss: 0.0050 - accuracy: 1.0000 - precision_1: 1.0000 - recall_1: 1.0000 - val_loss: 0.0182 - val_accuracy: 0.9895 - val_precision_1: 0.9895 - val_recall_1: 0.9895\n",
      "WARNING:tensorflow:Can save best model only with val_acc available, skipping.\n",
      "Epoch 39/50\n",
      "20/20 [==============================] - 2s 97ms/step - loss: 0.0042 - accuracy: 1.0000 - precision_1: 1.0000 - recall_1: 1.0000 - val_loss: 0.0149 - val_accuracy: 0.9895 - val_precision_1: 0.9895 - val_recall_1: 0.9895\n",
      "WARNING:tensorflow:Can save best model only with val_acc available, skipping.\n",
      "Epoch 40/50\n",
      "20/20 [==============================] - 2s 96ms/step - loss: 0.0041 - accuracy: 1.0000 - precision_1: 1.0000 - recall_1: 1.0000 - val_loss: 0.0145 - val_accuracy: 0.9895 - val_precision_1: 0.9895 - val_recall_1: 0.9895\n",
      "WARNING:tensorflow:Can save best model only with val_acc available, skipping.\n",
      "Epoch 41/50\n",
      "20/20 [==============================] - 2s 96ms/step - loss: 0.0040 - accuracy: 1.0000 - precision_1: 1.0000 - recall_1: 1.0000 - val_loss: 0.0364 - val_accuracy: 0.9895 - val_precision_1: 0.9895 - val_recall_1: 0.9895\n",
      "WARNING:tensorflow:Can save best model only with val_acc available, skipping.\n",
      "Epoch 42/50\n",
      "20/20 [==============================] - 2s 92ms/step - loss: 0.0036 - accuracy: 1.0000 - precision_1: 1.0000 - recall_1: 1.0000 - val_loss: 0.0209 - val_accuracy: 0.9895 - val_precision_1: 0.9895 - val_recall_1: 0.9895\n",
      "WARNING:tensorflow:Can save best model only with val_acc available, skipping.\n",
      "Epoch 43/50\n",
      "20/20 [==============================] - 2s 93ms/step - loss: 0.0033 - accuracy: 1.0000 - precision_1: 1.0000 - recall_1: 1.0000 - val_loss: 0.0160 - val_accuracy: 0.9895 - val_precision_1: 0.9895 - val_recall_1: 0.9895\n",
      "WARNING:tensorflow:Can save best model only with val_acc available, skipping.\n",
      "Epoch 44/50\n",
      "20/20 [==============================] - 2s 93ms/step - loss: 0.0030 - accuracy: 1.0000 - precision_1: 1.0000 - recall_1: 1.0000 - val_loss: 0.0152 - val_accuracy: 0.9895 - val_precision_1: 0.9895 - val_recall_1: 0.9895\n",
      "WARNING:tensorflow:Can save best model only with val_acc available, skipping.\n",
      "Epoch 45/50\n",
      "20/20 [==============================] - 2s 94ms/step - loss: 0.0029 - accuracy: 1.0000 - precision_1: 1.0000 - recall_1: 1.0000 - val_loss: 0.0168 - val_accuracy: 0.9895 - val_precision_1: 0.9895 - val_recall_1: 0.9895\n",
      "WARNING:tensorflow:Can save best model only with val_acc available, skipping.\n",
      "Epoch 46/50\n",
      "20/20 [==============================] - 2s 96ms/step - loss: 0.0028 - accuracy: 1.0000 - precision_1: 1.0000 - recall_1: 1.0000 - val_loss: 0.0166 - val_accuracy: 0.9895 - val_precision_1: 0.9895 - val_recall_1: 0.9895\n",
      "WARNING:tensorflow:Can save best model only with val_acc available, skipping.\n",
      "Epoch 47/50\n",
      "20/20 [==============================] - 2s 96ms/step - loss: 0.0027 - accuracy: 1.0000 - precision_1: 1.0000 - recall_1: 1.0000 - val_loss: 0.0149 - val_accuracy: 0.9895 - val_precision_1: 0.9895 - val_recall_1: 0.9895\n",
      "WARNING:tensorflow:Can save best model only with val_acc available, skipping.\n",
      "Epoch 48/50\n",
      "20/20 [==============================] - 2s 98ms/step - loss: 0.0025 - accuracy: 1.0000 - precision_1: 1.0000 - recall_1: 1.0000 - val_loss: 0.0145 - val_accuracy: 0.9895 - val_precision_1: 0.9895 - val_recall_1: 0.9895\n",
      "WARNING:tensorflow:Can save best model only with val_acc available, skipping.\n",
      "Epoch 49/50\n",
      "20/20 [==============================] - 2s 94ms/step - loss: 0.0024 - accuracy: 1.0000 - precision_1: 1.0000 - recall_1: 1.0000 - val_loss: 0.0149 - val_accuracy: 0.9895 - val_precision_1: 0.9895 - val_recall_1: 0.9895\n",
      "WARNING:tensorflow:Can save best model only with val_acc available, skipping.\n",
      "Epoch 50/50\n",
      "20/20 [==============================] - 2s 96ms/step - loss: 0.0023 - accuracy: 1.0000 - precision_1: 1.0000 - recall_1: 1.0000 - val_loss: 0.0150 - val_accuracy: 0.9895 - val_precision_1: 0.9895 - val_recall_1: 0.9895\n",
      "WARNING:tensorflow:Can save best model only with val_acc available, skipping.\n"
     ]
    }
   ],
   "source": [
    "# Train\n",
    "checkpoint = ModelCheckpoint('model.h5', monitor='val_accuracy', verbose=1, mode = 'max', save_best_only=True, save_weights_only=False, period=1)\n",
    "\n",
    "history = model.fit(\n",
    "    x_train, y_train, \n",
    "    epochs=50, \n",
    "    batch_size=30, \n",
    "    validation_data=(x_val,y_val), \n",
    "    callbacks = [checkpoint],\n",
    "    shuffle=False)"
   ]
  },
  {
   "cell_type": "markdown",
   "metadata": {},
   "source": [
    "---"
   ]
  },
  {
   "cell_type": "code",
   "execution_count": 31,
   "metadata": {},
   "outputs": [
    {
     "data": {
      "image/png": "[encoded data removed]",
      "text/plain": [
       "<Figure size 432x288 with 1 Axes>"
      ]
     },
     "metadata": {
      "needs_background": "light"
     },
     "output_type": "display_data"
    },
    {
     "data": {
      "text/plain": [
       "<Figure size 432x288 with 0 Axes>"
      ]
     },
     "metadata": {},
     "output_type": "display_data"
    }
   ],
   "source": [
    "# 도화지 생성\n",
    "fig = plt.figure()\n",
    "# 정확도 그래프 그리기\n",
    "plt.plot(range(50), history.history['val_accuracy'], label='Accuracy', color='darkred')\n",
    "# 축 이름\n",
    "plt.xlabel('epochs')\n",
    "plt.ylabel('검증 정확도(%)')\n",
    "plt.title('epoch에 따른 검증 데이터에 대한 정확도 그래프')\n",
    "plt.grid(linestyle='--', color='lavender')\n",
    "# 그래프 표시\n",
    "plt.show()\n",
    "# 그래프 저장\n",
    "plt.savefig('sign_launguage_acc.png')"
   ]
  },
  {
   "cell_type": "markdown",
   "metadata": {},
   "source": [
    "---\n",
    "### Predict"
   ]
  },
  {
   "cell_type": "code",
   "execution_count": 221,
   "metadata": {
    "scrolled": true
   },
   "outputs": [],
   "source": [
    "prec = []\n",
    "\n",
    "pred_datas_path = os.path.join('.', 'output', 'tensor', 'num')\n",
    "pred_datas = sorted(os.listdir(pred_datas_path))\n",
    "\n",
    "for pred_data in pred_datas:\n",
    "    pred_data_path = pred_datas_path + \"\\\\\" + pred_data\n",
    "    for data in os.listdir(pred_data_path):\n",
    "        prec.append(torch.load(pred_data_path + \"\\\\\" + data))"
   ]
  },
  {
   "cell_type": "code",
   "execution_count": 224,
   "metadata": {},
   "outputs": [],
   "source": [
    "prec = matchFrame(prec, 71)"
   ]
  },
  {
   "cell_type": "code",
   "execution_count": 226,
   "metadata": {},
   "outputs": [
    {
     "data": {
      "text/plain": [
       "(8, 71, 126)"
      ]
     },
     "execution_count": 226,
     "metadata": {},
     "output_type": "execute_result"
    }
   ],
   "source": [
    "prec.shape"
   ]
  },
  {
   "cell_type": "code",
   "execution_count": 232,
   "metadata": {},
   "outputs": [
    {
     "data": {
      "text/plain": [
       "(71, 126)"
      ]
     },
     "execution_count": 232,
     "metadata": {},
     "output_type": "execute_result"
    }
   ],
   "source": [
    "prec[0].shape"
   ]
  },
  {
   "cell_type": "code",
   "execution_count": 243,
   "metadata": {},
   "outputs": [
    {
     "name": "stdout",
     "output_type": "stream",
     "text": [
      "1st data :  1\n",
      "2st data :  0\n",
      "3st data :  2\n",
      "4st data :  3\n",
      "5st data :  4\n",
      "6st data :  5\n",
      "7st data :  7\n",
      "8st data :  7\n"
     ]
    }
   ],
   "source": [
    "for i, result in enumerate(model.predict(prec)):\n",
    "    print(str(i+1) + \"st data : \", np.argmax(result))"
   ]
  },
  {
   "cell_type": "code",
   "execution_count": null,
   "metadata": {},
   "outputs": [],
   "source": []
  }
 ],
 "metadata": {
  "kernelspec": {
   "display_name": "Python 3",
   "language": "python",
   "name": "python3"
  },
  "language_info": {
   "codemirror_mode": {
    "name": "ipython",
    "version": 3
   },
   "file_extension": ".py",
   "mimetype": "text/x-python",
   "name": "python",
   "nbconvert_exporter": "python",
   "pygments_lexer": "ipython3",
   "version": "3.6.9"
  }
 },
 "nbformat": 4,
 "nbformat_minor": 4
}
