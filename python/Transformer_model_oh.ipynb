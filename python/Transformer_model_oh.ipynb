{
 "metadata": {
  "language_info": {
   "codemirror_mode": {
    "name": "ipython",
    "version": 3
   },
   "file_extension": ".py",
   "mimetype": "text/x-python",
   "name": "python",
   "nbconvert_exporter": "python",
   "pygments_lexer": "ipython3",
   "version": "3.7.0"
  },
  "orig_nbformat": 2,
  "kernelspec": {
   "name": "python370jvsc74a57bd0cef9e06bb236b2a8629b07e87a04b187b952a0f661eff5533360a155783f0c33",
   "display_name": "Python 3.7.0 64-bit ('base': conda)"
  }
 },
 "nbformat": 4,
 "nbformat_minor": 2,
 "cells": [
  {
   "source": [
    "# 매개변수 및 맞춰야하는것들\n",
    "\n",
    "#Pytorch cuda 사용법\n",
    "\n",
    "모든 X, Y data와 model, loss까지 전부 .to(\"cuda\")를 한번은 붙어서 tensor를 cuda에 올려줘야함\n",
    "\n",
    "\n",
    "1. transformer encode input shape(source_seq, batch, feature)\n",
    "\n",
    "2. trnasformer decode input shape(target_seq, batch, feature)\n",
    "\n",
    "encode,decode 둘다 feature = d_model과 같은 차원이어야함\n",
    "\n",
    "output.shape(target_seq, batch, feature)\n",
    "\n",
    "\n",
    "\n",
    "임베딩과 포지셔닝 인코딩은 transformer넣기 전에 맞춰야하고 그 앞에는 따로 만들수 있음\n",
    "\n",
    "\n",
    "generate_square_subsequent_mask =  seq사이즈로 선언하고 이것의 의미는\n",
    "\n",
    "generate_square_subsequent_mask(4) 기준\n",
    "\n",
    "[[0, -inf, -inf ,-inf\\],\n",
    "\n",
    " [0, 0, -inf, -inf\\],\n",
    "\n",
    " [0, 0, 0, -inf\\],\n",
    "\n",
    " [0, 0, 0, 0\\]\\]\n",
    "으로 선언되는것임\n",
    "\n",
    "tranformer에 들어가는 인풋은 \n",
    "\n",
    "src, tgt, src_mask, tgt_mask 가 있고 각각은 다음과 같다\n",
    "\n",
    "> src = encode_data\n",
    "\n",
    "> tgt = decode_data\n",
    "\n",
    "> src_mask = encode_data의 마스크\n",
    "\n",
    "> tgt_mask = decode_data의 마스크\n",
    "\n",
    "\n",
    "\n"
   ],
   "cell_type": "markdown",
   "metadata": {}
  },
  {
   "source": [
    "## 만들어야하는것\n",
    "\n",
    "train, predict , 코드는 찾음\n",
    "\n",
    "embedding, tokenizer의 경우 좀더 찾아봐ㅑ함\n",
    "\n",
    "\n",
    "## 확인된것\n",
    "\n",
    "transformer의 input , output의 상태 , 어떻게 변형시켜야하는지\n",
    "\n",
    "\n",
    "\n",
    "\n"
   ],
   "cell_type": "markdown",
   "metadata": {}
  },
  {
   "source": [
    "![](img\\transformer_attention_overview.png)"
   ],
   "cell_type": "markdown",
   "metadata": {}
  },
  {
   "source": [
    "## Import Modules"
   ],
   "cell_type": "markdown",
   "metadata": {}
  },
  {
   "cell_type": "code",
   "execution_count": 2,
   "metadata": {},
   "outputs": [],
   "source": [
    "import mediapipe as mp\n",
    "import numpy as np\n",
    "import time\n",
    "import cv2\n",
    "import torch\n",
    "import math\n",
    "import pandas as pd\n",
    "import os\n",
    "import time\n",
    "\n",
    "device = torch.device(\"cpu\")\n",
    "# import gensim"
   ]
  },
  {
   "cell_type": "code",
   "execution_count": 1,
   "metadata": {},
   "outputs": [],
   "source": [
    "data_shape = (192,32,63)\n",
    "max_scale = 0.1"
   ]
  },
  {
   "cell_type": "code",
   "execution_count": 3,
   "metadata": {},
   "outputs": [],
   "source": [
    "a = torch.FloatTensor([0.5,0.5,0.5]*21).repeat(data_shape[0]*data_shape[1]).reshape(data_shape)\n"
   ]
  },
  {
   "cell_type": "code",
   "execution_count": 10,
   "metadata": {},
   "outputs": [
    {
     "output_type": "execute_result",
     "data": {
      "text/plain": [
       "(torch.Size([192, 32, 63]), torch.Size([192, 32, 63]))"
      ]
     },
     "metadata": {},
     "execution_count": 10
    }
   ],
   "source": [
    "import random\n",
    "import math\n",
    "import augmentation\n",
    "# (a*(random.random()*max_scale*2 - max_scale))[0,0,:20]\n",
    "# a * math.cos(math.pi/3)\n",
    "\n",
    "aug2 = augmentation.DataAugmentation(a,eps=2)\n",
    "aug2.x.shape , aug2.y.shape "
   ]
  },
  {
   "cell_type": "code",
   "execution_count": 17,
   "metadata": {},
   "outputs": [
    {
     "output_type": "execute_result",
     "data": {
      "text/plain": [
       "0.9510565162951535"
      ]
     },
     "metadata": {},
     "execution_count": 17
    }
   ],
   "source": [
    "math.cos(math.pi/)"
   ]
  },
  {
   "cell_type": "code",
   "execution_count": 12,
   "metadata": {},
   "outputs": [
    {
     "output_type": "stream",
     "name": "stdout",
     "text": [
      "x증식 =======================\n",
      "tensor([0.5727, 0.5000, 0.5000, 0.5727, 0.5000, 0.5000, 0.5727, 0.5000, 0.5000,\n",
      "        0.5727, 0.5000, 0.5000, 0.5727, 0.5000, 0.5000, 0.5727, 0.5000, 0.5000,\n",
      "        0.5727, 0.5000, 0.5000, 0.5727, 0.5000, 0.5000, 0.5727, 0.5000, 0.5000,\n",
      "        0.5727, 0.5000, 0.5000, 0.5727, 0.5000, 0.5000, 0.5727, 0.5000, 0.5000,\n",
      "        0.5727, 0.5000, 0.5000, 0.5727, 0.5000, 0.5000, 0.5727, 0.5000, 0.5000,\n",
      "        0.5727, 0.5000, 0.5000, 0.5727, 0.5000, 0.5000, 0.5727, 0.5000, 0.5000,\n",
      "        0.5727, 0.5000, 0.5000, 0.5727, 0.5000, 0.5000, 0.5727, 0.5000, 0.5000])\n",
      "============\n",
      "y증식=======================\n",
      "tensor([0.5727, 0.5581, 0.5000, 0.5727, 0.5581, 0.5000, 0.5727, 0.5581, 0.5000,\n",
      "        0.5727, 0.5581, 0.5000, 0.5727, 0.5581, 0.5000, 0.5727, 0.5581, 0.5000,\n",
      "        0.5727, 0.5581, 0.5000, 0.5727, 0.5581, 0.5000, 0.5727, 0.5581, 0.5000,\n",
      "        0.5727, 0.5581, 0.5000, 0.5727, 0.5581, 0.5000, 0.5727, 0.5581, 0.5000,\n",
      "        0.5727, 0.5581, 0.5000, 0.5727, 0.5581, 0.5000, 0.5727, 0.5581, 0.5000,\n",
      "        0.5727, 0.5581, 0.5000, 0.5727, 0.5581, 0.5000, 0.5727, 0.5581, 0.5000,\n",
      "        0.5727, 0.5581, 0.5000, 0.5727, 0.5581, 0.5000, 0.5727, 0.5581, 0.5000])\n",
      "============\n",
      "x,회전=======================\n",
      "tensor([0.5727, 0.5581, 0.5000, 0.5727, 0.5581, 0.5000, 0.5727, 0.5581, 0.5000,\n",
      "        0.5727, 0.5581, 0.5000, 0.5727, 0.5581, 0.5000, 0.5727, 0.5581, 0.5000,\n",
      "        0.5727, 0.5581, 0.5000, 0.5727, 0.5581, 0.5000, 0.5727, 0.5581, 0.5000,\n",
      "        0.5727, 0.5581, 0.5000, 0.5727, 0.5581, 0.5000, 0.5727, 0.5581, 0.5000,\n",
      "        0.5727, 0.5581, 0.5000, 0.5727, 0.5581, 0.5000, 0.5727, 0.5581, 0.5000,\n",
      "        0.5727, 0.5581, 0.5000, 0.5727, 0.5581, 0.5000, 0.5727, 0.5581, 0.5000,\n",
      "        0.5727, 0.5581, 0.5000, 0.5727, 0.5581, 0.5000, 0.5727, 0.5581, 0.5000])\n",
      "============\n",
      "y,회전=======================\n",
      "tensor([0.5727, 0.5581, 0.5000, 0.5727, 0.5581, 0.5000, 0.5727, 0.5581, 0.5000,\n",
      "        0.5727, 0.5581, 0.5000, 0.5727, 0.5581, 0.5000, 0.5727, 0.5581, 0.5000,\n",
      "        0.5727, 0.5581, 0.5000, 0.5727, 0.5581, 0.5000, 0.5727, 0.5581, 0.5000,\n",
      "        0.5727, 0.5581, 0.5000, 0.5727, 0.5581, 0.5000, 0.5727, 0.5581, 0.5000,\n",
      "        0.5727, 0.5581, 0.5000, 0.5727, 0.5581, 0.5000, 0.5727, 0.5581, 0.5000,\n",
      "        0.5727, 0.5581, 0.5000, 0.5727, 0.5581, 0.5000, 0.5727, 0.5581, 0.5000,\n",
      "        0.5727, 0.5581, 0.5000, 0.5727, 0.5581, 0.5000, 0.5727, 0.5581, 0.5000])\n",
      "============\n",
      "tensor([0.9339, 1.0661, 1.0853, 0.9339, 1.0661, 1.0853, 0.9339, 1.0661, 1.0853,\n",
      "        0.9339, 1.0661, 1.0853, 0.9339, 1.0661, 1.0853, 0.9339, 1.0661, 1.0853,\n",
      "        0.9339, 1.0661, 1.0853, 0.9339, 1.0661, 1.0853, 0.9339, 1.0661, 1.0853,\n",
      "        0.9339, 1.0661, 1.0853, 0.9339, 1.0661, 1.0853, 0.9339, 1.0661, 1.0853,\n",
      "        0.9339, 1.0661, 1.0853, 0.9339, 1.0661, 1.0853, 0.9339, 1.0661, 1.0853,\n",
      "        0.9339, 1.0661, 1.0853, 0.9339, 1.0661, 1.0853, 0.9339, 1.0661, 1.0853,\n",
      "        0.9339, 1.0661, 1.0853, 0.9339, 1.0661, 1.0853, 0.9339, 1.0661, 1.0853])\n"
     ]
    },
    {
     "output_type": "execute_result",
     "data": {
      "text/plain": [
       "tensor([[[0.5727, 0.5581, 0.5000,  ..., 0.5727, 0.5581, 0.5000],\n",
       "         [0.5727, 0.5581, 0.5000,  ..., 0.5727, 0.5581, 0.5000],\n",
       "         [0.5727, 0.5581, 0.5000,  ..., 0.5727, 0.5581, 0.5000],\n",
       "         ...,\n",
       "         [0.5727, 0.5581, 0.5000,  ..., 0.5727, 0.5581, 0.5000],\n",
       "         [0.5727, 0.5581, 0.5000,  ..., 0.5727, 0.5581, 0.5000],\n",
       "         [0.5727, 0.5581, 0.5000,  ..., 0.5727, 0.5581, 0.5000]],\n",
       "\n",
       "        [[0.5727, 0.5581, 0.5000,  ..., 0.5727, 0.5581, 0.5000],\n",
       "         [0.5727, 0.5581, 0.5000,  ..., 0.5727, 0.5581, 0.5000],\n",
       "         [0.5727, 0.5581, 0.5000,  ..., 0.5727, 0.5581, 0.5000],\n",
       "         ...,\n",
       "         [0.5727, 0.5581, 0.5000,  ..., 0.5727, 0.5581, 0.5000],\n",
       "         [0.5727, 0.5581, 0.5000,  ..., 0.5727, 0.5581, 0.5000],\n",
       "         [0.5727, 0.5581, 0.5000,  ..., 0.5727, 0.5581, 0.5000]],\n",
       "\n",
       "        [[0.5727, 0.5581, 0.5000,  ..., 0.5727, 0.5581, 0.5000],\n",
       "         [0.5727, 0.5581, 0.5000,  ..., 0.5727, 0.5581, 0.5000],\n",
       "         [0.5727, 0.5581, 0.5000,  ..., 0.5727, 0.5581, 0.5000],\n",
       "         ...,\n",
       "         [0.5727, 0.5581, 0.5000,  ..., 0.5727, 0.5581, 0.5000],\n",
       "         [0.5727, 0.5581, 0.5000,  ..., 0.5727, 0.5581, 0.5000],\n",
       "         [0.5727, 0.5581, 0.5000,  ..., 0.5727, 0.5581, 0.5000]],\n",
       "\n",
       "        ...,\n",
       "\n",
       "        [[0.5727, 0.5581, 0.5000,  ..., 0.5727, 0.5581, 0.5000],\n",
       "         [0.5727, 0.5581, 0.5000,  ..., 0.5727, 0.5581, 0.5000],\n",
       "         [0.5727, 0.5581, 0.5000,  ..., 0.5727, 0.5581, 0.5000],\n",
       "         ...,\n",
       "         [0.5727, 0.5581, 0.5000,  ..., 0.5727, 0.5581, 0.5000],\n",
       "         [0.5727, 0.5581, 0.5000,  ..., 0.5727, 0.5581, 0.5000],\n",
       "         [0.5727, 0.5581, 0.5000,  ..., 0.5727, 0.5581, 0.5000]],\n",
       "\n",
       "        [[0.5727, 0.5581, 0.5000,  ..., 0.5727, 0.5581, 0.5000],\n",
       "         [0.5727, 0.5581, 0.5000,  ..., 0.5727, 0.5581, 0.5000],\n",
       "         [0.5727, 0.5581, 0.5000,  ..., 0.5727, 0.5581, 0.5000],\n",
       "         ...,\n",
       "         [0.5727, 0.5581, 0.5000,  ..., 0.5727, 0.5581, 0.5000],\n",
       "         [0.5727, 0.5581, 0.5000,  ..., 0.5727, 0.5581, 0.5000],\n",
       "         [0.5727, 0.5581, 0.5000,  ..., 0.5727, 0.5581, 0.5000]],\n",
       "\n",
       "        [[0.5727, 0.5581, 0.5000,  ..., 0.5727, 0.5581, 0.5000],\n",
       "         [0.5727, 0.5581, 0.5000,  ..., 0.5727, 0.5581, 0.5000],\n",
       "         [0.5727, 0.5581, 0.5000,  ..., 0.5727, 0.5581, 0.5000],\n",
       "         ...,\n",
       "         [0.5727, 0.5581, 0.5000,  ..., 0.5727, 0.5581, 0.5000],\n",
       "         [0.5727, 0.5581, 0.5000,  ..., 0.5727, 0.5581, 0.5000],\n",
       "         [0.5727, 0.5581, 0.5000,  ..., 0.5727, 0.5581, 0.5000]]])"
      ]
     },
     "metadata": {},
     "execution_count": 12
    }
   ],
   "source": [
    "aug2(a)"
   ]
  },
  {
   "source": [
    "## load data"
   ],
   "cell_type": "markdown",
   "metadata": {}
  },
  {
   "cell_type": "code",
   "execution_count": 43,
   "metadata": {},
   "outputs": [],
   "source": [
    "def load_tensor(dir_names):\n",
    "    '''\n",
    "    tensor 가져오는 방식을 csv에서 가져온 번호에서 부터 불러오도록 설정\n",
    "    output 에 nums는 현재 가져온곳의 한글값을 표현하기 위해서 \n",
    "    '''\n",
    "    lt_list = []\n",
    "    rt_list = []\n",
    "    ft_list = []\n",
    "    pt_list = []\n",
    "    nums = []\n",
    "    for i, dir_name in enumerate(dir_names):\n",
    "        path = 'output/tensor/'+dir_name[:-4]\n",
    "        if not (os.path.isdir(path)):\n",
    "            continue\n",
    "        lt_list.append(torch.load(path+'/left_hand.pt'))\n",
    "        rt_list.append(torch.load(path+'/right_hand.pt'))\n",
    "        ft_list.append(torch.load(path+'/face.pt'))\n",
    "        pt_list.append(torch.load(path+'/pose.pt'))\n",
    "        nums.append(i)\n",
    "\n",
    "    return lt_list, rt_list, ft_list, pt_list, nums"
   ]
  },
  {
   "cell_type": "code",
   "execution_count": 86,
   "metadata": {},
   "outputs": [],
   "source": [
    "\n",
    "num_csv1 = pd.read_csv(\"output/csv/KETI-2017-SL-0_10480-v2_1_num.csv\")\n",
    "num_csv2 = pd.read_csv(\"output/csv/KETI-2017-SL-0_10480-v2_1.csv\")[:8380]\n",
    "csv = pd.read_csv('output/csv/KETI-2018-SL-10480_43492_-v1.csv')[:26397]\n",
    "del num_csv2['Unnamed: 7']\n",
    "del num_csv2['Unnamed: 8']\n",
    "del(csv['Unnamed: 5'])\n",
    "del(csv['Unnamed: 8'])"
   ]
  },
  {
   "cell_type": "code",
   "execution_count": 87,
   "metadata": {},
   "outputs": [],
   "source": []
  },
  {
   "cell_type": "code",
   "execution_count": 88,
   "metadata": {},
   "outputs": [],
   "source": []
  },
  {
   "cell_type": "code",
   "execution_count": 89,
   "metadata": {},
   "outputs": [
    {
     "output_type": "execute_result",
     "data": {
      "text/plain": [
       "   번호  언어 제공자 ID  취득연도  방향 타입(단어/문장)                     파일명 한국어\n",
       "0   1          1  2017  정면        단어  KETI_SL_0000000001.MOV   0\n",
       "1   2          1  2017  정면        단어  KETI_SL_0000000002.MOV   1\n",
       "2   3          1  2017  정면        단어  KETI_SL_0000000003.MOV   2\n",
       "3   4          1  2017  정면        단어  KETI_SL_0000000004.MOV   3\n",
       "4   5          1  2017  정면        단어  KETI_SL_0000000005.MOV   4"
      ],
      "text/html": "<div>\n<style scoped>\n    .dataframe tbody tr th:only-of-type {\n        vertical-align: middle;\n    }\n\n    .dataframe tbody tr th {\n        vertical-align: top;\n    }\n\n    .dataframe thead th {\n        text-align: right;\n    }\n</style>\n<table border=\"1\" class=\"dataframe\">\n  <thead>\n    <tr style=\"text-align: right;\">\n      <th></th>\n      <th>번호</th>\n      <th>언어 제공자 ID</th>\n      <th>취득연도</th>\n      <th>방향</th>\n      <th>타입(단어/문장)</th>\n      <th>파일명</th>\n      <th>한국어</th>\n    </tr>\n  </thead>\n  <tbody>\n    <tr>\n      <th>0</th>\n      <td>1</td>\n      <td>1</td>\n      <td>2017</td>\n      <td>정면</td>\n      <td>단어</td>\n      <td>KETI_SL_0000000001.MOV</td>\n      <td>0</td>\n    </tr>\n    <tr>\n      <th>1</th>\n      <td>2</td>\n      <td>1</td>\n      <td>2017</td>\n      <td>정면</td>\n      <td>단어</td>\n      <td>KETI_SL_0000000002.MOV</td>\n      <td>1</td>\n    </tr>\n    <tr>\n      <th>2</th>\n      <td>3</td>\n      <td>1</td>\n      <td>2017</td>\n      <td>정면</td>\n      <td>단어</td>\n      <td>KETI_SL_0000000003.MOV</td>\n      <td>2</td>\n    </tr>\n    <tr>\n      <th>3</th>\n      <td>4</td>\n      <td>1</td>\n      <td>2017</td>\n      <td>정면</td>\n      <td>단어</td>\n      <td>KETI_SL_0000000004.MOV</td>\n      <td>3</td>\n    </tr>\n    <tr>\n      <th>4</th>\n      <td>5</td>\n      <td>1</td>\n      <td>2017</td>\n      <td>정면</td>\n      <td>단어</td>\n      <td>KETI_SL_0000000005.MOV</td>\n      <td>4</td>\n    </tr>\n  </tbody>\n</table>\n</div>"
     },
     "metadata": {},
     "execution_count": 89
    }
   ],
   "source": [
    "num_csv2.head()"
   ]
  },
  {
   "cell_type": "code",
   "execution_count": 90,
   "metadata": {},
   "outputs": [
    {
     "output_type": "execute_result",
     "data": {
      "text/plain": [
       "        번호 언어 제공자 ID    취득연도  방향 타입(단어/문장)                 파일명 한국어\n",
       "0  10481.0        11  2018.0  정면        단어  KETI_SL_0000010481   0\n",
       "1  10482.0        11  2018.0  정면        단어  KETI_SL_0000010482   1\n",
       "2  10483.0        11  2018.0  정면        단어  KETI_SL_0000010483   2\n",
       "3  10484.0        11  2018.0  정면        단어  KETI_SL_0000010484   3\n",
       "4  10485.0        11  2018.0  정면        단어  KETI_SL_0000010485   4"
      ],
      "text/html": "<div>\n<style scoped>\n    .dataframe tbody tr th:only-of-type {\n        vertical-align: middle;\n    }\n\n    .dataframe tbody tr th {\n        vertical-align: top;\n    }\n\n    .dataframe thead th {\n        text-align: right;\n    }\n</style>\n<table border=\"1\" class=\"dataframe\">\n  <thead>\n    <tr style=\"text-align: right;\">\n      <th></th>\n      <th>번호</th>\n      <th>언어 제공자 ID</th>\n      <th>취득연도</th>\n      <th>방향</th>\n      <th>타입(단어/문장)</th>\n      <th>파일명</th>\n      <th>한국어</th>\n    </tr>\n  </thead>\n  <tbody>\n    <tr>\n      <th>0</th>\n      <td>10481.0</td>\n      <td>11</td>\n      <td>2018.0</td>\n      <td>정면</td>\n      <td>단어</td>\n      <td>KETI_SL_0000010481</td>\n      <td>0</td>\n    </tr>\n    <tr>\n      <th>1</th>\n      <td>10482.0</td>\n      <td>11</td>\n      <td>2018.0</td>\n      <td>정면</td>\n      <td>단어</td>\n      <td>KETI_SL_0000010482</td>\n      <td>1</td>\n    </tr>\n    <tr>\n      <th>2</th>\n      <td>10483.0</td>\n      <td>11</td>\n      <td>2018.0</td>\n      <td>정면</td>\n      <td>단어</td>\n      <td>KETI_SL_0000010483</td>\n      <td>2</td>\n    </tr>\n    <tr>\n      <th>3</th>\n      <td>10484.0</td>\n      <td>11</td>\n      <td>2018.0</td>\n      <td>정면</td>\n      <td>단어</td>\n      <td>KETI_SL_0000010484</td>\n      <td>3</td>\n    </tr>\n    <tr>\n      <th>4</th>\n      <td>10485.0</td>\n      <td>11</td>\n      <td>2018.0</td>\n      <td>정면</td>\n      <td>단어</td>\n      <td>KETI_SL_0000010485</td>\n      <td>4</td>\n    </tr>\n  </tbody>\n</table>\n</div>"
     },
     "metadata": {},
     "execution_count": 90
    }
   ],
   "source": [
    "csv.head()"
   ]
  },
  {
   "cell_type": "code",
   "execution_count": 91,
   "metadata": {},
   "outputs": [],
   "source": [
    "csv = pd.concat((num_csv2,csv))"
   ]
  },
  {
   "cell_type": "code",
   "execution_count": 92,
   "metadata": {},
   "outputs": [
    {
     "output_type": "execute_result",
     "data": {
      "text/plain": [
       "(34777, 7)"
      ]
     },
     "metadata": {},
     "execution_count": 92
    }
   ],
   "source": [
    "csv.shape"
   ]
  },
  {
   "cell_type": "code",
   "execution_count": 93,
   "metadata": {},
   "outputs": [
    {
     "output_type": "execute_result",
     "data": {
      "text/plain": [
       "    번호 언어 제공자 ID    취득연도  방향 타입(단어/문장)                     파일명 한국어\n",
       "0  1.0         1  2017.0  정면        단어  KETI_SL_0000000001.MOV   0\n",
       "1  2.0         1  2017.0  정면        단어  KETI_SL_0000000002.MOV   1\n",
       "2  3.0         1  2017.0  정면        단어  KETI_SL_0000000003.MOV   2\n",
       "3  4.0         1  2017.0  정면        단어  KETI_SL_0000000004.MOV   3\n",
       "4  5.0         1  2017.0  정면        단어  KETI_SL_0000000005.MOV   4"
      ],
      "text/html": "<div>\n<style scoped>\n    .dataframe tbody tr th:only-of-type {\n        vertical-align: middle;\n    }\n\n    .dataframe tbody tr th {\n        vertical-align: top;\n    }\n\n    .dataframe thead th {\n        text-align: right;\n    }\n</style>\n<table border=\"1\" class=\"dataframe\">\n  <thead>\n    <tr style=\"text-align: right;\">\n      <th></th>\n      <th>번호</th>\n      <th>언어 제공자 ID</th>\n      <th>취득연도</th>\n      <th>방향</th>\n      <th>타입(단어/문장)</th>\n      <th>파일명</th>\n      <th>한국어</th>\n    </tr>\n  </thead>\n  <tbody>\n    <tr>\n      <th>0</th>\n      <td>1.0</td>\n      <td>1</td>\n      <td>2017.0</td>\n      <td>정면</td>\n      <td>단어</td>\n      <td>KETI_SL_0000000001.MOV</td>\n      <td>0</td>\n    </tr>\n    <tr>\n      <th>1</th>\n      <td>2.0</td>\n      <td>1</td>\n      <td>2017.0</td>\n      <td>정면</td>\n      <td>단어</td>\n      <td>KETI_SL_0000000002.MOV</td>\n      <td>1</td>\n    </tr>\n    <tr>\n      <th>2</th>\n      <td>3.0</td>\n      <td>1</td>\n      <td>2017.0</td>\n      <td>정면</td>\n      <td>단어</td>\n      <td>KETI_SL_0000000003.MOV</td>\n      <td>2</td>\n    </tr>\n    <tr>\n      <th>3</th>\n      <td>4.0</td>\n      <td>1</td>\n      <td>2017.0</td>\n      <td>정면</td>\n      <td>단어</td>\n      <td>KETI_SL_0000000004.MOV</td>\n      <td>3</td>\n    </tr>\n    <tr>\n      <th>4</th>\n      <td>5.0</td>\n      <td>1</td>\n      <td>2017.0</td>\n      <td>정면</td>\n      <td>단어</td>\n      <td>KETI_SL_0000000005.MOV</td>\n      <td>4</td>\n    </tr>\n  </tbody>\n</table>\n</div>"
     },
     "metadata": {},
     "execution_count": 93
    }
   ],
   "source": [
    "csv.head()"
   ]
  },
  {
   "cell_type": "code",
   "execution_count": 98,
   "metadata": {},
   "outputs": [
    {
     "output_type": "stream",
     "name": "stdout",
     "text": [
      "데이터 종류: 419 각 데이터당 개수 83\n"
     ]
    }
   ],
   "source": [
    "unique_size = csv['한국어'].unique().size\n",
    "data_count = csv.shape[0]//unique_size\n",
    "print('데이터 종류: {} 각 데이터당 개수 {}'.format(unique_size,data_count))"
   ]
  },
  {
   "cell_type": "code",
   "execution_count": 38,
   "metadata": {},
   "outputs": [
    {
     "output_type": "execute_result",
     "data": {
      "text/plain": [
       "8370      협박\n",
       "8371       형\n",
       "8372    호흡곤란\n",
       "8373     호흡기\n",
       "8374      홍수\n",
       "8375      화상\n",
       "8376      화약\n",
       "8377     화요일\n",
       "8378     화장실\n",
       "8379      화재\n",
       "Name: 한국어, dtype: object"
      ]
     },
     "metadata": {},
     "execution_count": 38
    }
   ],
   "source": [
    "direction['한국어'][-10:]"
   ]
  },
  {
   "cell_type": "code",
   "execution_count": 45,
   "metadata": {},
   "outputs": [],
   "source": [
    "\n",
    "direction = num_csv1[num_csv1.방향.isin(['정면'])]"
   ]
  },
  {
   "cell_type": "code",
   "execution_count": 98,
   "metadata": {},
   "outputs": [],
   "source": [
    "\n",
    "dir_names = num_csv1['파일명']\n",
    "kors=num_csv1['한국어']"
   ]
  },
  {
   "cell_type": "code",
   "execution_count": 47,
   "metadata": {},
   "outputs": [
    {
     "output_type": "execute_result",
     "data": {
      "text/plain": [
       "45    KETI_SL_0000000046.MOV\n",
       "46    KETI_SL_0000000047.MOV\n",
       "47    KETI_SL_0000000048.MOV\n",
       "48    KETI_SL_0000000049.MOV\n",
       "49    KETI_SL_0000000050.MOV\n",
       "50    KETI_SL_0000000051.MOV\n",
       "51    KETI_SL_0000000052.MOV\n",
       "52    KETI_SL_0000000053.MOV\n",
       "53    KETI_SL_0000000054.MOV\n",
       "54    KETI_SL_0000000055.MOV\n",
       "Name: 파일명, dtype: object"
      ]
     },
     "metadata": {},
     "execution_count": 47
    }
   ],
   "source": [
    "dir_names[45:55]"
   ]
  },
  {
   "cell_type": "code",
   "execution_count": 99,
   "metadata": {},
   "outputs": [],
   "source": [
    "lt_list,rt_list,ft_list,pt_list,nums = load_tensor(dir_names)"
   ]
  },
  {
   "cell_type": "code",
   "execution_count": 100,
   "metadata": {},
   "outputs": [],
   "source": [
    "t = pt_list[0]"
   ]
  },
  {
   "cell_type": "code",
   "execution_count": 101,
   "metadata": {},
   "outputs": [
    {
     "output_type": "execute_result",
     "data": {
      "text/plain": [
       "torch.Size([141, 21, 3])"
      ]
     },
     "metadata": {},
     "execution_count": 101
    }
   ],
   "source": [
    "lt_list[0].shape"
   ]
  },
  {
   "cell_type": "code",
   "execution_count": 102,
   "metadata": {},
   "outputs": [
    {
     "output_type": "execute_result",
     "data": {
      "text/plain": [
       "871"
      ]
     },
     "metadata": {},
     "execution_count": 102
    }
   ],
   "source": [
    "len(lt_list)"
   ]
  },
  {
   "source": [
    "## Encoder Input Preprocessing"
   ],
   "cell_type": "markdown",
   "metadata": {}
  },
  {
   "cell_type": "code",
   "execution_count": 103,
   "metadata": {},
   "outputs": [],
   "source": [
    "def pipe(t, batch_first = False):\n",
    "    t = list(map(lambda x: x.view(-1,x.shape[1]*x.shape[2]),t))\n",
    "    t = torch.nn.utils.rnn.pad_sequence(t,batch_first=batch_first).to(device)\n",
    "    return t"
   ]
  },
  {
   "cell_type": "code",
   "execution_count": 104,
   "metadata": {},
   "outputs": [],
   "source": [
    "def pipe2(tensor_list, nums, batch_first = False, device = \"cuda\"):\n",
    "    '''\n",
    "    15frame 기준으로 해서 \n",
    "    25개의 데이터와 10개의 겹친 데이터로 변경\n",
    "\n",
    "    '''\n",
    "    new_tensor = []\n",
    "    index = []\n",
    "    i=0\n",
    "\n",
    "    for tensor in tensor_list:\n",
    "        size= tensor.shape[0]//50\n",
    "        for x in range(size-1):\n",
    "            new_tensor.append(tensor[x*50:(x+1)*50+20:2])\n",
    "            index.append(nums[i])\n",
    "            ## 남은 개수 50~90\n",
    "        if tensor.shape[0] - size*50 > 20:\n",
    "            new_tensor.append(tensor[(size-1)*50:(size)*50+20:2])\n",
    "            index.append(nums[i])\n",
    "        new_tensor.append(tensor[(size)*50 ::2])\n",
    "        index.append(nums[i])\n",
    "        \n",
    "        i+=1\n",
    "    # print(new_tensor[0].shape)\n",
    "    tensor_list = torch.nn.utils.rnn.pad_sequence(list(map(\n",
    "            lambda x: x.view(-1,x.shape[1]*x.shape[2]),new_tensor)),\n",
    "            batch_first=batch_first\n",
    "            ).to(device)\n",
    "    \n",
    "    return  tensor_list, index\n"
   ]
  },
  {
   "cell_type": "code",
   "execution_count": 105,
   "metadata": {},
   "outputs": [],
   "source": [
    "\n",
    "lt_list, lt_list_index = pipe2(lt_list,nums,device=device)\n",
    "rt_list, lt_list_index = pipe2(rt_list,nums,device=device)\n",
    "ft_list, lt_list_index = pipe2(ft_list,nums,device=device)\n",
    "pt_list, lt_list_index = pipe2(pt_list,nums,device=device)\n",
    "\n",
    "# batch , seq, feature 순"
   ]
  },
  {
   "cell_type": "code",
   "execution_count": 106,
   "metadata": {},
   "outputs": [
    {
     "output_type": "execute_result",
     "data": {
      "text/plain": [
       "(torch.Size([35, 2335, 63]),\n",
       " torch.Size([35, 2335, 63]),\n",
       " torch.Size([35, 2335, 1404]),\n",
       " torch.Size([35, 2335, 99]))"
      ]
     },
     "metadata": {},
     "execution_count": 106
    }
   ],
   "source": [
    "lt_list.shape, rt_list.shape, ft_list.shape, pt_list.shape"
   ]
  },
  {
   "cell_type": "code",
   "execution_count": 107,
   "metadata": {},
   "outputs": [],
   "source": [
    "class PositionalEncoding(torch.nn.Module):\n",
    "\n",
    "    def __init__(self, d_model,batch_first = False, dropout=0.1, max_len=5000):\n",
    "        super(PositionalEncoding, self).__init__()\n",
    "        self.dropout = torch.nn.Dropout(p=dropout)\n",
    "\n",
    "        pe = torch.zeros(max_len, d_model)\n",
    "        # print(pe.shape)\n",
    "        position = torch.arange(0, max_len, dtype=torch.float).unsqueeze(1)\n",
    "\n",
    "        div_term = torch.exp(torch.arange(0, d_model, 2).float() * (-math.log(10000.0) / d_model))\n",
    "\n",
    "        pe[:, 0::2] = torch.sin(position * div_term)        \n",
    "        # print(pe.shape)\n",
    "        pe[:, 1::2] = torch.cos(position * div_term)\n",
    "        self.batch_first = batch_first\n",
    "        if batch_first :\n",
    "            pe = pe.unsqueeze(0)\n",
    "        else :\n",
    "            pe = pe.unsqueeze(0).transpose(0,1)\n",
    "        # print(pe.shape)\n",
    "        self.register_buffer('pe', pe)\n",
    "\n",
    "    def forward(self, x):\n",
    "\n",
    "        if self.batch_first:\n",
    "            # print(x.shape , self.pe[:,:x.size(1),:].shape)\n",
    "            x = x + self.pe[:, :x.size(1),:]\n",
    "        else :\n",
    "            # print(x.shape , self.pe[:x.size(0),:].shape)\n",
    "            x = x + self.pe[:x.size(0),:]\n",
    "            \n",
    "        return self.dropout(x)"
   ]
  },
  {
   "cell_type": "code",
   "execution_count": 108,
   "metadata": {},
   "outputs": [],
   "source": [
    "d_model = 400\n",
    "cat_data= torch.cat((lt_list,rt_list,pt_list),axis = 2)\n",
    "embedding_data = torch.nn.Linear(cat_data.shape[2],d_model)(cat_data)\n",
    "positioning_embedding_data = PositionalEncoding(d_model,batch_first=False)(embedding_data)\n",
    "# concat을 진행하고 이를 DNN에 통과시켜서 입력 shape를 맞춤"
   ]
  },
  {
   "cell_type": "code",
   "execution_count": 109,
   "metadata": {},
   "outputs": [
    {
     "output_type": "execute_result",
     "data": {
      "text/plain": [
       "(torch.Size([35, 2335, 225]),\n",
       " torch.Size([35, 2335, 400]),\n",
       " torch.Size([35, 2335, 400]))"
      ]
     },
     "metadata": {},
     "execution_count": 109
    }
   ],
   "source": [
    "cat_data.shape , embedding_data.shape , positioning_embedding_data.shape"
   ]
  },
  {
   "source": [
    "## Docoder Input Preprocessing"
   ],
   "cell_type": "markdown",
   "metadata": {}
  },
  {
   "cell_type": "code",
   "execution_count": 110,
   "metadata": {},
   "outputs": [
    {
     "output_type": "stream",
     "name": "stdout",
     "text": [
      "(2335,) 54\n"
     ]
    }
   ],
   "source": [
    "answer = kors[lt_list_index]\n",
    "print(answer.shape, answer.unique().size)"
   ]
  },
  {
   "cell_type": "code",
   "execution_count": 111,
   "metadata": {},
   "outputs": [
    {
     "output_type": "execute_result",
     "data": {
      "text/plain": [
       "1961    42\n",
       "1962    43\n",
       "1962    43\n",
       "1963    44\n",
       "1963    44\n",
       "1966    47\n",
       "1968    49\n",
       "1968    49\n",
       "1969    50\n",
       "1969    50\n",
       "Name: 한국어, dtype: int64"
      ]
     },
     "metadata": {},
     "execution_count": 111
    }
   ],
   "source": [
    "answer[-10:]"
   ]
  },
  {
   "cell_type": "code",
   "execution_count": 112,
   "metadata": {},
   "outputs": [],
   "source": [
    "# tokenizer, pad_sequence\n",
    "sos_data = torch.LongTensor(np.zeros(answer.size)+answer.unique().size).unsqueeze(dim=0)\n",
    "decode_data = torch.LongTensor(np.array(answer)).unsqueeze(dim=0)\n",
    "decode_data = torch.cat((sos_data,decode_data),axis=0).to(device)"
   ]
  },
  {
   "cell_type": "code",
   "execution_count": 113,
   "metadata": {},
   "outputs": [
    {
     "output_type": "execute_result",
     "data": {
      "text/plain": [
       "tensor([[54, 54, 54, 54, 54, 54, 54, 54, 54, 54],\n",
       "        [42, 43, 43, 44, 44, 47, 49, 49, 50, 50]])"
      ]
     },
     "metadata": {},
     "execution_count": 113
    }
   ],
   "source": [
    "decode_data[:,-10:]"
   ]
  },
  {
   "cell_type": "code",
   "execution_count": 114,
   "metadata": {},
   "outputs": [
    {
     "output_type": "execute_result",
     "data": {
      "text/plain": [
       "(torch.Size([1, 2335]), torch.Size([2, 2335]))"
      ]
     },
     "metadata": {},
     "execution_count": 114
    }
   ],
   "source": [
    "sos_data.shape , decode_data.shape \n",
    "# seq, batch"
   ]
  },
  {
   "cell_type": "code",
   "execution_count": 115,
   "metadata": {},
   "outputs": [
    {
     "output_type": "execute_result",
     "data": {
      "text/plain": [
       "tensor([0, 0, 0, 1, 1, 1, 2, 2, 2, 3])"
      ]
     },
     "metadata": {},
     "execution_count": 115
    }
   ],
   "source": [
    "decode_data[1,:10]"
   ]
  },
  {
   "cell_type": "code",
   "execution_count": 116,
   "metadata": {},
   "outputs": [
    {
     "output_type": "stream",
     "name": "stdout",
     "text": [
      "tensor(0)\n"
     ]
    }
   ],
   "source": [
    "\n",
    "\n",
    "\n",
    "print(torch.min(decode_data[1]))"
   ]
  },
  {
   "cell_type": "code",
   "execution_count": 117,
   "metadata": {},
   "outputs": [],
   "source": [
    "decode_emb = torch.nn.Embedding(answer.unique().size + 2,d_model) # d_model = 400\n",
    "target = decode_emb(decode_data)\n",
    "positioning_target = PositionalEncoding(d_model)(target)"
   ]
  },
  {
   "cell_type": "code",
   "execution_count": 118,
   "metadata": {},
   "outputs": [
    {
     "output_type": "execute_result",
     "data": {
      "text/plain": [
       "(torch.Size([2, 2335, 400]), torch.Size([2, 2335, 400]))"
      ]
     },
     "metadata": {},
     "execution_count": 118
    }
   ],
   "source": [
    "target.shape, positioning_target.shape"
   ]
  },
  {
   "source": [
    "## Y Data Preprocessing\n",
    "\n",
    "(sos ,seq ~~~) -> (seq, eos) "
   ],
   "cell_type": "markdown",
   "metadata": {}
  },
  {
   "cell_type": "code",
   "execution_count": 119,
   "metadata": {},
   "outputs": [],
   "source": [
    "eos_y_data = torch.zeros(1,answer.size,answer.unique().size+2)\n",
    "# (1, 153, 53)\n",
    "y_data = torch.zeros(1,answer.size,answer.unique().size+2)\n",
    "# (1, 153 , 53)\n",
    "\n",
    "y_data = torch.cat((y_data,eos_y_data),axis=0).to(device)\n",
    "y_data[0,torch.arange(answer.size),np.array(answer)] = 1 \n",
    "#one hot vector\n",
    "\n",
    "y_data[1,torch.arange(answer.size),-1] = 1 #eos"
   ]
  },
  {
   "cell_type": "code",
   "execution_count": 120,
   "metadata": {},
   "outputs": [
    {
     "output_type": "execute_result",
     "data": {
      "text/plain": [
       "torch.Size([2, 2335, 56])"
      ]
     },
     "metadata": {},
     "execution_count": 120
    }
   ],
   "source": [
    "y_data.shape"
   ]
  },
  {
   "cell_type": "code",
   "execution_count": 121,
   "metadata": {},
   "outputs": [
    {
     "output_type": "execute_result",
     "data": {
      "text/plain": [
       "(tensor([54,  3]),\n",
       " tensor([[0., 0., 0., 1., 0., 0., 0., 0., 0., 0., 0., 0., 0., 0., 0., 0., 0., 0.,\n",
       "          0., 0., 0., 0., 0., 0., 0., 0., 0., 0., 0., 0., 0., 0., 0., 0., 0., 0.,\n",
       "          0., 0., 0., 0., 0., 0., 0., 0., 0., 0., 0., 0., 0., 0., 0., 0., 0., 0.,\n",
       "          0., 0.],\n",
       "         [0., 0., 0., 0., 0., 0., 0., 0., 0., 0., 0., 0., 0., 0., 0., 0., 0., 0.,\n",
       "          0., 0., 0., 0., 0., 0., 0., 0., 0., 0., 0., 0., 0., 0., 0., 0., 0., 0.,\n",
       "          0., 0., 0., 0., 0., 0., 0., 0., 0., 0., 0., 0., 0., 0., 0., 0., 0., 0.,\n",
       "          0., 1.]]))"
      ]
     },
     "metadata": {},
     "execution_count": 121
    }
   ],
   "source": [
    "decode_data[:,10] , y_data[:,10] \n",
    "# (sos, answer)   , (answer , eos)\n",
    "# sos = 51 , eos = 52"
   ]
  },
  {
   "cell_type": "code",
   "execution_count": 122,
   "metadata": {},
   "outputs": [],
   "source": [
    "tmp_t_data = y_data[0,:30]"
   ]
  },
  {
   "cell_type": "code",
   "execution_count": 123,
   "metadata": {},
   "outputs": [],
   "source": [
    "t = y_data.squeeze(0).max(dim=-1)[1]"
   ]
  },
  {
   "cell_type": "code",
   "execution_count": 124,
   "metadata": {},
   "outputs": [
    {
     "output_type": "execute_result",
     "data": {
      "text/plain": [
       "tensor([[ 0,  0,  0,  ..., 49, 50, 50],\n",
       "        [55, 55, 55,  ..., 55, 55, 55]])"
      ]
     },
     "metadata": {},
     "execution_count": 124
    }
   ],
   "source": [
    "t"
   ]
  },
  {
   "cell_type": "code",
   "execution_count": 125,
   "metadata": {},
   "outputs": [
    {
     "output_type": "execute_result",
     "data": {
      "text/plain": [
       "tensor([[54, 54, 54,  ..., 54, 54, 54],\n",
       "        [ 0,  0,  0,  ..., 49, 50, 50]])"
      ]
     },
     "metadata": {},
     "execution_count": 125
    }
   ],
   "source": [
    "decode_data"
   ]
  },
  {
   "source": [
    "tmp_t_data.shape"
   ],
   "cell_type": "code",
   "metadata": {},
   "execution_count": 126,
   "outputs": [
    {
     "output_type": "execute_result",
     "data": {
      "text/plain": [
       "torch.Size([30, 56])"
      ]
     },
     "metadata": {},
     "execution_count": 126
    }
   ]
  },
  {
   "source": [
    "## Test Model"
   ],
   "cell_type": "markdown",
   "metadata": {}
  },
  {
   "cell_type": "code",
   "execution_count": 148,
   "metadata": {},
   "outputs": [],
   "source": [
    "class TransformerModel(torch.nn.Module):\n",
    "\n",
    "    def __init__(self, input_node, d_model, nhead, nhid, nlayers,ntoken ,dropout=0.5  ):\n",
    "        \"\"\"\n",
    "        input_node  node개수\n",
    "        d_model    임배딩 차원 , model 내부의 수치\n",
    "        nhead   멀티헤드 개수\n",
    "        nhid    Linear 뉴런개수 = dff \n",
    "        nlayers encoder 개수 = num_layers\n",
    "        ntoken  단어 개수\n",
    "        \"\"\"\n",
    "        super(TransformerModel, self).__init__()\n",
    "        self.model_type = 'Transformer'\n",
    "        self.d_model = d_model\n",
    "\n",
    "        self.encode_emb = torch.nn.Linear(input_node,d_model)# GNN으로 대체될수도 있음\n",
    "        self.decode_emb = torch.nn.Embedding(ntoken,d_model)\n",
    "\n",
    "        self.pos_encoder = PositionalEncoding(d_model, dropout) #해당하는 언어의 위치 정보\n",
    "\n",
    "        self.transformer = torch.nn.Transformer(\n",
    "                d_model = d_model, nhead = nhead, \n",
    "                num_encoder_layers = nlayers, \n",
    "                num_decoder_layers = nlayers, \n",
    "                dim_feedforward = nhid, dropout = dropout\n",
    "            )\n",
    "\n",
    "        self.decoder = torch.nn.Linear(d_model, ntoken)\n",
    "        self.softmax = torch.nn.Softmax(dim=2)\n",
    "\n",
    "    def generate_square_subsequent_mask(self, sz):\n",
    "        mask = (torch.triu(torch.ones(sz, sz)) == 1).transpose(0, 1)\n",
    "        mask = mask.float().masked_fill(mask == 0, float('-inf')).masked_fill(mask == 1, float(0.0))\n",
    "        return mask\n",
    "\n",
    "\n",
    "    def forward(self, src ,tgt ,src_mask = None, tgt_mask = None):\n",
    "        src = torch.cat(src,axis=2)\n",
    "        # lt, rt, pt 의 feature부분을 concat\n",
    "        src = self.encode_emb(src)\n",
    "        src = self.pos_encoder(src)\n",
    "\n",
    "        tgt = self.decode_emb(tgt)\n",
    "        tgt = self.pos_encoder(tgt)\n",
    "\n",
    "        # print(\"source shape : {0} | target shape : {1}\".format(src.shape,tgt.shape))\n",
    "        target = self.transformer(src=src,tgt=tgt,src_mask = None, tgt_mask = None)\n",
    "        output = self.decoder(target)\n",
    "        # output = self.softmax(output)\n",
    "        return output"
   ]
  },
  {
   "cell_type": "code",
   "execution_count": 158,
   "metadata": {},
   "outputs": [],
   "source": [
    "nodes = 225 # GNN이전의 노드 개수  고친다면\n",
    "d_model = 400 #400\n",
    "nlayers = 4 \n",
    "nhead = 8\n",
    "dropout = 0.2\n",
    "nhid = 2048\n",
    "tokens = answer.unique().size+2 # token개수 + sos, eos\n",
    "transmodel = TransformerModel(input_node = nodes,d_model= d_model,nhead = nhead,nhid=nhid,nlayers=nlayers,ntoken=tokens,dropout=dropout).to(device)\n",
    "\n",
    "loss_fn =  torch.nn.BCEWithLogitsLoss().to(device)\n",
    "optimizer = torch.optim.Adadelta(transmodel.parameters())"
   ]
  },
  {
   "source": [
    "![](img\\transformer_attention_overview.png)"
   ],
   "cell_type": "markdown",
   "metadata": {}
  },
  {
   "cell_type": "code",
   "execution_count": 150,
   "metadata": {},
   "outputs": [
    {
     "output_type": "execute_result",
     "data": {
      "text/plain": [
       "((torch.Size([35, 2335, 63]),\n",
       "  torch.Size([35, 2335, 63]),\n",
       "  torch.Size([35, 2335, 99])),\n",
       " torch.Size([2, 2335]))"
      ]
     },
     "metadata": {},
     "execution_count": 150
    }
   ],
   "source": [
    "(lt_list.shape, rt_list.shape, pt_list.shape)   , decode_data.shape\n",
    "# encoder input , decoder input"
   ]
  },
  {
   "cell_type": "code",
   "execution_count": 151,
   "metadata": {},
   "outputs": [],
   "source": [
    "src_mask = transmodel.generate_square_subsequent_mask(lt_list.shape[0]).to(device)\n",
    "# src mask의 경우 다른 mask를 사용해야 하는것으로 판단됨\n",
    "tgt_mask = transmodel.generate_square_subsequent_mask(decode_data.shape[0]).to(device)"
   ]
  },
  {
   "cell_type": "code",
   "execution_count": 152,
   "metadata": {},
   "outputs": [],
   "source": [
    "tmp_mask = transmodel.generate_square_subsequent_mask(4)"
   ]
  },
  {
   "cell_type": "code",
   "execution_count": 132,
   "metadata": {},
   "outputs": [
    {
     "output_type": "execute_result",
     "data": {
      "text/plain": [
       "tensor([[0., -inf, -inf, -inf],\n",
       "        [0., 0., -inf, -inf],\n",
       "        [0., 0., 0., -inf],\n",
       "        [0., 0., 0., 0.]])"
      ]
     },
     "metadata": {},
     "execution_count": 132
    }
   ],
   "source": [
    "tmp_mask"
   ]
  },
  {
   "cell_type": "code",
   "execution_count": 133,
   "metadata": {},
   "outputs": [
    {
     "output_type": "execute_result",
     "data": {
      "text/plain": [
       "(torch.Size([35, 35]), torch.Size([2, 2]))"
      ]
     },
     "metadata": {},
     "execution_count": 133
    }
   ],
   "source": [
    "src_mask.shape,tgt_mask.shape"
   ]
  },
  {
   "cell_type": "code",
   "execution_count": 134,
   "metadata": {},
   "outputs": [
    {
     "output_type": "execute_result",
     "data": {
      "text/plain": [
       "(torch.Size([35, 30, 63]), torch.Size([2, 30]))"
      ]
     },
     "metadata": {},
     "execution_count": 134
    }
   ],
   "source": [
    "lt_list[:,:30].shape, decode_data[:,:30].shape\n",
    "# (seq, batch, feature)   (seq, batch , [feature])"
   ]
  },
  {
   "cell_type": "code",
   "execution_count": 135,
   "metadata": {},
   "outputs": [],
   "source": [
    "src = (lt_list[:,:30], rt_list[:,:30] ,pt_list[:,:30])\n",
    "tgt = decode_data[:,:30]"
   ]
  },
  {
   "cell_type": "code",
   "execution_count": 136,
   "metadata": {},
   "outputs": [],
   "source": [
    "src_all = (lt_list,rt_list,pt_list)\n",
    "tgt_all = decode_data"
   ]
  },
  {
   "source": [
    "## Train model"
   ],
   "cell_type": "markdown",
   "metadata": {}
  },
  {
   "cell_type": "code",
   "execution_count": 155,
   "metadata": {},
   "outputs": [],
   "source": []
  },
  {
   "cell_type": "code",
   "execution_count": 138,
   "metadata": {},
   "outputs": [
    {
     "output_type": "execute_result",
     "data": {
      "text/plain": [
       "Adam (\n",
       "Parameter Group 0\n",
       "    amsgrad: False\n",
       "    betas: (0.9, 0.999)\n",
       "    eps: 1e-08\n",
       "    lr: 0.01\n",
       "    weight_decay: 0\n",
       ")"
      ]
     },
     "metadata": {},
     "execution_count": 138
    }
   ],
   "source": [
    "optimizer"
   ]
  },
  {
   "cell_type": "code",
   "execution_count": 139,
   "metadata": {},
   "outputs": [
    {
     "output_type": "execute_result",
     "data": {
      "text/plain": [
       "<generator object Module.parameters at 0x00000249D954AC78>"
      ]
     },
     "metadata": {},
     "execution_count": 139
    }
   ],
   "source": [
    "transmodel.parameters()"
   ]
  },
  {
   "cell_type": "code",
   "execution_count": 140,
   "metadata": {},
   "outputs": [],
   "source": [
    "tmp_data = torch.LongTensor(np.zeros(answer.size)).unsqueeze(0)\n",
    "\n",
    "pre_tgt = torch.cat((sos_data,tmp_data),dim=0)"
   ]
  },
  {
   "source": [
    "\n",
    "(seq,feature) -> encoder -> decoder\n",
    "\n",
    "(sos,aswer) - > decoder -> (answer, eos)\n",
    "\n",
    "(sos, 0) -> decode -> (answer,eos)\n",
    "\n"
   ],
   "cell_type": "markdown",
   "metadata": {}
  },
  {
   "source": [
    "![](img\\transformer5_final_final.png)\n",
    "![](img\\룩어헤드마스크.png)"
   ],
   "cell_type": "markdown",
   "metadata": {}
  },
  {
   "cell_type": "code",
   "execution_count": 156,
   "metadata": {},
   "outputs": [
    {
     "output_type": "stream",
     "name": "stdout",
     "text": [
      "start epoch | | end epoch: 1\t| time: 2.8115s |  loss : 0.757850 | acc : 0.04%\n",
      "total time = 2.8125s\n"
     ]
    }
   ],
   "source": [
    "\n",
    "epochs = 1000\n",
    "losses = []\n",
    "accuracy = []\n",
    "transmodel.train()\n",
    "start = time.time()\n",
    "for i in range(epochs):\n",
    "    tmp_time = time.time()\n",
    "    print(\"start epoch \",end=\"| \")\n",
    "    # print(tmp)\n",
    "    batch_accuracy = 0\n",
    "    batch_loss = 0\n",
    "    for x in range(tmp):\n",
    "        # print(src[0].shape, tgt.shape)\n",
    "        # print(\"{0} {1:.3f}s \".format(x,time.time()-tmp_time),end=\"\")\n",
    "        src = ( lt_list[:,x*batch_size:(x+1)*batch_size], \n",
    "                rt_list[:,x*batch_size:(x+1)*batch_size],\n",
    "                pt_list[:,x*batch_size:(x+1)*batch_size]\n",
    "                )\n",
    "        tgt = decode_data[0,x*batch_size:(x+1)*batch_size].unsqueeze(dim=0)\n",
    "        y = y_data[0,x*batch_size:(x+1)*batch_size].unsqueeze(dim=0)\n",
    "\n",
    "\n",
    "        optimizer.zero_grad()\n",
    "\n",
    "        predict = transmodel(src,tgt, src_mask )\n",
    "        \n",
    "        tmp_pre = predict.squeeze(0).max(dim=-1, keepdim=False)[1]\n",
    "        tmp_y = y.squeeze(0).max(dim=-1, keepdim=False)[1]\n",
    "        \n",
    "        # predict (seq =1 , batch = 30, feature =  56)\n",
    "        \n",
    "        predict = predict.transpose(0,1)\n",
    "        y = y.transpose(0,1)\n",
    "        \n",
    "        loss =loss_fn(predict,y)\n",
    "        # batch, **\n",
    "        \n",
    "        loss.backward()\n",
    "        optimizer.step()\n",
    "\n",
    "\n",
    "        batch_loss += loss.item()\n",
    "        batch_accuracy +=  batch_size-(tmp_pre - tmp_y).count_nonzero()\n",
    "#         break\n",
    "    # print(batch_loss, batch_accuracy)\n",
    "    losses.append(batch_loss)\n",
    "    accuracy.append(batch_accuracy/(batch_size*tmp))\n",
    "    \n",
    "    end = time.time()\n",
    "    # print(predict.shape,predict.squeeze(0).max(dim=-1, keepdim=False)[1],end=\" \")\n",
    "    print(\"| end epoch: {0}\\t| time: {2:.4f}s |  loss : {1:6f} | acc : {3:.2f}%\".format(i+1,losses[-1], end-tmp_time, accuracy[-1]*100))   \n",
    "#     if(losses[-1] < 0.5 and accuracy[-1] > 0.97):\n",
    "#         break\n",
    "print(\"total time = {0:.4f}s\".format(end-start))\n",
    "\n",
    "        "
   ]
  },
  {
   "cell_type": "code",
   "execution_count": 157,
   "metadata": {},
   "outputs": [
    {
     "output_type": "execute_result",
     "data": {
      "text/plain": [
       "(tensor([[[ 2.5511e-01,  7.2976e-01, -2.6711e-01,  ...,  8.7180e-01,\n",
       "            9.6428e-01, -8.8521e-02],\n",
       "          [ 6.2755e-01,  4.7958e-01,  8.7472e-02,  ..., -2.2103e-01,\n",
       "            6.4513e-01, -1.2824e-01],\n",
       "          [-2.1677e-01,  2.9207e-01, -7.2212e-02,  ..., -7.5181e-01,\n",
       "            8.8524e-01, -8.9688e-02],\n",
       "          ...,\n",
       "          [-2.3834e-01,  4.2567e-03,  1.5418e-01,  ...,  9.7232e-01,\n",
       "            6.3360e-01,  5.5244e-01],\n",
       "          [-6.4993e-04, -5.4721e-01,  4.1355e-01,  ...,  9.3717e-01,\n",
       "            1.0092e+00,  1.0804e+00],\n",
       "          [ 1.8943e-01, -2.4587e-02, -7.5027e-01,  ...,  9.8732e-01,\n",
       "            6.0012e-01,  5.5650e-01]]], grad_fn=<AddBackward0>),\n",
       " tensor([ 5, 43, 30, 52, 18, 18, 18, 11, 54,  5, 42, 54, 42,  2, 18, 18, 14, 50,\n",
       "         18, 18, 52,  6, 42,  5, 52, 54, 32,  5,  5,  5, 53, 18, 14, 11,  6, 18,\n",
       "         14, 53,  5,  6]),\n",
       " tensor([[54, 54, 54, 54, 54, 54, 54, 54, 54, 54, 54, 54, 54, 54, 54, 54, 54, 54,\n",
       "          54, 54, 54, 54, 54, 54, 54, 54, 54, 54, 54, 54, 54, 54, 54, 54, 54, 54,\n",
       "          54, 54, 54, 54]]),\n",
       " tensor([ 0,  0,  0,  1,  1,  1,  2,  2,  2,  3,  3,  3,  4,  4,  4,  5,  5,  5,\n",
       "          6,  6,  6,  7,  7,  7,  8,  8,  8,  9,  9,  9, 10, 10, 10, 11, 11, 11,\n",
       "         12, 12, 12, 13]))"
      ]
     },
     "metadata": {},
     "execution_count": 157
    }
   ],
   "source": [
    "predict , predict.squeeze(0).max(dim=-1, keepdim=False)[1] , tgt , tmp_y"
   ]
  },
  {
   "cell_type": "code",
   "execution_count": 143,
   "metadata": {},
   "outputs": [
    {
     "output_type": "execute_result",
     "data": {
      "text/plain": [
       "tensor([[55, 55, 55, 55, 55, 55, 55, 55, 55, 55, 55, 55, 55, 55, 55, 55, 55, 55,\n",
       "         55, 55, 55, 55, 55, 55, 55, 55, 55, 55, 55, 55, 55, 55, 55, 55, 55, 55,\n",
       "         55, 55, 55, 55],\n",
       "        [55, 55, 55, 55, 55, 55, 55, 55, 55, 55, 55, 55, 55, 55, 55, 55, 55, 55,\n",
       "         55, 55, 55, 55, 55, 55, 55, 55, 55, 55, 55, 55, 55, 55, 55, 55, 55, 55,\n",
       "         55, 55, 55, 55]])"
      ]
     },
     "metadata": {},
     "execution_count": 143
    }
   ],
   "source": [
    "tmp_pre"
   ]
  },
  {
   "cell_type": "code",
   "execution_count": 144,
   "metadata": {},
   "outputs": [
    {
     "output_type": "execute_result",
     "data": {
      "text/plain": [
       "tensor([[ 0,  0,  0,  1,  1,  1,  2,  2,  2,  3,  3,  3,  4,  4,  4,  5,  5,  5,\n",
       "          6,  6,  6,  7,  7,  7,  8,  8,  8,  9,  9,  9, 10, 10, 10, 11, 11, 11,\n",
       "         12, 12, 12, 13],\n",
       "        [55, 55, 55, 55, 55, 55, 55, 55, 55, 55, 55, 55, 55, 55, 55, 55, 55, 55,\n",
       "         55, 55, 55, 55, 55, 55, 55, 55, 55, 55, 55, 55, 55, 55, 55, 55, 55, 55,\n",
       "         55, 55, 55, 55]])"
      ]
     },
     "metadata": {},
     "execution_count": 144
    }
   ],
   "source": [
    "tmp_y"
   ]
  },
  {
   "cell_type": "code",
   "execution_count": 53,
   "metadata": {},
   "outputs": [],
   "source": [
    "tgt = tgt[1].unsqueeze(dim=0)"
   ]
  },
  {
   "cell_type": "code",
   "execution_count": 41,
   "metadata": {},
   "outputs": [],
   "source": [
    "tmp_t_data = tmp_t_data.unsqueeze(dim=0)"
   ]
  },
  {
   "cell_type": "code",
   "execution_count": 54,
   "metadata": {},
   "outputs": [
    {
     "output_type": "execute_result",
     "data": {
      "text/plain": [
       "torch.Size([1, 30, 52])"
      ]
     },
     "metadata": {},
     "execution_count": 54
    }
   ],
   "source": [
    "tmp_t_data.shape"
   ]
  },
  {
   "cell_type": "code",
   "execution_count": 55,
   "metadata": {},
   "outputs": [
    {
     "output_type": "execute_result",
     "data": {
      "text/plain": [
       "torch.Size([1, 30])"
      ]
     },
     "metadata": {},
     "execution_count": 55
    }
   ],
   "source": [
    "tgt.shape"
   ]
  },
  {
   "cell_type": "code",
   "execution_count": 59,
   "metadata": {},
   "outputs": [
    {
     "output_type": "execute_result",
     "data": {
      "text/plain": [
       "tensor([[ 0,  1,  2,  3,  4,  5,  6,  7,  8,  9, 10, 11, 12, 13, 14, 15, 16, 17,\n",
       "         18, 19, 20, 21, 22, 23, 24, 25, 26, 27, 28, 29]])"
      ]
     },
     "metadata": {},
     "execution_count": 59
    }
   ],
   "source": [
    "tgt"
   ]
  },
  {
   "cell_type": "code",
   "execution_count": 44,
   "metadata": {},
   "outputs": [
    {
     "output_type": "execute_result",
     "data": {
      "text/plain": [
       "torch.Size([1, 30, 52])"
      ]
     },
     "metadata": {},
     "execution_count": 44
    }
   ],
   "source": [
    "tmp_t_data.shape"
   ]
  },
  {
   "cell_type": "code",
   "execution_count": 68,
   "metadata": {},
   "outputs": [
    {
     "output_type": "stream",
     "name": "stdout",
     "text": [
      "start epoch | | end epoch: 1\t| time: 2.2183 |  loss : 0.702500\n",
      "start epoch | | end epoch: 2\t| time: 2.5795 |  loss : 0.702046\n",
      "start epoch | | end epoch: 3\t| time: 1.9584 |  loss : 0.702280\n",
      "start epoch | | end epoch: 4\t| time: 2.5124 |  loss : 0.702405\n",
      "start epoch | | end epoch: 5\t| time: 3.6526 |  loss : 0.702253\n",
      "start epoch | | end epoch: 6\t| time: 3.8524 |  loss : 0.702344\n",
      "start epoch | | end epoch: 7\t| time: 1.8979 |  loss : 0.702307\n",
      "start epoch | | end epoch: 8\t| time: 1.9325 |  loss : 0.702281\n",
      "start epoch | | end epoch: 9\t| time: 2.1764 |  loss : 0.702319\n",
      "start epoch | | end epoch: 10\t| time: 3.2911 |  loss : 0.702354\n",
      "start epoch | | end epoch: 11\t| time: 3.8690 |  loss : 0.702310\n",
      "start epoch | | end epoch: 12\t| time: 3.7198 |  loss : 0.702442\n",
      "start epoch | | end epoch: 13\t| time: 2.8652 |  loss : 0.702283\n",
      "start epoch | | end epoch: 14\t| time: 2.6781 |  loss : 0.702350\n",
      "start epoch | | end epoch: 15\t| time: 2.4927 |  loss : 0.702379\n",
      "start epoch | | end epoch: 16\t| time: 2.4652 |  loss : 0.702232\n",
      "start epoch | | end epoch: 17\t| time: 2.5156 |  loss : 0.702445\n",
      "start epoch | | end epoch: 18\t| time: 3.5359 |  loss : 0.702271\n",
      "start epoch | | end epoch: 19\t| time: 3.0386 |  loss : 0.702339\n",
      "start epoch | | end epoch: 20\t| time: 4.6810 |  loss : 0.702520\n",
      "start epoch | | end epoch: 21\t| time: 4.1563 |  loss : 0.702476\n",
      "start epoch | | end epoch: 22\t| time: 4.1877 |  loss : 0.702434\n",
      "start epoch | | end epoch: 23\t| time: 3.7011 |  loss : 0.702603\n",
      "start epoch | | end epoch: 24\t| time: 3.8138 |  loss : 0.702567\n",
      "start epoch | | end epoch: 25\t| time: 3.6593 |  loss : 0.702450\n",
      "start epoch | | end epoch: 26\t| time: 3.5657 |  loss : 0.702292\n",
      "start epoch | | end epoch: 27\t| time: 3.4883 |  loss : 0.702630\n",
      "start epoch | | end epoch: 28\t| time: 3.7307 |  loss : 0.702510\n",
      "start epoch | | end epoch: 29\t| time: 4.4896 |  loss : 0.702691\n",
      "start epoch | | end epoch: 30\t| time: 3.5483 |  loss : 0.702465\n",
      "start epoch | | end epoch: 31\t| time: 3.4636 |  loss : 0.702481\n",
      "start epoch | | end epoch: 32\t| time: 3.4781 |  loss : 0.702498\n",
      "start epoch | | end epoch: 33\t| time: 3.4006 |  loss : 0.702810\n",
      "start epoch | | end epoch: 34\t| time: 3.4950 |  loss : 0.702606\n",
      "start epoch | | end epoch: 35\t| time: 4.1437 |  loss : 0.702391\n",
      "start epoch | | end epoch: 36\t| time: 4.2994 |  loss : 0.702562\n",
      "start epoch | | end epoch: 37\t| time: 3.4024 |  loss : 0.702514\n",
      "start epoch | "
     ]
    },
    {
     "output_type": "error",
     "ename": "KeyboardInterrupt",
     "evalue": "",
     "traceback": [
      "\u001b[1;31m---------------------------------------------------------------------------\u001b[0m",
      "\u001b[1;31mKeyboardInterrupt\u001b[0m                         Traceback (most recent call last)",
      "\u001b[1;32m<ipython-input-68-e73bb1b95267>\u001b[0m in \u001b[0;36m<module>\u001b[1;34m()\u001b[0m\n\u001b[0;32m      9\u001b[0m \u001b[1;33m\u001b[0m\u001b[0m\n\u001b[0;32m     10\u001b[0m     \u001b[0moptimizer\u001b[0m\u001b[1;33m.\u001b[0m\u001b[0mzero_grad\u001b[0m\u001b[1;33m(\u001b[0m\u001b[1;33m)\u001b[0m\u001b[1;33m\u001b[0m\u001b[0m\n\u001b[1;32m---> 11\u001b[1;33m     \u001b[0mpredict\u001b[0m \u001b[1;33m=\u001b[0m \u001b[0mtransmodel\u001b[0m\u001b[1;33m(\u001b[0m\u001b[0msrc\u001b[0m\u001b[1;33m,\u001b[0m\u001b[0mtgt\u001b[0m\u001b[1;33m)\u001b[0m\u001b[1;33m\u001b[0m\u001b[0m\n\u001b[0m\u001b[0;32m     12\u001b[0m     \u001b[1;31m# print(predict.shape , tmp_t_data.shape)\u001b[0m\u001b[1;33m\u001b[0m\u001b[1;33m\u001b[0m\u001b[0m\n\u001b[0;32m     13\u001b[0m     \u001b[0mloss\u001b[0m \u001b[1;33m=\u001b[0m\u001b[0mloss_fn\u001b[0m\u001b[1;33m(\u001b[0m\u001b[0mpredict\u001b[0m\u001b[1;33m,\u001b[0m\u001b[0mtmp_t_data\u001b[0m\u001b[1;33m)\u001b[0m\u001b[1;33m\u001b[0m\u001b[0m\n",
      "\u001b[1;32mC:\\anaconda3\\lib\\site-packages\\torch\\nn\\modules\\module.py\u001b[0m in \u001b[0;36m_call_impl\u001b[1;34m(self, *input, **kwargs)\u001b[0m\n\u001b[0;32m    887\u001b[0m             \u001b[0mresult\u001b[0m \u001b[1;33m=\u001b[0m \u001b[0mself\u001b[0m\u001b[1;33m.\u001b[0m\u001b[0m_slow_forward\u001b[0m\u001b[1;33m(\u001b[0m\u001b[1;33m*\u001b[0m\u001b[0minput\u001b[0m\u001b[1;33m,\u001b[0m \u001b[1;33m**\u001b[0m\u001b[0mkwargs\u001b[0m\u001b[1;33m)\u001b[0m\u001b[1;33m\u001b[0m\u001b[0m\n\u001b[0;32m    888\u001b[0m         \u001b[1;32melse\u001b[0m\u001b[1;33m:\u001b[0m\u001b[1;33m\u001b[0m\u001b[0m\n\u001b[1;32m--> 889\u001b[1;33m             \u001b[0mresult\u001b[0m \u001b[1;33m=\u001b[0m \u001b[0mself\u001b[0m\u001b[1;33m.\u001b[0m\u001b[0mforward\u001b[0m\u001b[1;33m(\u001b[0m\u001b[1;33m*\u001b[0m\u001b[0minput\u001b[0m\u001b[1;33m,\u001b[0m \u001b[1;33m**\u001b[0m\u001b[0mkwargs\u001b[0m\u001b[1;33m)\u001b[0m\u001b[1;33m\u001b[0m\u001b[0m\n\u001b[0m\u001b[0;32m    890\u001b[0m         for hook in itertools.chain(\n\u001b[0;32m    891\u001b[0m                 \u001b[0m_global_forward_hooks\u001b[0m\u001b[1;33m.\u001b[0m\u001b[0mvalues\u001b[0m\u001b[1;33m(\u001b[0m\u001b[1;33m)\u001b[0m\u001b[1;33m,\u001b[0m\u001b[1;33m\u001b[0m\u001b[0m\n",
      "\u001b[1;32m<ipython-input-24-b7d226f9be9c>\u001b[0m in \u001b[0;36mforward\u001b[1;34m(self, src, tgt, src_mask, tgt_mask)\u001b[0m\n\u001b[0;32m     45\u001b[0m \u001b[1;33m\u001b[0m\u001b[0m\n\u001b[0;32m     46\u001b[0m         \u001b[1;31m# print(\"source shape : {0} | target shape : {1}\".format(src.shape,tgt.shape))\u001b[0m\u001b[1;33m\u001b[0m\u001b[1;33m\u001b[0m\u001b[0m\n\u001b[1;32m---> 47\u001b[1;33m         \u001b[0mtarget\u001b[0m \u001b[1;33m=\u001b[0m \u001b[0mself\u001b[0m\u001b[1;33m.\u001b[0m\u001b[0mtransformer\u001b[0m\u001b[1;33m(\u001b[0m\u001b[0msrc\u001b[0m\u001b[1;33m=\u001b[0m\u001b[0msrc\u001b[0m\u001b[1;33m,\u001b[0m\u001b[0mtgt\u001b[0m\u001b[1;33m=\u001b[0m\u001b[0mtgt\u001b[0m\u001b[1;33m,\u001b[0m\u001b[0msrc_mask\u001b[0m \u001b[1;33m=\u001b[0m \u001b[1;32mNone\u001b[0m\u001b[1;33m,\u001b[0m \u001b[0mtgt_mask\u001b[0m \u001b[1;33m=\u001b[0m \u001b[1;32mNone\u001b[0m\u001b[1;33m)\u001b[0m\u001b[1;33m\u001b[0m\u001b[0m\n\u001b[0m\u001b[0;32m     48\u001b[0m         \u001b[0moutput\u001b[0m \u001b[1;33m=\u001b[0m \u001b[0mself\u001b[0m\u001b[1;33m.\u001b[0m\u001b[0mdecoder\u001b[0m\u001b[1;33m(\u001b[0m\u001b[0mtarget\u001b[0m\u001b[1;33m)\u001b[0m\u001b[1;33m\u001b[0m\u001b[0m\n\u001b[0;32m     49\u001b[0m         \u001b[0moutput\u001b[0m \u001b[1;33m=\u001b[0m \u001b[0mself\u001b[0m\u001b[1;33m.\u001b[0m\u001b[0msoftmax\u001b[0m\u001b[1;33m(\u001b[0m\u001b[0moutput\u001b[0m\u001b[1;33m)\u001b[0m\u001b[1;33m\u001b[0m\u001b[0m\n",
      "\u001b[1;32mC:\\anaconda3\\lib\\site-packages\\torch\\nn\\modules\\module.py\u001b[0m in \u001b[0;36m_call_impl\u001b[1;34m(self, *input, **kwargs)\u001b[0m\n\u001b[0;32m    887\u001b[0m             \u001b[0mresult\u001b[0m \u001b[1;33m=\u001b[0m \u001b[0mself\u001b[0m\u001b[1;33m.\u001b[0m\u001b[0m_slow_forward\u001b[0m\u001b[1;33m(\u001b[0m\u001b[1;33m*\u001b[0m\u001b[0minput\u001b[0m\u001b[1;33m,\u001b[0m \u001b[1;33m**\u001b[0m\u001b[0mkwargs\u001b[0m\u001b[1;33m)\u001b[0m\u001b[1;33m\u001b[0m\u001b[0m\n\u001b[0;32m    888\u001b[0m         \u001b[1;32melse\u001b[0m\u001b[1;33m:\u001b[0m\u001b[1;33m\u001b[0m\u001b[0m\n\u001b[1;32m--> 889\u001b[1;33m             \u001b[0mresult\u001b[0m \u001b[1;33m=\u001b[0m \u001b[0mself\u001b[0m\u001b[1;33m.\u001b[0m\u001b[0mforward\u001b[0m\u001b[1;33m(\u001b[0m\u001b[1;33m*\u001b[0m\u001b[0minput\u001b[0m\u001b[1;33m,\u001b[0m \u001b[1;33m**\u001b[0m\u001b[0mkwargs\u001b[0m\u001b[1;33m)\u001b[0m\u001b[1;33m\u001b[0m\u001b[0m\n\u001b[0m\u001b[0;32m    890\u001b[0m         for hook in itertools.chain(\n\u001b[0;32m    891\u001b[0m                 \u001b[0m_global_forward_hooks\u001b[0m\u001b[1;33m.\u001b[0m\u001b[0mvalues\u001b[0m\u001b[1;33m(\u001b[0m\u001b[1;33m)\u001b[0m\u001b[1;33m,\u001b[0m\u001b[1;33m\u001b[0m\u001b[0m\n",
      "\u001b[1;32mC:\\anaconda3\\lib\\site-packages\\torch\\nn\\modules\\transformer.py\u001b[0m in \u001b[0;36mforward\u001b[1;34m(self, src, tgt, src_mask, tgt_mask, memory_mask, src_key_padding_mask, tgt_key_padding_mask, memory_key_padding_mask)\u001b[0m\n\u001b[0;32m    122\u001b[0m             \u001b[1;32mraise\u001b[0m \u001b[0mRuntimeError\u001b[0m\u001b[1;33m(\u001b[0m\u001b[1;34m\"the feature number of src and tgt must be equal to d_model\"\u001b[0m\u001b[1;33m)\u001b[0m\u001b[1;33m\u001b[0m\u001b[0m\n\u001b[0;32m    123\u001b[0m \u001b[1;33m\u001b[0m\u001b[0m\n\u001b[1;32m--> 124\u001b[1;33m         \u001b[0mmemory\u001b[0m \u001b[1;33m=\u001b[0m \u001b[0mself\u001b[0m\u001b[1;33m.\u001b[0m\u001b[0mencoder\u001b[0m\u001b[1;33m(\u001b[0m\u001b[0msrc\u001b[0m\u001b[1;33m,\u001b[0m \u001b[0mmask\u001b[0m\u001b[1;33m=\u001b[0m\u001b[0msrc_mask\u001b[0m\u001b[1;33m,\u001b[0m \u001b[0msrc_key_padding_mask\u001b[0m\u001b[1;33m=\u001b[0m\u001b[0msrc_key_padding_mask\u001b[0m\u001b[1;33m)\u001b[0m\u001b[1;33m\u001b[0m\u001b[0m\n\u001b[0m\u001b[0;32m    125\u001b[0m         output = self.decoder(tgt, memory, tgt_mask=tgt_mask, memory_mask=memory_mask,\n\u001b[0;32m    126\u001b[0m                               \u001b[0mtgt_key_padding_mask\u001b[0m\u001b[1;33m=\u001b[0m\u001b[0mtgt_key_padding_mask\u001b[0m\u001b[1;33m,\u001b[0m\u001b[1;33m\u001b[0m\u001b[0m\n",
      "\u001b[1;32mC:\\anaconda3\\lib\\site-packages\\torch\\nn\\modules\\module.py\u001b[0m in \u001b[0;36m_call_impl\u001b[1;34m(self, *input, **kwargs)\u001b[0m\n\u001b[0;32m    887\u001b[0m             \u001b[0mresult\u001b[0m \u001b[1;33m=\u001b[0m \u001b[0mself\u001b[0m\u001b[1;33m.\u001b[0m\u001b[0m_slow_forward\u001b[0m\u001b[1;33m(\u001b[0m\u001b[1;33m*\u001b[0m\u001b[0minput\u001b[0m\u001b[1;33m,\u001b[0m \u001b[1;33m**\u001b[0m\u001b[0mkwargs\u001b[0m\u001b[1;33m)\u001b[0m\u001b[1;33m\u001b[0m\u001b[0m\n\u001b[0;32m    888\u001b[0m         \u001b[1;32melse\u001b[0m\u001b[1;33m:\u001b[0m\u001b[1;33m\u001b[0m\u001b[0m\n\u001b[1;32m--> 889\u001b[1;33m             \u001b[0mresult\u001b[0m \u001b[1;33m=\u001b[0m \u001b[0mself\u001b[0m\u001b[1;33m.\u001b[0m\u001b[0mforward\u001b[0m\u001b[1;33m(\u001b[0m\u001b[1;33m*\u001b[0m\u001b[0minput\u001b[0m\u001b[1;33m,\u001b[0m \u001b[1;33m**\u001b[0m\u001b[0mkwargs\u001b[0m\u001b[1;33m)\u001b[0m\u001b[1;33m\u001b[0m\u001b[0m\n\u001b[0m\u001b[0;32m    890\u001b[0m         for hook in itertools.chain(\n\u001b[0;32m    891\u001b[0m                 \u001b[0m_global_forward_hooks\u001b[0m\u001b[1;33m.\u001b[0m\u001b[0mvalues\u001b[0m\u001b[1;33m(\u001b[0m\u001b[1;33m)\u001b[0m\u001b[1;33m,\u001b[0m\u001b[1;33m\u001b[0m\u001b[0m\n",
      "\u001b[1;32mC:\\anaconda3\\lib\\site-packages\\torch\\nn\\modules\\transformer.py\u001b[0m in \u001b[0;36mforward\u001b[1;34m(self, src, mask, src_key_padding_mask)\u001b[0m\n\u001b[0;32m    180\u001b[0m \u001b[1;33m\u001b[0m\u001b[0m\n\u001b[0;32m    181\u001b[0m         \u001b[1;32mfor\u001b[0m \u001b[0mmod\u001b[0m \u001b[1;32min\u001b[0m \u001b[0mself\u001b[0m\u001b[1;33m.\u001b[0m\u001b[0mlayers\u001b[0m\u001b[1;33m:\u001b[0m\u001b[1;33m\u001b[0m\u001b[0m\n\u001b[1;32m--> 182\u001b[1;33m             \u001b[0moutput\u001b[0m \u001b[1;33m=\u001b[0m \u001b[0mmod\u001b[0m\u001b[1;33m(\u001b[0m\u001b[0moutput\u001b[0m\u001b[1;33m,\u001b[0m \u001b[0msrc_mask\u001b[0m\u001b[1;33m=\u001b[0m\u001b[0mmask\u001b[0m\u001b[1;33m,\u001b[0m \u001b[0msrc_key_padding_mask\u001b[0m\u001b[1;33m=\u001b[0m\u001b[0msrc_key_padding_mask\u001b[0m\u001b[1;33m)\u001b[0m\u001b[1;33m\u001b[0m\u001b[0m\n\u001b[0m\u001b[0;32m    183\u001b[0m \u001b[1;33m\u001b[0m\u001b[0m\n\u001b[0;32m    184\u001b[0m         \u001b[1;32mif\u001b[0m \u001b[0mself\u001b[0m\u001b[1;33m.\u001b[0m\u001b[0mnorm\u001b[0m \u001b[1;32mis\u001b[0m \u001b[1;32mnot\u001b[0m \u001b[1;32mNone\u001b[0m\u001b[1;33m:\u001b[0m\u001b[1;33m\u001b[0m\u001b[0m\n",
      "\u001b[1;32mC:\\anaconda3\\lib\\site-packages\\torch\\nn\\modules\\module.py\u001b[0m in \u001b[0;36m_call_impl\u001b[1;34m(self, *input, **kwargs)\u001b[0m\n\u001b[0;32m    887\u001b[0m             \u001b[0mresult\u001b[0m \u001b[1;33m=\u001b[0m \u001b[0mself\u001b[0m\u001b[1;33m.\u001b[0m\u001b[0m_slow_forward\u001b[0m\u001b[1;33m(\u001b[0m\u001b[1;33m*\u001b[0m\u001b[0minput\u001b[0m\u001b[1;33m,\u001b[0m \u001b[1;33m**\u001b[0m\u001b[0mkwargs\u001b[0m\u001b[1;33m)\u001b[0m\u001b[1;33m\u001b[0m\u001b[0m\n\u001b[0;32m    888\u001b[0m         \u001b[1;32melse\u001b[0m\u001b[1;33m:\u001b[0m\u001b[1;33m\u001b[0m\u001b[0m\n\u001b[1;32m--> 889\u001b[1;33m             \u001b[0mresult\u001b[0m \u001b[1;33m=\u001b[0m \u001b[0mself\u001b[0m\u001b[1;33m.\u001b[0m\u001b[0mforward\u001b[0m\u001b[1;33m(\u001b[0m\u001b[1;33m*\u001b[0m\u001b[0minput\u001b[0m\u001b[1;33m,\u001b[0m \u001b[1;33m**\u001b[0m\u001b[0mkwargs\u001b[0m\u001b[1;33m)\u001b[0m\u001b[1;33m\u001b[0m\u001b[0m\n\u001b[0m\u001b[0;32m    890\u001b[0m         for hook in itertools.chain(\n\u001b[0;32m    891\u001b[0m                 \u001b[0m_global_forward_hooks\u001b[0m\u001b[1;33m.\u001b[0m\u001b[0mvalues\u001b[0m\u001b[1;33m(\u001b[0m\u001b[1;33m)\u001b[0m\u001b[1;33m,\u001b[0m\u001b[1;33m\u001b[0m\u001b[0m\n",
      "\u001b[1;32mC:\\anaconda3\\lib\\site-packages\\torch\\nn\\modules\\transformer.py\u001b[0m in \u001b[0;36mforward\u001b[1;34m(self, src, src_mask, src_key_padding_mask)\u001b[0m\n\u001b[0;32m    293\u001b[0m         \"\"\"\n\u001b[0;32m    294\u001b[0m         src2 = self.self_attn(src, src, src, attn_mask=src_mask,\n\u001b[1;32m--> 295\u001b[1;33m                               key_padding_mask=src_key_padding_mask)[0]\n\u001b[0m\u001b[0;32m    296\u001b[0m         \u001b[0msrc\u001b[0m \u001b[1;33m=\u001b[0m \u001b[0msrc\u001b[0m \u001b[1;33m+\u001b[0m \u001b[0mself\u001b[0m\u001b[1;33m.\u001b[0m\u001b[0mdropout1\u001b[0m\u001b[1;33m(\u001b[0m\u001b[0msrc2\u001b[0m\u001b[1;33m)\u001b[0m\u001b[1;33m\u001b[0m\u001b[0m\n\u001b[0;32m    297\u001b[0m         \u001b[0msrc\u001b[0m \u001b[1;33m=\u001b[0m \u001b[0mself\u001b[0m\u001b[1;33m.\u001b[0m\u001b[0mnorm1\u001b[0m\u001b[1;33m(\u001b[0m\u001b[0msrc\u001b[0m\u001b[1;33m)\u001b[0m\u001b[1;33m\u001b[0m\u001b[0m\n",
      "\u001b[1;32mC:\\anaconda3\\lib\\site-packages\\torch\\nn\\modules\\module.py\u001b[0m in \u001b[0;36m_call_impl\u001b[1;34m(self, *input, **kwargs)\u001b[0m\n\u001b[0;32m    887\u001b[0m             \u001b[0mresult\u001b[0m \u001b[1;33m=\u001b[0m \u001b[0mself\u001b[0m\u001b[1;33m.\u001b[0m\u001b[0m_slow_forward\u001b[0m\u001b[1;33m(\u001b[0m\u001b[1;33m*\u001b[0m\u001b[0minput\u001b[0m\u001b[1;33m,\u001b[0m \u001b[1;33m**\u001b[0m\u001b[0mkwargs\u001b[0m\u001b[1;33m)\u001b[0m\u001b[1;33m\u001b[0m\u001b[0m\n\u001b[0;32m    888\u001b[0m         \u001b[1;32melse\u001b[0m\u001b[1;33m:\u001b[0m\u001b[1;33m\u001b[0m\u001b[0m\n\u001b[1;32m--> 889\u001b[1;33m             \u001b[0mresult\u001b[0m \u001b[1;33m=\u001b[0m \u001b[0mself\u001b[0m\u001b[1;33m.\u001b[0m\u001b[0mforward\u001b[0m\u001b[1;33m(\u001b[0m\u001b[1;33m*\u001b[0m\u001b[0minput\u001b[0m\u001b[1;33m,\u001b[0m \u001b[1;33m**\u001b[0m\u001b[0mkwargs\u001b[0m\u001b[1;33m)\u001b[0m\u001b[1;33m\u001b[0m\u001b[0m\n\u001b[0m\u001b[0;32m    890\u001b[0m         for hook in itertools.chain(\n\u001b[0;32m    891\u001b[0m                 \u001b[0m_global_forward_hooks\u001b[0m\u001b[1;33m.\u001b[0m\u001b[0mvalues\u001b[0m\u001b[1;33m(\u001b[0m\u001b[1;33m)\u001b[0m\u001b[1;33m,\u001b[0m\u001b[1;33m\u001b[0m\u001b[0m\n",
      "\u001b[1;32mC:\\anaconda3\\lib\\site-packages\\torch\\nn\\modules\\activation.py\u001b[0m in \u001b[0;36mforward\u001b[1;34m(self, query, key, value, key_padding_mask, need_weights, attn_mask)\u001b[0m\n\u001b[0;32m    985\u001b[0m                 \u001b[0mtraining\u001b[0m\u001b[1;33m=\u001b[0m\u001b[0mself\u001b[0m\u001b[1;33m.\u001b[0m\u001b[0mtraining\u001b[0m\u001b[1;33m,\u001b[0m\u001b[1;33m\u001b[0m\u001b[0m\n\u001b[0;32m    986\u001b[0m                 \u001b[0mkey_padding_mask\u001b[0m\u001b[1;33m=\u001b[0m\u001b[0mkey_padding_mask\u001b[0m\u001b[1;33m,\u001b[0m \u001b[0mneed_weights\u001b[0m\u001b[1;33m=\u001b[0m\u001b[0mneed_weights\u001b[0m\u001b[1;33m,\u001b[0m\u001b[1;33m\u001b[0m\u001b[0m\n\u001b[1;32m--> 987\u001b[1;33m                 attn_mask=attn_mask)\n\u001b[0m\u001b[0;32m    988\u001b[0m \u001b[1;33m\u001b[0m\u001b[0m\n\u001b[0;32m    989\u001b[0m \u001b[1;33m\u001b[0m\u001b[0m\n",
      "\u001b[1;32mC:\\anaconda3\\lib\\site-packages\\torch\\nn\\functional.py\u001b[0m in \u001b[0;36mmulti_head_attention_forward\u001b[1;34m(query, key, value, embed_dim_to_check, num_heads, in_proj_weight, in_proj_bias, bias_k, bias_v, add_zero_attn, dropout_p, out_proj_weight, out_proj_bias, training, key_padding_mask, need_weights, attn_mask, use_separate_proj_weight, q_proj_weight, k_proj_weight, v_proj_weight, static_k, static_v)\u001b[0m\n\u001b[0;32m   4802\u001b[0m         \u001b[0mattn_output_weights\u001b[0m \u001b[1;33m=\u001b[0m \u001b[0mattn_output_weights\u001b[0m\u001b[1;33m.\u001b[0m\u001b[0mview\u001b[0m\u001b[1;33m(\u001b[0m\u001b[0mbsz\u001b[0m \u001b[1;33m*\u001b[0m \u001b[0mnum_heads\u001b[0m\u001b[1;33m,\u001b[0m \u001b[0mtgt_len\u001b[0m\u001b[1;33m,\u001b[0m \u001b[0msrc_len\u001b[0m\u001b[1;33m)\u001b[0m\u001b[1;33m\u001b[0m\u001b[0m\n\u001b[0;32m   4803\u001b[0m \u001b[1;33m\u001b[0m\u001b[0m\n\u001b[1;32m-> 4804\u001b[1;33m     \u001b[0mattn_output_weights\u001b[0m \u001b[1;33m=\u001b[0m \u001b[0msoftmax\u001b[0m\u001b[1;33m(\u001b[0m\u001b[0mattn_output_weights\u001b[0m\u001b[1;33m,\u001b[0m \u001b[0mdim\u001b[0m\u001b[1;33m=\u001b[0m\u001b[1;33m-\u001b[0m\u001b[1;36m1\u001b[0m\u001b[1;33m)\u001b[0m\u001b[1;33m\u001b[0m\u001b[0m\n\u001b[0m\u001b[0;32m   4805\u001b[0m     \u001b[0mattn_output_weights\u001b[0m \u001b[1;33m=\u001b[0m \u001b[0mdropout\u001b[0m\u001b[1;33m(\u001b[0m\u001b[0mattn_output_weights\u001b[0m\u001b[1;33m,\u001b[0m \u001b[0mp\u001b[0m\u001b[1;33m=\u001b[0m\u001b[0mdropout_p\u001b[0m\u001b[1;33m,\u001b[0m \u001b[0mtraining\u001b[0m\u001b[1;33m=\u001b[0m\u001b[0mtraining\u001b[0m\u001b[1;33m)\u001b[0m\u001b[1;33m\u001b[0m\u001b[0m\n\u001b[0;32m   4806\u001b[0m \u001b[1;33m\u001b[0m\u001b[0m\n",
      "\u001b[1;32mC:\\anaconda3\\lib\\site-packages\\torch\\nn\\functional.py\u001b[0m in \u001b[0;36msoftmax\u001b[1;34m(input, dim, _stacklevel, dtype)\u001b[0m\n\u001b[0;32m   1581\u001b[0m         \u001b[0mdim\u001b[0m \u001b[1;33m=\u001b[0m \u001b[0m_get_softmax_dim\u001b[0m\u001b[1;33m(\u001b[0m\u001b[1;34m\"softmax\"\u001b[0m\u001b[1;33m,\u001b[0m \u001b[0minput\u001b[0m\u001b[1;33m.\u001b[0m\u001b[0mdim\u001b[0m\u001b[1;33m(\u001b[0m\u001b[1;33m)\u001b[0m\u001b[1;33m,\u001b[0m \u001b[0m_stacklevel\u001b[0m\u001b[1;33m)\u001b[0m\u001b[1;33m\u001b[0m\u001b[0m\n\u001b[0;32m   1582\u001b[0m     \u001b[1;32mif\u001b[0m \u001b[0mdtype\u001b[0m \u001b[1;32mis\u001b[0m \u001b[1;32mNone\u001b[0m\u001b[1;33m:\u001b[0m\u001b[1;33m\u001b[0m\u001b[0m\n\u001b[1;32m-> 1583\u001b[1;33m         \u001b[0mret\u001b[0m \u001b[1;33m=\u001b[0m \u001b[0minput\u001b[0m\u001b[1;33m.\u001b[0m\u001b[0msoftmax\u001b[0m\u001b[1;33m(\u001b[0m\u001b[0mdim\u001b[0m\u001b[1;33m)\u001b[0m\u001b[1;33m\u001b[0m\u001b[0m\n\u001b[0m\u001b[0;32m   1584\u001b[0m     \u001b[1;32melse\u001b[0m\u001b[1;33m:\u001b[0m\u001b[1;33m\u001b[0m\u001b[0m\n\u001b[0;32m   1585\u001b[0m         \u001b[0mret\u001b[0m \u001b[1;33m=\u001b[0m \u001b[0minput\u001b[0m\u001b[1;33m.\u001b[0m\u001b[0msoftmax\u001b[0m\u001b[1;33m(\u001b[0m\u001b[0mdim\u001b[0m\u001b[1;33m,\u001b[0m \u001b[0mdtype\u001b[0m\u001b[1;33m=\u001b[0m\u001b[0mdtype\u001b[0m\u001b[1;33m)\u001b[0m\u001b[1;33m\u001b[0m\u001b[0m\n",
      "\u001b[1;31mKeyboardInterrupt\u001b[0m: "
     ]
    }
   ],
   "source": [
    "epochs = 100\n",
    "losses = []\n",
    "transmodel.train()\n",
    "for i in range(epochs):\n",
    "    start = time.time()\n",
    "    print(\"start epoch \",end=\"| \")\n",
    "    # tgt = decode_data[:,x*batch_size:(x+1)*batch_size]\n",
    "    # pre_tgt sos데이터만 들어있는 target_data\n",
    "    \n",
    "    optimizer.zero_grad()\n",
    "    predict = transmodel(src,tgt)\n",
    "    # print(predict.shape , tmp_t_data.shape)\n",
    "    loss =loss_fn(predict,tmp_t_data)\n",
    "    \n",
    "    loss.backward()\n",
    "    losses.append(loss.item())\n",
    "    optimizer.step()\n",
    "    end = time.time()\n",
    "    print(\"| end epoch: {0}\\t| time: {2:.4f} |  loss : {1:6f}\".format(i+1,losses[i],end-start))   \n",
    "        "
   ]
  },
  {
   "cell_type": "code",
   "execution_count": 126,
   "metadata": {},
   "outputs": [
    {
     "output_type": "display_data",
     "data": {
      "text/plain": "<Figure size 720x720 with 1 Axes>",
      "image/png": "[encoded data removed]"
     },
     "metadata": {
      "needs_background": "light"
     }
    }
   ],
   "source": [
    "import matplotlib.pyplot as plt\n",
    "\n",
    "\n",
    "plt.figure(figsize=(10,10))\n",
    "plt.plot(losses)\n",
    "plt.ylabel('loss')\n",
    "plt.xlabel('batch')\n",
    "plt.show()"
   ]
  },
  {
   "cell_type": "code",
   "execution_count": 242,
   "metadata": {},
   "outputs": [
    {
     "output_type": "display_data",
     "data": {
      "text/plain": "<Figure size 720x720 with 1 Axes>",
      "image/png": "[encoded data removed]"
     },
     "metadata": {
      "needs_background": "light"
     }
    }
   ],
   "source": [
    "import matplotlib.pyplot as plt\n",
    "\n",
    "plt.figure(figsize=(10,10))\n",
    "plt.plot(losses)\n",
    "plt.ylabel('loss')\n",
    "plt.xlabel('batch')\n",
    "plt.show()"
   ]
  },
  {
   "cell_type": "code",
   "execution_count": 61,
   "metadata": {},
   "outputs": [
    {
     "output_type": "stream",
     "name": "stdout",
     "text": [
      "tensor([0.5036, 0.2125])\n"
     ]
    },
    {
     "output_type": "execute_result",
     "data": {
      "text/plain": [
       "<function matplotlib.pyplot.show(*args, **kw)>"
      ]
     },
     "metadata": {},
     "execution_count": 61
    },
    {
     "output_type": "display_data",
     "data": {
      "text/plain": "<Figure size 432x288 with 1 Axes>",
      "image/svg+xml": "<?xml version=\"1.0\" encoding=\"utf-8\" standalone=\"no\"?>\r\n<!DOCTYPE svg PUBLIC \"-//W3C//DTD SVG 1.1//EN\"\r\n  \"http://www.w3.org/Graphics/SVG/1.1/DTD/svg11.dtd\">\r\n<!-- Created with matplotlib (http://matplotlib.org/) -->\r\n<svg height=\"252.018125pt\" version=\"1.1\" viewBox=\"0 0 381.965625 252.018125\" width=\"381.965625pt\" xmlns=\"http://www.w3.org/2000/svg\" xmlns:xlink=\"http://www.w3.org/1999/xlink\">\r\n <defs>\r\n  <style type=\"text/css\">\r\n*{stroke-linecap:butt;stroke-linejoin:round;}\r\n  </style>\r\n </defs>\r\n <g id=\"figure_1\">\r\n  <g id=\"patch_1\">\r\n   <path d=\"M 0 252.018125 \r\nL 381.965625 252.018125 \r\nL 381.965625 0 \r\nL 0 0 \r\nz\r\n\" style=\"fill:none;\"/>\r\n  </g>\r\n  <g id=\"axes_1\">\r\n   <g id=\"patch_2\">\r\n    <path d=\"M 36.465625 228.14 \r\nL 371.265625 228.14 \r\nL 371.265625 10.7 \r\nL 36.465625 10.7 \r\nz\r\n\" style=\"fill:#ffffff;\"/>\r\n   </g>\r\n   <g id=\"matplotlib.axis_1\">\r\n    <g id=\"xtick_1\">\r\n     <g id=\"line2d_1\">\r\n      <defs>\r\n       <path d=\"M 0 0 \r\nL 0 3.5 \r\n\" id=\"m24e5e74d77\" style=\"stroke:#000000;stroke-width:0.8;\"/>\r\n      </defs>\r\n      <g>\r\n       <use style=\"stroke:#000000;stroke-width:0.8;\" x=\"51.683807\" xlink:href=\"#m24e5e74d77\" y=\"228.14\"/>\r\n      </g>\r\n     </g>\r\n     <g id=\"text_1\">\r\n      <!-- 0.0 -->\r\n      <defs>\r\n       <path d=\"M 31.78125 66.40625 \r\nQ 24.171875 66.40625 20.328125 58.90625 \r\nQ 16.5 51.421875 16.5 36.375 \r\nQ 16.5 21.390625 20.328125 13.890625 \r\nQ 24.171875 6.390625 31.78125 6.390625 \r\nQ 39.453125 6.390625 43.28125 13.890625 \r\nQ 47.125 21.390625 47.125 36.375 \r\nQ 47.125 51.421875 43.28125 58.90625 \r\nQ 39.453125 66.40625 31.78125 66.40625 \r\nz\r\nM 31.78125 74.21875 \r\nQ 44.046875 74.21875 50.515625 64.515625 \r\nQ 56.984375 54.828125 56.984375 36.375 \r\nQ 56.984375 17.96875 50.515625 8.265625 \r\nQ 44.046875 -1.421875 31.78125 -1.421875 \r\nQ 19.53125 -1.421875 13.0625 8.265625 \r\nQ 6.59375 17.96875 6.59375 36.375 \r\nQ 6.59375 54.828125 13.0625 64.515625 \r\nQ 19.53125 74.21875 31.78125 74.21875 \r\nz\r\n\" id=\"DejaVuSans-30\"/>\r\n       <path d=\"M 10.6875 12.40625 \r\nL 21 12.40625 \r\nL 21 0 \r\nL 10.6875 0 \r\nz\r\n\" id=\"DejaVuSans-2e\"/>\r\n      </defs>\r\n      <g transform=\"translate(43.732244 242.738437)scale(0.1 -0.1)\">\r\n       <use xlink:href=\"#DejaVuSans-30\"/>\r\n       <use x=\"63.623047\" xlink:href=\"#DejaVuSans-2e\"/>\r\n       <use x=\"95.410156\" xlink:href=\"#DejaVuSans-30\"/>\r\n      </g>\r\n     </g>\r\n    </g>\r\n    <g id=\"xtick_2\">\r\n     <g id=\"line2d_2\">\r\n      <g>\r\n       <use style=\"stroke:#000000;stroke-width:0.8;\" x=\"112.556534\" xlink:href=\"#m24e5e74d77\" y=\"228.14\"/>\r\n      </g>\r\n     </g>\r\n     <g id=\"text_2\">\r\n      <!-- 0.2 -->\r\n      <defs>\r\n       <path d=\"M 19.1875 8.296875 \r\nL 53.609375 8.296875 \r\nL 53.609375 0 \r\nL 7.328125 0 \r\nL 7.328125 8.296875 \r\nQ 12.9375 14.109375 22.625 23.890625 \r\nQ 32.328125 33.6875 34.8125 36.53125 \r\nQ 39.546875 41.84375 41.421875 45.53125 \r\nQ 43.3125 49.21875 43.3125 52.78125 \r\nQ 43.3125 58.59375 39.234375 62.25 \r\nQ 35.15625 65.921875 28.609375 65.921875 \r\nQ 23.96875 65.921875 18.8125 64.3125 \r\nQ 13.671875 62.703125 7.8125 59.421875 \r\nL 7.8125 69.390625 \r\nQ 13.765625 71.78125 18.9375 73 \r\nQ 24.125 74.21875 28.421875 74.21875 \r\nQ 39.75 74.21875 46.484375 68.546875 \r\nQ 53.21875 62.890625 53.21875 53.421875 \r\nQ 53.21875 48.921875 51.53125 44.890625 \r\nQ 49.859375 40.875 45.40625 35.40625 \r\nQ 44.1875 33.984375 37.640625 27.21875 \r\nQ 31.109375 20.453125 19.1875 8.296875 \r\nz\r\n\" id=\"DejaVuSans-32\"/>\r\n      </defs>\r\n      <g transform=\"translate(104.604972 242.738437)scale(0.1 -0.1)\">\r\n       <use xlink:href=\"#DejaVuSans-30\"/>\r\n       <use x=\"63.623047\" xlink:href=\"#DejaVuSans-2e\"/>\r\n       <use x=\"95.410156\" xlink:href=\"#DejaVuSans-32\"/>\r\n      </g>\r\n     </g>\r\n    </g>\r\n    <g id=\"xtick_3\">\r\n     <g id=\"line2d_3\">\r\n      <g>\r\n       <use style=\"stroke:#000000;stroke-width:0.8;\" x=\"173.429261\" xlink:href=\"#m24e5e74d77\" y=\"228.14\"/>\r\n      </g>\r\n     </g>\r\n     <g id=\"text_3\">\r\n      <!-- 0.4 -->\r\n      <defs>\r\n       <path d=\"M 37.796875 64.3125 \r\nL 12.890625 25.390625 \r\nL 37.796875 25.390625 \r\nz\r\nM 35.203125 72.90625 \r\nL 47.609375 72.90625 \r\nL 47.609375 25.390625 \r\nL 58.015625 25.390625 \r\nL 58.015625 17.1875 \r\nL 47.609375 17.1875 \r\nL 47.609375 0 \r\nL 37.796875 0 \r\nL 37.796875 17.1875 \r\nL 4.890625 17.1875 \r\nL 4.890625 26.703125 \r\nz\r\n\" id=\"DejaVuSans-34\"/>\r\n      </defs>\r\n      <g transform=\"translate(165.477699 242.738437)scale(0.1 -0.1)\">\r\n       <use xlink:href=\"#DejaVuSans-30\"/>\r\n       <use x=\"63.623047\" xlink:href=\"#DejaVuSans-2e\"/>\r\n       <use x=\"95.410156\" xlink:href=\"#DejaVuSans-34\"/>\r\n      </g>\r\n     </g>\r\n    </g>\r\n    <g id=\"xtick_4\">\r\n     <g id=\"line2d_4\">\r\n      <g>\r\n       <use style=\"stroke:#000000;stroke-width:0.8;\" x=\"234.301989\" xlink:href=\"#m24e5e74d77\" y=\"228.14\"/>\r\n      </g>\r\n     </g>\r\n     <g id=\"text_4\">\r\n      <!-- 0.6 -->\r\n      <defs>\r\n       <path d=\"M 33.015625 40.375 \r\nQ 26.375 40.375 22.484375 35.828125 \r\nQ 18.609375 31.296875 18.609375 23.390625 \r\nQ 18.609375 15.53125 22.484375 10.953125 \r\nQ 26.375 6.390625 33.015625 6.390625 \r\nQ 39.65625 6.390625 43.53125 10.953125 \r\nQ 47.40625 15.53125 47.40625 23.390625 \r\nQ 47.40625 31.296875 43.53125 35.828125 \r\nQ 39.65625 40.375 33.015625 40.375 \r\nz\r\nM 52.59375 71.296875 \r\nL 52.59375 62.3125 \r\nQ 48.875 64.0625 45.09375 64.984375 \r\nQ 41.3125 65.921875 37.59375 65.921875 \r\nQ 27.828125 65.921875 22.671875 59.328125 \r\nQ 17.53125 52.734375 16.796875 39.40625 \r\nQ 19.671875 43.65625 24.015625 45.921875 \r\nQ 28.375 48.1875 33.59375 48.1875 \r\nQ 44.578125 48.1875 50.953125 41.515625 \r\nQ 57.328125 34.859375 57.328125 23.390625 \r\nQ 57.328125 12.15625 50.6875 5.359375 \r\nQ 44.046875 -1.421875 33.015625 -1.421875 \r\nQ 20.359375 -1.421875 13.671875 8.265625 \r\nQ 6.984375 17.96875 6.984375 36.375 \r\nQ 6.984375 53.65625 15.1875 63.9375 \r\nQ 23.390625 74.21875 37.203125 74.21875 \r\nQ 40.921875 74.21875 44.703125 73.484375 \r\nQ 48.484375 72.75 52.59375 71.296875 \r\nz\r\n\" id=\"DejaVuSans-36\"/>\r\n      </defs>\r\n      <g transform=\"translate(226.350426 242.738437)scale(0.1 -0.1)\">\r\n       <use xlink:href=\"#DejaVuSans-30\"/>\r\n       <use x=\"63.623047\" xlink:href=\"#DejaVuSans-2e\"/>\r\n       <use x=\"95.410156\" xlink:href=\"#DejaVuSans-36\"/>\r\n      </g>\r\n     </g>\r\n    </g>\r\n    <g id=\"xtick_5\">\r\n     <g id=\"line2d_5\">\r\n      <g>\r\n       <use style=\"stroke:#000000;stroke-width:0.8;\" x=\"295.174716\" xlink:href=\"#m24e5e74d77\" y=\"228.14\"/>\r\n      </g>\r\n     </g>\r\n     <g id=\"text_5\">\r\n      <!-- 0.8 -->\r\n      <defs>\r\n       <path d=\"M 31.78125 34.625 \r\nQ 24.75 34.625 20.71875 30.859375 \r\nQ 16.703125 27.09375 16.703125 20.515625 \r\nQ 16.703125 13.921875 20.71875 10.15625 \r\nQ 24.75 6.390625 31.78125 6.390625 \r\nQ 38.8125 6.390625 42.859375 10.171875 \r\nQ 46.921875 13.96875 46.921875 20.515625 \r\nQ 46.921875 27.09375 42.890625 30.859375 \r\nQ 38.875 34.625 31.78125 34.625 \r\nz\r\nM 21.921875 38.8125 \r\nQ 15.578125 40.375 12.03125 44.71875 \r\nQ 8.5 49.078125 8.5 55.328125 \r\nQ 8.5 64.0625 14.71875 69.140625 \r\nQ 20.953125 74.21875 31.78125 74.21875 \r\nQ 42.671875 74.21875 48.875 69.140625 \r\nQ 55.078125 64.0625 55.078125 55.328125 \r\nQ 55.078125 49.078125 51.53125 44.71875 \r\nQ 48 40.375 41.703125 38.8125 \r\nQ 48.828125 37.15625 52.796875 32.3125 \r\nQ 56.78125 27.484375 56.78125 20.515625 \r\nQ 56.78125 9.90625 50.3125 4.234375 \r\nQ 43.84375 -1.421875 31.78125 -1.421875 \r\nQ 19.734375 -1.421875 13.25 4.234375 \r\nQ 6.78125 9.90625 6.78125 20.515625 \r\nQ 6.78125 27.484375 10.78125 32.3125 \r\nQ 14.796875 37.15625 21.921875 38.8125 \r\nz\r\nM 18.3125 54.390625 \r\nQ 18.3125 48.734375 21.84375 45.5625 \r\nQ 25.390625 42.390625 31.78125 42.390625 \r\nQ 38.140625 42.390625 41.71875 45.5625 \r\nQ 45.3125 48.734375 45.3125 54.390625 \r\nQ 45.3125 60.0625 41.71875 63.234375 \r\nQ 38.140625 66.40625 31.78125 66.40625 \r\nQ 25.390625 66.40625 21.84375 63.234375 \r\nQ 18.3125 60.0625 18.3125 54.390625 \r\nz\r\n\" id=\"DejaVuSans-38\"/>\r\n      </defs>\r\n      <g transform=\"translate(287.223153 242.738437)scale(0.1 -0.1)\">\r\n       <use xlink:href=\"#DejaVuSans-30\"/>\r\n       <use x=\"63.623047\" xlink:href=\"#DejaVuSans-2e\"/>\r\n       <use x=\"95.410156\" xlink:href=\"#DejaVuSans-38\"/>\r\n      </g>\r\n     </g>\r\n    </g>\r\n    <g id=\"xtick_6\">\r\n     <g id=\"line2d_6\">\r\n      <g>\r\n       <use style=\"stroke:#000000;stroke-width:0.8;\" x=\"356.047443\" xlink:href=\"#m24e5e74d77\" y=\"228.14\"/>\r\n      </g>\r\n     </g>\r\n     <g id=\"text_6\">\r\n      <!-- 1.0 -->\r\n      <defs>\r\n       <path d=\"M 12.40625 8.296875 \r\nL 28.515625 8.296875 \r\nL 28.515625 63.921875 \r\nL 10.984375 60.40625 \r\nL 10.984375 69.390625 \r\nL 28.421875 72.90625 \r\nL 38.28125 72.90625 \r\nL 38.28125 8.296875 \r\nL 54.390625 8.296875 \r\nL 54.390625 0 \r\nL 12.40625 0 \r\nz\r\n\" id=\"DejaVuSans-31\"/>\r\n      </defs>\r\n      <g transform=\"translate(348.095881 242.738437)scale(0.1 -0.1)\">\r\n       <use xlink:href=\"#DejaVuSans-31\"/>\r\n       <use x=\"63.623047\" xlink:href=\"#DejaVuSans-2e\"/>\r\n       <use x=\"95.410156\" xlink:href=\"#DejaVuSans-30\"/>\r\n      </g>\r\n     </g>\r\n    </g>\r\n   </g>\r\n   <g id=\"matplotlib.axis_2\">\r\n    <g id=\"ytick_1\">\r\n     <g id=\"line2d_7\">\r\n      <defs>\r\n       <path d=\"M 0 0 \r\nL -3.5 0 \r\n\" id=\"mf54fb67992\" style=\"stroke:#000000;stroke-width:0.8;\"/>\r\n      </defs>\r\n      <g>\r\n       <use style=\"stroke:#000000;stroke-width:0.8;\" x=\"36.465625\" xlink:href=\"#mf54fb67992\" y=\"226.736252\"/>\r\n      </g>\r\n     </g>\r\n     <g id=\"text_7\">\r\n      <!-- 0.20 -->\r\n      <g transform=\"translate(7.2 230.535471)scale(0.1 -0.1)\">\r\n       <use xlink:href=\"#DejaVuSans-30\"/>\r\n       <use x=\"63.623047\" xlink:href=\"#DejaVuSans-2e\"/>\r\n       <use x=\"95.410156\" xlink:href=\"#DejaVuSans-32\"/>\r\n       <use x=\"159.033203\" xlink:href=\"#DejaVuSans-30\"/>\r\n      </g>\r\n     </g>\r\n    </g>\r\n    <g id=\"ytick_2\">\r\n     <g id=\"line2d_8\">\r\n      <g>\r\n       <use style=\"stroke:#000000;stroke-width:0.8;\" x=\"36.465625\" xlink:href=\"#mf54fb67992\" y=\"192.787332\"/>\r\n      </g>\r\n     </g>\r\n     <g id=\"text_8\">\r\n      <!-- 0.25 -->\r\n      <defs>\r\n       <path d=\"M 10.796875 72.90625 \r\nL 49.515625 72.90625 \r\nL 49.515625 64.59375 \r\nL 19.828125 64.59375 \r\nL 19.828125 46.734375 \r\nQ 21.96875 47.46875 24.109375 47.828125 \r\nQ 26.265625 48.1875 28.421875 48.1875 \r\nQ 40.625 48.1875 47.75 41.5 \r\nQ 54.890625 34.8125 54.890625 23.390625 \r\nQ 54.890625 11.625 47.5625 5.09375 \r\nQ 40.234375 -1.421875 26.90625 -1.421875 \r\nQ 22.3125 -1.421875 17.546875 -0.640625 \r\nQ 12.796875 0.140625 7.71875 1.703125 \r\nL 7.71875 11.625 \r\nQ 12.109375 9.234375 16.796875 8.0625 \r\nQ 21.484375 6.890625 26.703125 6.890625 \r\nQ 35.15625 6.890625 40.078125 11.328125 \r\nQ 45.015625 15.765625 45.015625 23.390625 \r\nQ 45.015625 31 40.078125 35.4375 \r\nQ 35.15625 39.890625 26.703125 39.890625 \r\nQ 22.75 39.890625 18.8125 39.015625 \r\nQ 14.890625 38.140625 10.796875 36.28125 \r\nz\r\n\" id=\"DejaVuSans-35\"/>\r\n      </defs>\r\n      <g transform=\"translate(7.2 196.586551)scale(0.1 -0.1)\">\r\n       <use xlink:href=\"#DejaVuSans-30\"/>\r\n       <use x=\"63.623047\" xlink:href=\"#DejaVuSans-2e\"/>\r\n       <use x=\"95.410156\" xlink:href=\"#DejaVuSans-32\"/>\r\n       <use x=\"159.033203\" xlink:href=\"#DejaVuSans-35\"/>\r\n      </g>\r\n     </g>\r\n    </g>\r\n    <g id=\"ytick_3\">\r\n     <g id=\"line2d_9\">\r\n      <g>\r\n       <use style=\"stroke:#000000;stroke-width:0.8;\" x=\"36.465625\" xlink:href=\"#mf54fb67992\" y=\"158.838412\"/>\r\n      </g>\r\n     </g>\r\n     <g id=\"text_9\">\r\n      <!-- 0.30 -->\r\n      <defs>\r\n       <path d=\"M 40.578125 39.3125 \r\nQ 47.65625 37.796875 51.625 33 \r\nQ 55.609375 28.21875 55.609375 21.1875 \r\nQ 55.609375 10.40625 48.1875 4.484375 \r\nQ 40.765625 -1.421875 27.09375 -1.421875 \r\nQ 22.515625 -1.421875 17.65625 -0.515625 \r\nQ 12.796875 0.390625 7.625 2.203125 \r\nL 7.625 11.71875 \r\nQ 11.71875 9.328125 16.59375 8.109375 \r\nQ 21.484375 6.890625 26.8125 6.890625 \r\nQ 36.078125 6.890625 40.9375 10.546875 \r\nQ 45.796875 14.203125 45.796875 21.1875 \r\nQ 45.796875 27.640625 41.28125 31.265625 \r\nQ 36.765625 34.90625 28.71875 34.90625 \r\nL 20.21875 34.90625 \r\nL 20.21875 43.015625 \r\nL 29.109375 43.015625 \r\nQ 36.375 43.015625 40.234375 45.921875 \r\nQ 44.09375 48.828125 44.09375 54.296875 \r\nQ 44.09375 59.90625 40.109375 62.90625 \r\nQ 36.140625 65.921875 28.71875 65.921875 \r\nQ 24.65625 65.921875 20.015625 65.03125 \r\nQ 15.375 64.15625 9.8125 62.3125 \r\nL 9.8125 71.09375 \r\nQ 15.4375 72.65625 20.34375 73.4375 \r\nQ 25.25 74.21875 29.59375 74.21875 \r\nQ 40.828125 74.21875 47.359375 69.109375 \r\nQ 53.90625 64.015625 53.90625 55.328125 \r\nQ 53.90625 49.265625 50.4375 45.09375 \r\nQ 46.96875 40.921875 40.578125 39.3125 \r\nz\r\n\" id=\"DejaVuSans-33\"/>\r\n      </defs>\r\n      <g transform=\"translate(7.2 162.637631)scale(0.1 -0.1)\">\r\n       <use xlink:href=\"#DejaVuSans-30\"/>\r\n       <use x=\"63.623047\" xlink:href=\"#DejaVuSans-2e\"/>\r\n       <use x=\"95.410156\" xlink:href=\"#DejaVuSans-33\"/>\r\n       <use x=\"159.033203\" xlink:href=\"#DejaVuSans-30\"/>\r\n      </g>\r\n     </g>\r\n    </g>\r\n    <g id=\"ytick_4\">\r\n     <g id=\"line2d_10\">\r\n      <g>\r\n       <use style=\"stroke:#000000;stroke-width:0.8;\" x=\"36.465625\" xlink:href=\"#mf54fb67992\" y=\"124.889492\"/>\r\n      </g>\r\n     </g>\r\n     <g id=\"text_10\">\r\n      <!-- 0.35 -->\r\n      <g transform=\"translate(7.2 128.688711)scale(0.1 -0.1)\">\r\n       <use xlink:href=\"#DejaVuSans-30\"/>\r\n       <use x=\"63.623047\" xlink:href=\"#DejaVuSans-2e\"/>\r\n       <use x=\"95.410156\" xlink:href=\"#DejaVuSans-33\"/>\r\n       <use x=\"159.033203\" xlink:href=\"#DejaVuSans-35\"/>\r\n      </g>\r\n     </g>\r\n    </g>\r\n    <g id=\"ytick_5\">\r\n     <g id=\"line2d_11\">\r\n      <g>\r\n       <use style=\"stroke:#000000;stroke-width:0.8;\" x=\"36.465625\" xlink:href=\"#mf54fb67992\" y=\"90.940572\"/>\r\n      </g>\r\n     </g>\r\n     <g id=\"text_11\">\r\n      <!-- 0.40 -->\r\n      <g transform=\"translate(7.2 94.73979)scale(0.1 -0.1)\">\r\n       <use xlink:href=\"#DejaVuSans-30\"/>\r\n       <use x=\"63.623047\" xlink:href=\"#DejaVuSans-2e\"/>\r\n       <use x=\"95.410156\" xlink:href=\"#DejaVuSans-34\"/>\r\n       <use x=\"159.033203\" xlink:href=\"#DejaVuSans-30\"/>\r\n      </g>\r\n     </g>\r\n    </g>\r\n    <g id=\"ytick_6\">\r\n     <g id=\"line2d_12\">\r\n      <g>\r\n       <use style=\"stroke:#000000;stroke-width:0.8;\" x=\"36.465625\" xlink:href=\"#mf54fb67992\" y=\"56.991651\"/>\r\n      </g>\r\n     </g>\r\n     <g id=\"text_12\">\r\n      <!-- 0.45 -->\r\n      <g transform=\"translate(7.2 60.79087)scale(0.1 -0.1)\">\r\n       <use xlink:href=\"#DejaVuSans-30\"/>\r\n       <use x=\"63.623047\" xlink:href=\"#DejaVuSans-2e\"/>\r\n       <use x=\"95.410156\" xlink:href=\"#DejaVuSans-34\"/>\r\n       <use x=\"159.033203\" xlink:href=\"#DejaVuSans-35\"/>\r\n      </g>\r\n     </g>\r\n    </g>\r\n    <g id=\"ytick_7\">\r\n     <g id=\"line2d_13\">\r\n      <g>\r\n       <use style=\"stroke:#000000;stroke-width:0.8;\" x=\"36.465625\" xlink:href=\"#mf54fb67992\" y=\"23.042731\"/>\r\n      </g>\r\n     </g>\r\n     <g id=\"text_13\">\r\n      <!-- 0.50 -->\r\n      <g transform=\"translate(7.2 26.84195)scale(0.1 -0.1)\">\r\n       <use xlink:href=\"#DejaVuSans-30\"/>\r\n       <use x=\"63.623047\" xlink:href=\"#DejaVuSans-2e\"/>\r\n       <use x=\"95.410156\" xlink:href=\"#DejaVuSans-35\"/>\r\n       <use x=\"159.033203\" xlink:href=\"#DejaVuSans-30\"/>\r\n      </g>\r\n     </g>\r\n    </g>\r\n   </g>\r\n   <g id=\"line2d_14\">\r\n    <path clip-path=\"url(#p2f5cb93502)\" d=\"M 51.683807 20.583636 \r\nL 356.047443 218.256364 \r\n\" style=\"fill:none;stroke:#1f77b4;stroke-linecap:square;stroke-width:1.5;\"/>\r\n   </g>\r\n   <g id=\"patch_3\">\r\n    <path d=\"M 36.465625 228.14 \r\nL 36.465625 10.7 \r\n\" style=\"fill:none;stroke:#000000;stroke-linecap:square;stroke-linejoin:miter;stroke-width:0.8;\"/>\r\n   </g>\r\n   <g id=\"patch_4\">\r\n    <path d=\"M 371.265625 228.14 \r\nL 371.265625 10.7 \r\n\" style=\"fill:none;stroke:#000000;stroke-linecap:square;stroke-linejoin:miter;stroke-width:0.8;\"/>\r\n   </g>\r\n   <g id=\"patch_5\">\r\n    <path d=\"M 36.465625 228.14 \r\nL 371.265625 228.14 \r\n\" style=\"fill:none;stroke:#000000;stroke-linecap:square;stroke-linejoin:miter;stroke-width:0.8;\"/>\r\n   </g>\r\n   <g id=\"patch_6\">\r\n    <path d=\"M 36.465625 10.7 \r\nL 371.265625 10.7 \r\n\" style=\"fill:none;stroke:#000000;stroke-linecap:square;stroke-linejoin:miter;stroke-width:0.8;\"/>\r\n   </g>\r\n  </g>\r\n </g>\r\n <defs>\r\n  <clipPath id=\"p2f5cb93502\">\r\n   <rect height=\"217.44\" width=\"334.8\" x=\"36.465625\" y=\"10.7\"/>\r\n  </clipPath>\r\n </defs>\r\n</svg>\r\n",
      "image/png": "[encoded data removed]"
     },
     "metadata": {
      "needs_background": "light"
     }
    }
   ],
   "source": [
    "import matplotlib.pyplot as plt\n",
    "print(pt_list[0][0,:2])\n",
    "plt.plot(pt_list[0][0,:2])\n",
    "plt.show"
   ]
  },
  {
   "cell_type": "code",
   "execution_count": 127,
   "metadata": {},
   "outputs": [],
   "source": [
    "result = transmodel(src,tgt)"
   ]
  },
  {
   "cell_type": "code",
   "execution_count": 116,
   "metadata": {},
   "outputs": [
    {
     "output_type": "execute_result",
     "data": {
      "text/plain": [
       "(tensor([[54, 54, 54, 54, 54, 54, 54, 54, 54, 54, 54, 54, 54, 54, 54, 54, 54, 54,\n",
       "          54, 54, 54, 54, 54, 54, 54, 54, 54, 54, 54, 54]]),\n",
       " torch.Size([1, 30]))"
      ]
     },
     "metadata": {},
     "execution_count": 116
    }
   ],
   "source": [
    "tgt , tgt.shape"
   ]
  },
  {
   "cell_type": "code",
   "execution_count": 117,
   "metadata": {},
   "outputs": [
    {
     "output_type": "execute_result",
     "data": {
      "text/plain": [
       "(tensor([[[1., 0., 0.,  ..., 0., 0., 0.],\n",
       "          [0., 1., 0.,  ..., 0., 0., 0.],\n",
       "          [0., 0., 1.,  ..., 0., 0., 0.],\n",
       "          ...,\n",
       "          [0., 0., 0.,  ..., 0., 0., 0.],\n",
       "          [0., 0., 0.,  ..., 0., 0., 0.],\n",
       "          [0., 0., 0.,  ..., 0., 0., 0.]]]), torch.Size([1, 30, 56]))"
      ]
     },
     "metadata": {},
     "execution_count": 117
    }
   ],
   "source": [
    "tmp_t_data , tmp_t_data.shape"
   ]
  },
  {
   "cell_type": "code",
   "execution_count": 121,
   "metadata": {},
   "outputs": [
    {
     "output_type": "execute_result",
     "data": {
      "text/plain": [
       "tensor([3.3999e-02, 2.0831e-02, 4.0823e-02, 5.1722e-02, 2.4650e-02, 3.6870e-02,\n",
       "        2.7998e-02, 3.9706e-02, 3.2650e-02, 3.5268e-02, 3.6919e-02, 2.7820e-02,\n",
       "        4.0161e-02, 3.3819e-02, 2.7603e-02, 2.7528e-02, 5.4422e-02, 4.2100e-02,\n",
       "        2.0889e-02, 3.7752e-02, 3.5224e-02, 2.1071e-02, 3.2184e-02, 3.1602e-02,\n",
       "        3.3649e-02, 1.8887e-02, 2.7311e-02, 2.7461e-02, 4.2803e-02, 3.3265e-02,\n",
       "        1.1483e-04, 7.1574e-05, 1.1148e-04, 1.0352e-04, 7.0121e-05, 7.6069e-05,\n",
       "        6.7633e-05, 1.2005e-04, 8.8043e-05, 4.7937e-05, 8.0356e-05, 1.3047e-04,\n",
       "        1.3660e-04, 2.5605e-04, 9.4986e-05, 1.6834e-04, 1.1402e-04, 2.0213e-04,\n",
       "        4.2745e-05, 2.1330e-04, 1.0463e-04, 1.6054e-04, 5.4403e-05, 2.2950e-04,\n",
       "        9.8412e-05, 5.5797e-05], grad_fn=<SelectBackward>)"
      ]
     },
     "metadata": {},
     "execution_count": 121
    }
   ],
   "source": [
    "result[0,0]"
   ]
  },
  {
   "cell_type": "code",
   "execution_count": 128,
   "metadata": {},
   "outputs": [
    {
     "output_type": "execute_result",
     "data": {
      "text/plain": [
       "tensor([11, 41, 23, 35, 35, 27, 32, 35, 34, 35, 35, 45, 50, 32,  7, 35, 35, 35,\n",
       "        35, 54, 23, 41, 23, 35, 35, 27, 35, 35, 35, 35])"
      ]
     },
     "metadata": {},
     "execution_count": 128
    }
   ],
   "source": [
    "result.squeeze(0).max(dim=-1, keepdim=False)[1]"
   ]
  },
  {
   "cell_type": "code",
   "execution_count": 110,
   "metadata": {},
   "outputs": [
    {
     "output_type": "stream",
     "name": "stdout",
     "text": [
      "[0, 1, 2, 3, 4, 5, 6, 7, 8, 9, 10, 11, 12, 13, 14, 15, 16, 17, 18, 19, 20, 21, 22, 23, 24, 25, 26, 27, 28, 29]\n"
     ]
    }
   ],
   "source": [
    "print(list(range(30)))"
   ]
  },
  {
   "cell_type": "code",
   "execution_count": 249,
   "metadata": {},
   "outputs": [
    {
     "output_type": "execute_result",
     "data": {
      "text/plain": [
       "torch.Size([1, 153])"
      ]
     },
     "metadata": {},
     "execution_count": 249
    }
   ],
   "source": [
    "sos_data.shape"
   ]
  },
  {
   "cell_type": "code",
   "execution_count": 281,
   "metadata": {},
   "outputs": [],
   "source": [
    "tmp_data = torch.LongTensor(np.zeros(153)).unsqueeze(0)\n",
    "\n",
    "pre_tgt = torch.cat((sos_data,tmp_data),dim=0)"
   ]
  },
  {
   "cell_type": "code",
   "execution_count": 282,
   "metadata": {},
   "outputs": [
    {
     "output_type": "execute_result",
     "data": {
      "text/plain": [
       "tensor([[51, 51, 51, 51, 51, 51, 51, 51, 51, 51],\n",
       "        [ 0,  0,  0,  0,  0,  0,  0,  0,  0,  0]])"
      ]
     },
     "metadata": {},
     "execution_count": 282
    }
   ],
   "source": [
    "pre_tgt[:,:10]"
   ]
  },
  {
   "cell_type": "code",
   "execution_count": 283,
   "metadata": {},
   "outputs": [],
   "source": [
    "predict = transmodel(src,pre_tgt[:,:30],src_mask=src_mask, tgt_mask=tgt_mask)"
   ]
  },
  {
   "cell_type": "code",
   "execution_count": 285,
   "metadata": {},
   "outputs": [
    {
     "output_type": "execute_result",
     "data": {
      "text/plain": [
       "torch.Size([191, 30, 63])"
      ]
     },
     "metadata": {},
     "execution_count": 285
    }
   ],
   "source": [
    "src[0].shape"
   ]
  },
  {
   "cell_type": "code",
   "execution_count": 284,
   "metadata": {},
   "outputs": [
    {
     "output_type": "execute_result",
     "data": {
      "text/plain": [
       "tensor([[20, 24, 13, 41, 20,  8, 43, 43, 41,  9, 20, 11, 24, 20, 43,  9, 43, 38,\n",
       "         43, 33, 22, 35, 41, 41, 43, 43, 20,  8,  5, 11],\n",
       "        [52, 52, 52, 52, 52, 52, 52, 52, 52, 52, 52, 52, 52, 52, 52, 52, 52, 52,\n",
       "         52, 52, 52, 52, 52, 52, 52, 52, 52, 52, 52, 52]])"
      ]
     },
     "metadata": {},
     "execution_count": 284
    }
   ],
   "source": [
    "predict.squeeze(0).max(dim=-1, keepdim=False)[1]"
   ]
  },
  {
   "source": [
    "<hr>"
   ],
   "cell_type": "markdown",
   "metadata": {}
  },
  {
   "cell_type": "code",
   "execution_count": 39,
   "metadata": {},
   "outputs": [
    {
     "output_type": "execute_result",
     "data": {
      "text/plain": [
       "torch.Size([1, 173])"
      ]
     },
     "metadata": {},
     "execution_count": 39
    }
   ],
   "source": [
    "epochs = 100\n",
    "losses = [] \n",
    "for i in range(epochs): \n",
    "    for x in range(len(lt_list)):\n",
    "        predict = net(lt_list[x], rt_list[x], ft_list[x], pt_list[x])    # [1,20] ont-hot vector\n",
    "        X = predict[0] # [20] 으로 변경\n",
    "        Y = y_data[x]  # [20] 짜리 단위 행렬\n",
    "        loss = loss_fn()(X,Y)   # Binary Cross Entropy 강화학습때 했던 log사용하는 loss 함수\n",
    "\n",
    "        optimizer.zero_grad()\n",
    "        loss.backward()\n",
    "        losses.append(loss.item())\n",
    "        optimizer.step()\n",
    "    print(\"epoch : {0} , loss : {1} \".format(i,sum(losses[i*20:(i+1)*20])))"
   ]
  },
  {
   "cell_type": "code",
   "execution_count": 40,
   "metadata": {},
   "outputs": [],
   "source": [
    "target = decoder_output.squeeze(0).max(dim=-1)[1]"
   ]
  },
  {
   "cell_type": "code",
   "execution_count": 42,
   "metadata": {},
   "outputs": [
    {
     "output_type": "execute_result",
     "data": {
      "text/plain": [
       "torch.Size([1, 173, 224])"
      ]
     },
     "metadata": {},
     "execution_count": 42
    }
   ],
   "source": [
    "decoder_output.shape"
   ]
  },
  {
   "cell_type": "code",
   "execution_count": 41,
   "metadata": {},
   "outputs": [
    {
     "output_type": "execute_result",
     "data": {
      "text/plain": [
       "torch.Size([173])"
      ]
     },
     "metadata": {},
     "execution_count": 41
    }
   ],
   "source": [
    "target.shape"
   ]
  },
  {
   "cell_type": "code",
   "execution_count": 147,
   "metadata": {},
   "outputs": [],
   "source": [
    "tmp_layer = torch.nn.RNN(224,100,batch_first=True)\n"
   ]
  },
  {
   "cell_type": "code",
   "execution_count": 152,
   "metadata": {},
   "outputs": [],
   "source": [
    "out , h  =tmp_layer(encode_train_data[:1])"
   ]
  },
  {
   "cell_type": "code",
   "execution_count": 153,
   "metadata": {},
   "outputs": [
    {
     "output_type": "execute_result",
     "data": {
      "text/plain": [
       "(torch.Size([1, 173, 100]), torch.Size([1, 1, 100]))"
      ]
     },
     "metadata": {},
     "execution_count": 153
    }
   ],
   "source": [
    "out.shape , h.shape"
   ]
  },
  {
   "cell_type": "code",
   "execution_count": 132,
   "metadata": {},
   "outputs": [],
   "source": [
    "encode_mask = transmodel.generate_square_subsequent_mask(encode_train_data.shape[0])"
   ]
  },
  {
   "cell_type": "code",
   "execution_count": 133,
   "metadata": {},
   "outputs": [
    {
     "output_type": "execute_result",
     "data": {
      "text/plain": [
       "torch.Size([20, 20])"
      ]
     },
     "metadata": {},
     "execution_count": 133
    }
   ],
   "source": [
    "encode_mask.shape"
   ]
  },
  {
   "cell_type": "code",
   "execution_count": 148,
   "metadata": {},
   "outputs": [],
   "source": [
    "tmp_tgt = torch.LongTensor(np.zeros([1,30]))\n"
   ]
  },
  {
   "cell_type": "code",
   "execution_count": 149,
   "metadata": {},
   "outputs": [
    {
     "output_type": "execute_result",
     "data": {
      "text/plain": [
       "tensor([[0, 0, 0, 0, 0, 0, 0, 0, 0, 0, 0, 0, 0, 0, 0, 0, 0, 0, 0, 0, 0, 0, 0, 0,\n",
       "         0, 0, 0, 0, 0, 0]])"
      ]
     },
     "metadata": {},
     "execution_count": 149
    }
   ],
   "source": [
    "tmp_tgt"
   ]
  },
  {
   "cell_type": "code",
   "execution_count": 157,
   "metadata": {},
   "outputs": [],
   "source": [
    "predict = transmodel(src,tmp_tgt)\n",
    "# np.argmax\n",
    "prob = predict.squeeze(0).max(dim=-1, keepdim=False)[1]"
   ]
  },
  {
   "cell_type": "code",
   "execution_count": 156,
   "metadata": {},
   "outputs": [
    {
     "output_type": "execute_result",
     "data": {
      "text/plain": [
       "(torch.Size([1, 30]),\n",
       " tensor([[18, 19, 20, 21, 22, 23, 24, 25, 26, 27, 28, 29, 30, 31, 32, 33, 34, 35,\n",
       "          36, 37, 38, 39, 40, 41, 42, 43, 44, 45, 46, 47]]))"
      ]
     },
     "metadata": {},
     "execution_count": 156
    }
   ],
   "source": [
    "tgt.shape ,tgt"
   ]
  },
  {
   "cell_type": "code",
   "execution_count": 158,
   "metadata": {},
   "outputs": [
    {
     "output_type": "execute_result",
     "data": {
      "text/plain": [
       "tensor([0, 0, 0, 0, 0, 0, 0, 0, 0, 0, 0, 0, 0, 0, 0, 0, 0, 0, 0, 0, 0, 0, 0, 0,\n",
       "        0, 0, 0, 0, 0, 0])"
      ]
     },
     "metadata": {},
     "execution_count": 158
    }
   ],
   "source": [
    "prob"
   ]
  },
  {
   "cell_type": "code",
   "execution_count": 17,
   "metadata": {},
   "outputs": [],
   "source": [
    "class Net(torch.nn.Module):\n",
    "    '''\n",
    "    현재 모델 상황\n",
    "    \n",
    "    구조\n",
    "    left, right, face, pose 전부 각각을 rnn -> dnn 순으로 입력후\n",
    "    모두 concat하고 flatten 한뒤 dnn에 입력함\n",
    "\n",
    "    rnn -> relu -> dnn -> relu -> concat -> flat -> dnn -> softmax 순\n",
    "\n",
    "    구성 이유\n",
    "    왼손, 오른손, 얼굴, 포즈를 각각 rnn에 돌려서 특정 패턴으로 인식하고 \n",
    "    해당 패턴을 조합하여 값을 내놓는다 라는 가정하에 만들었음\n",
    "\n",
    "    제한 사항\n",
    "\n",
    "    input shape를 고정하고\n",
    "    output 또한 one hot vector로 출력되며 해당값은 1~20사이 값만 출력됨\n",
    "\n",
    "    수정이 필요한 사항\n",
    "    1.  seq사이즈를 고정하지 않고 하려 했으내 nn.Embeding은 long타입이 필요하며\n",
    "        다른 방식으로 seq사이즈를 고정하는 방식을 찾이 못했음\n",
    "\n",
    "    2.  output이 지금은 softmax를 활용한 단순 분류임 text로 변환하려는 작업이 추가적으로 필요함\n",
    "\n",
    "    '''\n",
    "    def __init__(self,seq, hidden_size, output_size):\n",
    "        super(Net, self).__init__()\n",
    "        # (batch_size,seq, 21*3)\n",
    "        # (seq, batch, feature)\n",
    "        # (batch_size,seq, 21*3)\n",
    "        # (batch_size,seq, 468*3)   \n",
    "        # (batch_size,seq, 33*3)\n",
    "\n",
    "        # 임배딩이 필요함 이때 GCN사용\n",
    "\n",
    "\n",
    "        self.lt = torch.nn.GRU(21*3, hidden_size,batch_first=True) # GRU 셀 구현\n",
    "        self.rt = torch.nn.GRU(21*3, hidden_size,batch_first=True) # GRU 셀 구현\n",
    "        self.ft = torch.nn.GRU(468*3, hidden_size,batch_first=True) # GRU 셀 구현\n",
    "        self.pt = torch.nn.GRU(33*3, hidden_size,batch_first=True) # GRU 셀 구현 \n",
    "        \n",
    "        self.trans_encode =torch.nn.TransformerEncoder()\n",
    "        self trans_decode = torch.nn.TransformerDecoder()\n",
    "       \n",
    "\n",
    "        self.relu = torch.nn.ReLU()\n",
    "        self.soft = torch.nn.Softmax(dim=1)\n",
    "        self.dnnlt = torch.nn.Linear(hidden_size, output_size, bias=True) # 출력층 구현\n",
    "        self.dnnrt = torch.nn.Linear(hidden_size, output_size, bias=True) # 출력층 구현\n",
    "        self.dnnft = torch.nn.Linear(hidden_size, output_size, bias=True) # 출력층 구현\n",
    "        self.dnnpt = torch.nn.Linear(hidden_size, output_size, bias=True) # 출력층 구현\n",
    "\n",
    "        # (1,120,20) 2400\n",
    "        # (1, 20)\n",
    "        # (1, 80)\n",
    "\n",
    "        self.flat   = torch.nn.Flatten()\n",
    "        self.outDnn = torch.nn.Linear(seq * output_size*4,20,bias=True)\n",
    "        \n",
    "    def forward(self,lt,rt,ft,pt ): # 구현한 RNN 셀과 출력층을 연결\n",
    "        concat = torch.cat\n",
    "        rlt, _status =self.lt(lt)\n",
    "        rrt, _status =self.rt(rt)\n",
    "        rft, _status =self.ft(ft)\n",
    "        rpt, _status =self.pt(pt)\n",
    "\n",
    "        rlt=self.relu(rlt)\n",
    "        rrt=self.relu(rrt)\n",
    "        rft=self.relu(rft)\n",
    "        rpt=self.relu(rpt)\n",
    "\n",
    "\n",
    "        dlt= self.dnnlt(rlt)\n",
    "        drt= self.dnnrt(rrt)\n",
    "        dft= self.dnnft(rft)\n",
    "        dpt= self.dnnpt(rpt)\n",
    "\n",
    "        \n",
    "        dlt=self.relu(dlt)\n",
    "        drt=self.relu(drt)\n",
    "        dft=self.relu(dft)\n",
    "        dpt=self.relu(dpt)\n",
    "\n",
    "        fullDnn = torch.cat((dlt, drt, dft, dpt),dim=2)\n",
    "        out = self.flat(fullDnn)\n",
    "        out = self.outDnn(out)\n",
    "        out = self.soft(out)\n",
    "\n",
    "        return out"
   ]
  },
  {
   "cell_type": "code",
   "execution_count": 18,
   "metadata": {},
   "outputs": [
    {
     "output_type": "execute_result",
     "data": {
      "text/plain": [
       "<bound method Net.forward of Net(\n",
       "  (lt): RNN(63, 60, batch_first=True)\n",
       "  (rt): RNN(63, 60, batch_first=True)\n",
       "  (ft): RNN(1404, 60, batch_first=True)\n",
       "  (pt): RNN(99, 60, batch_first=True)\n",
       "  (relu): ReLU()\n",
       "  (soft): Softmax(dim=1)\n",
       "  (dnnlt): Linear(in_features=60, out_features=200, bias=True)\n",
       "  (dnnrt): Linear(in_features=60, out_features=200, bias=True)\n",
       "  (dnnft): Linear(in_features=60, out_features=200, bias=True)\n",
       "  (dnnpt): Linear(in_features=60, out_features=200, bias=True)\n",
       "  (flat): Flatten(start_dim=1, end_dim=-1)\n",
       "  (outDnn): Linear(in_features=96000, out_features=20, bias=True)\n",
       ")>"
      ]
     },
     "metadata": {},
     "execution_count": 18
    }
   ],
   "source": [
    "net = Net(lt_list[0].shape[1], 60,200)\n",
    "net.forward"
   ]
  },
  {
   "cell_type": "code",
   "execution_count": 19,
   "metadata": {},
   "outputs": [],
   "source": [
    "learning_rate = 1e-3\n",
    "loss_fn = torch.nn.BCELoss  # Binary Cross Entropy 강화학습때 했던 log사용하는 loss 함수\n",
    "                            # https://pytorch.org/docs/stable/generated/torch.nn.BCELoss.html\n",
    "optimizer = torch.optim.Adam(net.parameters(), lr=learning_rate) "
   ]
  },
  {
   "cell_type": "code",
   "execution_count": 20,
   "metadata": {},
   "outputs": [
    {
     "output_type": "stream",
     "name": "stdout",
     "text": [
      "tensor([1., 0., 0., 0., 0., 0., 0., 0., 0., 0., 0., 0., 0., 0., 0., 0., 0., 0.,\n",
      "        0., 0.])\n"
     ]
    }
   ],
   "source": [
    "y_data = torch.FloatTensor(np.eye(20))\n",
    "print(y_data[0])"
   ]
  },
  {
   "cell_type": "code",
   "execution_count": 21,
   "metadata": {
    "tags": []
   },
   "outputs": [
    {
     "output_type": "stream",
     "name": "stdout",
     "text": [
      "epoch : 0 , loss : 7.537634804844856 \n",
      "epoch : 1 , loss : 6.3480765372514725 \n",
      "epoch : 2 , loss : 6.492609590291977 \n",
      "epoch : 3 , loss : 4.666203930974007 \n",
      "epoch : 4 , loss : 2.771341484040022 \n",
      "epoch : 5 , loss : 1.0543707867327612 \n",
      "epoch : 6 , loss : 0.3832622717563936 \n",
      "epoch : 7 , loss : 0.030057463719913358 \n",
      "epoch : 8 , loss : 0.00861805072736388 \n",
      "epoch : 9 , loss : 0.0064380973355468996 \n"
     ]
    },
    {
     "output_type": "error",
     "ename": "KeyboardInterrupt",
     "evalue": "",
     "traceback": [
      "\u001b[1;31m---------------------------------------------------------------------------\u001b[0m",
      "\u001b[1;31mKeyboardInterrupt\u001b[0m                         Traceback (most recent call last)",
      "\u001b[1;32m<ipython-input-21-f18d7b1bb120>\u001b[0m in \u001b[0;36m<module>\u001b[1;34m()\u001b[0m\n\u001b[0;32m      3\u001b[0m \u001b[1;32mfor\u001b[0m \u001b[0mi\u001b[0m \u001b[1;32min\u001b[0m \u001b[0mrange\u001b[0m\u001b[1;33m(\u001b[0m\u001b[0mepochs\u001b[0m\u001b[1;33m)\u001b[0m\u001b[1;33m:\u001b[0m\u001b[1;33m\u001b[0m\u001b[0m\n\u001b[0;32m      4\u001b[0m     \u001b[1;32mfor\u001b[0m \u001b[0mx\u001b[0m \u001b[1;32min\u001b[0m \u001b[0mrange\u001b[0m\u001b[1;33m(\u001b[0m\u001b[0mlen\u001b[0m\u001b[1;33m(\u001b[0m\u001b[0mlt_list\u001b[0m\u001b[1;33m)\u001b[0m\u001b[1;33m)\u001b[0m\u001b[1;33m:\u001b[0m\u001b[1;33m\u001b[0m\u001b[0m\n\u001b[1;32m----> 5\u001b[1;33m         \u001b[0mpredict\u001b[0m \u001b[1;33m=\u001b[0m \u001b[0mnet\u001b[0m\u001b[1;33m(\u001b[0m\u001b[0mlt_list\u001b[0m\u001b[1;33m[\u001b[0m\u001b[0mx\u001b[0m\u001b[1;33m]\u001b[0m\u001b[1;33m,\u001b[0m \u001b[0mrt_list\u001b[0m\u001b[1;33m[\u001b[0m\u001b[0mx\u001b[0m\u001b[1;33m]\u001b[0m\u001b[1;33m,\u001b[0m \u001b[0mft_list\u001b[0m\u001b[1;33m[\u001b[0m\u001b[0mx\u001b[0m\u001b[1;33m]\u001b[0m\u001b[1;33m,\u001b[0m \u001b[0mpt_list\u001b[0m\u001b[1;33m[\u001b[0m\u001b[0mx\u001b[0m\u001b[1;33m]\u001b[0m\u001b[1;33m)\u001b[0m    \u001b[1;31m# [1,20] ont-hot vector\u001b[0m\u001b[1;33m\u001b[0m\u001b[0m\n\u001b[0m\u001b[0;32m      6\u001b[0m         \u001b[0mX\u001b[0m \u001b[1;33m=\u001b[0m \u001b[0mpredict\u001b[0m\u001b[1;33m[\u001b[0m\u001b[1;36m0\u001b[0m\u001b[1;33m]\u001b[0m \u001b[1;31m# [20] 으로 변경\u001b[0m\u001b[1;33m\u001b[0m\u001b[0m\n\u001b[0;32m      7\u001b[0m         \u001b[0mY\u001b[0m \u001b[1;33m=\u001b[0m \u001b[0my_data\u001b[0m\u001b[1;33m[\u001b[0m\u001b[0mx\u001b[0m\u001b[1;33m]\u001b[0m  \u001b[1;31m# [20] 짜리 단위 행렬\u001b[0m\u001b[1;33m\u001b[0m\u001b[0m\n",
      "\u001b[1;32mC:\\anaconda3\\lib\\site-packages\\torch\\nn\\modules\\module.py\u001b[0m in \u001b[0;36m_call_impl\u001b[1;34m(self, *input, **kwargs)\u001b[0m\n\u001b[0;32m    887\u001b[0m             \u001b[0mresult\u001b[0m \u001b[1;33m=\u001b[0m \u001b[0mself\u001b[0m\u001b[1;33m.\u001b[0m\u001b[0m_slow_forward\u001b[0m\u001b[1;33m(\u001b[0m\u001b[1;33m*\u001b[0m\u001b[0minput\u001b[0m\u001b[1;33m,\u001b[0m \u001b[1;33m**\u001b[0m\u001b[0mkwargs\u001b[0m\u001b[1;33m)\u001b[0m\u001b[1;33m\u001b[0m\u001b[0m\n\u001b[0;32m    888\u001b[0m         \u001b[1;32melse\u001b[0m\u001b[1;33m:\u001b[0m\u001b[1;33m\u001b[0m\u001b[0m\n\u001b[1;32m--> 889\u001b[1;33m             \u001b[0mresult\u001b[0m \u001b[1;33m=\u001b[0m \u001b[0mself\u001b[0m\u001b[1;33m.\u001b[0m\u001b[0mforward\u001b[0m\u001b[1;33m(\u001b[0m\u001b[1;33m*\u001b[0m\u001b[0minput\u001b[0m\u001b[1;33m,\u001b[0m \u001b[1;33m**\u001b[0m\u001b[0mkwargs\u001b[0m\u001b[1;33m)\u001b[0m\u001b[1;33m\u001b[0m\u001b[0m\n\u001b[0m\u001b[0;32m    890\u001b[0m         for hook in itertools.chain(\n\u001b[0;32m    891\u001b[0m                 \u001b[0m_global_forward_hooks\u001b[0m\u001b[1;33m.\u001b[0m\u001b[0mvalues\u001b[0m\u001b[1;33m(\u001b[0m\u001b[1;33m)\u001b[0m\u001b[1;33m,\u001b[0m\u001b[1;33m\u001b[0m\u001b[0m\n",
      "\u001b[1;32m<ipython-input-17-90924f1030ea>\u001b[0m in \u001b[0;36mforward\u001b[1;34m(self, lt, rt, ft, pt)\u001b[0m\n\u001b[0;32m     53\u001b[0m         \u001b[0mrlt\u001b[0m\u001b[1;33m,\u001b[0m \u001b[0m_status\u001b[0m \u001b[1;33m=\u001b[0m\u001b[0mself\u001b[0m\u001b[1;33m.\u001b[0m\u001b[0mlt\u001b[0m\u001b[1;33m(\u001b[0m\u001b[0mlt\u001b[0m\u001b[1;33m)\u001b[0m\u001b[1;33m\u001b[0m\u001b[0m\n\u001b[0;32m     54\u001b[0m         \u001b[0mrrt\u001b[0m\u001b[1;33m,\u001b[0m \u001b[0m_status\u001b[0m \u001b[1;33m=\u001b[0m\u001b[0mself\u001b[0m\u001b[1;33m.\u001b[0m\u001b[0mrt\u001b[0m\u001b[1;33m(\u001b[0m\u001b[0mrt\u001b[0m\u001b[1;33m)\u001b[0m\u001b[1;33m\u001b[0m\u001b[0m\n\u001b[1;32m---> 55\u001b[1;33m         \u001b[0mrft\u001b[0m\u001b[1;33m,\u001b[0m \u001b[0m_status\u001b[0m \u001b[1;33m=\u001b[0m\u001b[0mself\u001b[0m\u001b[1;33m.\u001b[0m\u001b[0mft\u001b[0m\u001b[1;33m(\u001b[0m\u001b[0mft\u001b[0m\u001b[1;33m)\u001b[0m\u001b[1;33m\u001b[0m\u001b[0m\n\u001b[0m\u001b[0;32m     56\u001b[0m         \u001b[0mrpt\u001b[0m\u001b[1;33m,\u001b[0m \u001b[0m_status\u001b[0m \u001b[1;33m=\u001b[0m\u001b[0mself\u001b[0m\u001b[1;33m.\u001b[0m\u001b[0mpt\u001b[0m\u001b[1;33m(\u001b[0m\u001b[0mpt\u001b[0m\u001b[1;33m)\u001b[0m\u001b[1;33m\u001b[0m\u001b[0m\n\u001b[0;32m     57\u001b[0m \u001b[1;33m\u001b[0m\u001b[0m\n",
      "\u001b[1;32mC:\\anaconda3\\lib\\site-packages\\torch\\nn\\modules\\module.py\u001b[0m in \u001b[0;36m_call_impl\u001b[1;34m(self, *input, **kwargs)\u001b[0m\n\u001b[0;32m    887\u001b[0m             \u001b[0mresult\u001b[0m \u001b[1;33m=\u001b[0m \u001b[0mself\u001b[0m\u001b[1;33m.\u001b[0m\u001b[0m_slow_forward\u001b[0m\u001b[1;33m(\u001b[0m\u001b[1;33m*\u001b[0m\u001b[0minput\u001b[0m\u001b[1;33m,\u001b[0m \u001b[1;33m**\u001b[0m\u001b[0mkwargs\u001b[0m\u001b[1;33m)\u001b[0m\u001b[1;33m\u001b[0m\u001b[0m\n\u001b[0;32m    888\u001b[0m         \u001b[1;32melse\u001b[0m\u001b[1;33m:\u001b[0m\u001b[1;33m\u001b[0m\u001b[0m\n\u001b[1;32m--> 889\u001b[1;33m             \u001b[0mresult\u001b[0m \u001b[1;33m=\u001b[0m \u001b[0mself\u001b[0m\u001b[1;33m.\u001b[0m\u001b[0mforward\u001b[0m\u001b[1;33m(\u001b[0m\u001b[1;33m*\u001b[0m\u001b[0minput\u001b[0m\u001b[1;33m,\u001b[0m \u001b[1;33m**\u001b[0m\u001b[0mkwargs\u001b[0m\u001b[1;33m)\u001b[0m\u001b[1;33m\u001b[0m\u001b[0m\n\u001b[0m\u001b[0;32m    890\u001b[0m         for hook in itertools.chain(\n\u001b[0;32m    891\u001b[0m                 \u001b[0m_global_forward_hooks\u001b[0m\u001b[1;33m.\u001b[0m\u001b[0mvalues\u001b[0m\u001b[1;33m(\u001b[0m\u001b[1;33m)\u001b[0m\u001b[1;33m,\u001b[0m\u001b[1;33m\u001b[0m\u001b[0m\n",
      "\u001b[1;32mC:\\anaconda3\\lib\\site-packages\\torch\\nn\\modules\\rnn.py\u001b[0m in \u001b[0;36mforward\u001b[1;34m(self, input, hx)\u001b[0m\n\u001b[0;32m    264\u001b[0m         \u001b[1;32mif\u001b[0m \u001b[0mbatch_sizes\u001b[0m \u001b[1;32mis\u001b[0m \u001b[1;32mNone\u001b[0m\u001b[1;33m:\u001b[0m\u001b[1;33m\u001b[0m\u001b[0m\n\u001b[0;32m    265\u001b[0m             result = _impl(input, hx, self._flat_weights, self.bias, self.num_layers,\n\u001b[1;32m--> 266\u001b[1;33m                            self.dropout, self.training, self.bidirectional, self.batch_first)\n\u001b[0m\u001b[0;32m    267\u001b[0m         \u001b[1;32melse\u001b[0m\u001b[1;33m:\u001b[0m\u001b[1;33m\u001b[0m\u001b[0m\n\u001b[0;32m    268\u001b[0m             result = _impl(input, batch_sizes, hx, self._flat_weights, self.bias,\n",
      "\u001b[1;31mKeyboardInterrupt\u001b[0m: "
     ]
    }
   ],
   "source": [
    "epochs = 100\n",
    "losses = [] \n",
    "for i in range(epochs): \n",
    "    for x in range(len(lt_list)):\n",
    "        predict = net(lt_list[x], rt_list[x], ft_list[x], pt_list[x])    # [1,20] ont-hot vector\n",
    "        X = predict[0] # [20] 으로 변경\n",
    "        Y = y_data[x]  # [20] 짜리 단위 행렬\n",
    "        loss = loss_fn()(X,Y)   # Binary Cross Entropy 강화학습때 했던 log사용하는 loss 함수\n",
    "\n",
    "        optimizer.zero_grad()\n",
    "        loss.backward()\n",
    "        losses.append(loss.item())\n",
    "        optimizer.step()\n",
    "    print(\"epoch : {0} , loss : {1} \".format(i,sum(losses[i*20:(i+1)*20])))"
   ]
  },
  {
   "cell_type": "code",
   "execution_count": 19,
   "metadata": {},
   "outputs": [
    {
     "output_type": "execute_result",
     "data": {
      "text/plain": [
       "<All keys matched successfully>"
      ]
     },
     "metadata": {},
     "execution_count": 19
    }
   ],
   "source": [
    "model = Net(lt_list[0].shape[1], 60,200)\n",
    "model.load_state_dict(torch.load(\"./output/model/model.pt\"),strict=False) # model load 하기"
   ]
  }
 ]
}