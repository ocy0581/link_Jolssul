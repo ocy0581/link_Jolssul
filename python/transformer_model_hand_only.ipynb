{
 "metadata": {
  "language_info": {
   "codemirror_mode": {
    "name": "ipython",
    "version": 3
   },
   "file_extension": ".py",
   "mimetype": "text/x-python",
   "name": "python",
   "nbconvert_exporter": "python",
   "pygments_lexer": "ipython3",
   "version": "3.7.0"
  },
  "orig_nbformat": 2,
  "kernelspec": {
   "name": "python370jvsc74a57bd0cef9e06bb236b2a8629b07e87a04b187b952a0f661eff5533360a155783f0c33",
   "display_name": "Python 3.7.0 64-bit ('base': conda)"
  }
 },
 "nbformat": 4,
 "nbformat_minor": 2,
 "cells": [
  {
   "source": [
    "# import module"
   ],
   "cell_type": "markdown",
   "metadata": {}
  },
  {
   "cell_type": "code",
   "execution_count": 7,
   "metadata": {},
   "outputs": [],
   "source": [
    "import mediapipe as mp\n",
    "import numpy as np\n",
    "import time\n",
    "import cv2\n",
    "import torch\n",
    "import math\n",
    "import pandas as pd\n",
    "import os\n",
    "import time\n",
    "\n",
    "import utils\n",
    "import augmentation\n",
    "\n",
    "\n",
    "device = torch.device(\"cpu\")\n",
    "# import gensim"
   ]
  },
  {
   "source": [
    "# Data Load"
   ],
   "cell_type": "markdown",
   "metadata": {}
  },
  {
   "cell_type": "code",
   "execution_count": 8,
   "metadata": {},
   "outputs": [],
   "source": [
    "def load_tensor(dir_path = [\".\", \"output\", \"tensor\"]):\n",
    "    '''\n",
    "    tensor 가져오는 방식을 csv에서 가져온 번호에서 부터 불러오도록 설정\n",
    "    output 에 nums는 현재 가져온곳의 한글값을 표현하기 위해서 \n",
    "    '''\n",
    "    dir_path = os.path.join(*dir_path)\n",
    "    tensor_folders = sorted(os.listdir(dir_path))\n",
    "    print(tensor_folders[1:9])\n",
    "    h_list = []\n",
    "    answers = []\n",
    "    \n",
    "    # 0 ~ 7 순회\n",
    "    for tensor_folder in tensor_folders[1:9]:\n",
    "        tensors_path = os.path.join(dir_path + \"/\" + tensor_folder)\n",
    "        tensors = sorted(os.listdir(tensors_path))\n",
    "        \n",
    "        # 각각의 숫자 순회\n",
    "        for tensor in tensors:\n",
    "            h_list.append(torch.load(tensors_path + \"/\" + tensor + \"/hand.pt\"))\n",
    "            answers.append(int(tensor_folder))\n",
    "            \n",
    "\n",
    "    return h_list, answers"
   ]
  },
  {
   "cell_type": "code",
   "execution_count": 9,
   "metadata": {},
   "outputs": [],
   "source": [
    "def pipe(t, batch_first = False):\n",
    "    t = list(map(lambda x: x.view(-1,x.shape[1]*x.shape[2]),t))\n",
    "    t = torch.nn.utils.rnn.pad_sequence(t,batch_first=batch_first).to(device)\n",
    "    return t"
   ]
  },
  {
   "cell_type": "code",
   "execution_count": 10,
   "metadata": {},
   "outputs": [
    {
     "output_type": "stream",
     "name": "stdout",
     "text": [
      "['0', '1', '2', '3', '4', '5', '6', '7']\n"
     ]
    }
   ],
   "source": [
    "hand, nums = load_tensor()"
   ]
  },
  {
   "cell_type": "code",
   "execution_count": 11,
   "metadata": {},
   "outputs": [],
   "source": [
    "hand_tensor = pipe(hand)"
   ]
  },
  {
   "cell_type": "code",
   "execution_count": 12,
   "metadata": {},
   "outputs": [
    {
     "output_type": "execute_result",
     "data": {
      "text/plain": [
       "torch.Size([71, 954, 126])"
      ]
     },
     "metadata": {},
     "execution_count": 12
    }
   ],
   "source": [
    "hand_tensor.shape"
   ]
  },
  {
   "cell_type": "code",
   "execution_count": 14,
   "metadata": {},
   "outputs": [
    {
     "output_type": "stream",
     "name": "stdout",
     "text": [
      "숫자 0 : 117개 입니다.\n",
      "숫자 1 : 117개 입니다.\n",
      "숫자 2 : 117개 입니다.\n",
      "숫자 3 : 117개 입니다.\n",
      "숫자 4 : 120개 입니다.\n",
      "숫자 5 : 123개 입니다.\n",
      "숫자 6 : 120개 입니다.\n",
      "숫자 7 : 123개 입니다.\n"
     ]
    }
   ],
   "source": [
    "for i in range(8):\n",
    "    print(\"숫자 {0} : {1}개 입니다.\".format(i,nums.count(i)))"
   ]
  },
  {
   "cell_type": "code",
   "execution_count": 7,
   "metadata": {},
   "outputs": [],
   "source": [
    "class PositionalEncoding(torch.nn.Module):\n",
    "\n",
    "    def __init__(self, d_model,batch_first = False, dropout=0.1, max_len=5000):\n",
    "        super(PositionalEncoding, self).__init__()\n",
    "        self.dropout = torch.nn.Dropout(p=dropout)\n",
    "\n",
    "        pe = torch.zeros(max_len, d_model)\n",
    "        # print(pe.shape)\n",
    "        position = torch.arange(0, max_len, dtype=torch.float).unsqueeze(1)\n",
    "\n",
    "        div_term = torch.exp(torch.arange(0, d_model, 2).float() * (-math.log(10000.0) / d_model))\n",
    "\n",
    "        pe[:, 0::2] = torch.sin(position * div_term)        \n",
    "        # print(pe.shape)\n",
    "        pe[:, 1::2] = torch.cos(position * div_term)\n",
    "        self.batch_first = batch_first\n",
    "        if batch_first :\n",
    "            pe = pe.unsqueeze(0)\n",
    "        else :\n",
    "            pe = pe.unsqueeze(0).transpose(0,1)\n",
    "        # print(pe.shape)\n",
    "        self.register_buffer('pe', pe)\n",
    "\n",
    "    def forward(self, x):\n",
    "\n",
    "        if self.batch_first:\n",
    "            # print(x.shape , self.pe[:,:x.size(1),:].shape)\n",
    "            x = x + self.pe[:, :x.size(1),:]\n",
    "        else :\n",
    "            # print(x.shape , self.pe[:x.size(0),:].shape)\n",
    "            x = x + self.pe[:x.size(0),:]\n",
    "            \n",
    "        return self.dropout(x)"
   ]
  },
  {
   "cell_type": "code",
   "execution_count": 8,
   "metadata": {},
   "outputs": [],
   "source": [
    "# answer = kors[hand_index]\n",
    "# print(answer.shape, answer.unique().size)\n",
    "answer = nums"
   ]
  },
  {
   "cell_type": "code",
   "execution_count": 9,
   "metadata": {},
   "outputs": [
    {
     "output_type": "execute_result",
     "data": {
      "text/plain": [
       "1"
      ]
     },
     "metadata": {},
     "execution_count": 9
    }
   ],
   "source": [
    "1"
   ]
  },
  {
   "cell_type": "code",
   "execution_count": 10,
   "metadata": {},
   "outputs": [],
   "source": [
    "# tokenizer, pad_sequence\n",
    "sos_data = torch.LongTensor(np.zeros(len(answer))+8).unsqueeze(dim=0)\n",
    "decode_data = torch.LongTensor(np.array(answer)).unsqueeze(dim=0)\n",
    "decode_data = torch.cat((sos_data,decode_data),axis=0).to(device)"
   ]
  },
  {
   "cell_type": "code",
   "execution_count": 11,
   "metadata": {},
   "outputs": [
    {
     "output_type": "execute_result",
     "data": {
      "text/plain": [
       "(tensor([[8, 8, 8, 8, 8, 8, 8, 8, 8, 8],\n",
       "         [0, 0, 0, 0, 0, 0, 0, 0, 0, 0]]),\n",
       " tensor([[8, 8, 8, 8, 8, 8, 8, 8, 8, 8],\n",
       "         [7, 7, 7, 7, 7, 7, 7, 7, 7, 7]]),\n",
       " torch.Size([1, 954]),\n",
       " torch.Size([2, 954]))"
      ]
     },
     "metadata": {},
     "execution_count": 11
    }
   ],
   "source": [
    "decode_data[:,:10],decode_data[:,-10:], sos_data.shape , decode_data.shape \n",
    "# seq, batch"
   ]
  },
  {
   "cell_type": "code",
   "execution_count": 12,
   "metadata": {},
   "outputs": [],
   "source": [
    "eos_y_data = torch.zeros(1,len(answer),9)\n",
    "# (1, 153, 53)\n",
    "y_data = torch.zeros(1,len(answer),9)\n",
    "# (1, 153 , 53)\n",
    "\n",
    "y_data = torch.cat((y_data,eos_y_data),axis=0).to(device)\n",
    "y_data[0,torch.arange(len(answer)),np.array(answer)] = 1 \n",
    "#one hot vector\n",
    "\n",
    "y_data[1,torch.arange(len(answer)),-1] = 1 #eos"
   ]
  },
  {
   "cell_type": "code",
   "execution_count": 13,
   "metadata": {},
   "outputs": [
    {
     "output_type": "execute_result",
     "data": {
      "text/plain": [
       "(torch.Size([2, 954, 9]),\n",
       " tensor([8, 0]),\n",
       " tensor([[1., 0., 0., 0., 0., 0., 0., 0., 0.],\n",
       "         [0., 0., 0., 0., 0., 0., 0., 0., 1.]]))"
      ]
     },
     "metadata": {},
     "execution_count": 13
    }
   ],
   "source": [
    "y_data.shape, decode_data[:,10] , y_data[:,10] \n",
    "# (sos, answer)   , (answer , eos)\n",
    "# sos = 51 , eos = 52"
   ]
  },
  {
   "cell_type": "code",
   "execution_count": 14,
   "metadata": {},
   "outputs": [],
   "source": [
    "class TransformerModel_hand(torch.nn.Module):\n",
    "\n",
    "    def __init__(self, input_node, d_model, nhead, nhid, nlayers,ntoken ,dropout=0.5  ):\n",
    "        \"\"\"\n",
    "        input_node  node개수\n",
    "        d_model    임배딩 차원 , model 내부의 수치\n",
    "        nhead   멀티헤드 개수\n",
    "        nhid    Linear 뉴런개수 = dff \n",
    "        nlayers encoder 개수 = num_layers\n",
    "        ntoken  단어 개수\n",
    "        \"\"\"\n",
    "        super(TransformerModel_hand, self).__init__()\n",
    "        self.model_type = 'Transformer'\n",
    "        self.d_model = d_model\n",
    "\n",
    "        self.encode_emb = torch.nn.Linear(input_node,d_model)# GNN으로 대체될수도 있음\n",
    "        self.decode_emb = torch.nn.Embedding(ntoken,d_model)\n",
    "\n",
    "        self.pos_encoder = PositionalEncoding(d_model, dropout) #해당하는 언어의 위치 정보\n",
    "\n",
    "        self.transformer = torch.nn.Transformer(\n",
    "                d_model = d_model, nhead = nhead, \n",
    "                num_encoder_layers = nlayers, \n",
    "                num_decoder_layers = nlayers, \n",
    "                dim_feedforward = nhid, dropout = dropout\n",
    "            )\n",
    "\n",
    "        self.decoder = torch.nn.Linear(d_model, ntoken)\n",
    "        self.softmax = torch.nn.Softmax(dim=2)\n",
    "\n",
    "    def generate_square_subsequent_mask(self, sz):\n",
    "        mask = (torch.triu(torch.ones(sz, sz)) == 1).transpose(0, 1)\n",
    "        mask = mask.float().masked_fill(mask == 0, float('-inf')).masked_fill(mask == 1, float(0.0))\n",
    "        return mask\n",
    "\n",
    "\n",
    "    def forward(self, src ,tgt ,src_mask = None, tgt_mask = None):\n",
    "        # src = torch.cat(src,axis=2)\n",
    "        # lt, rt, pt 의 feature부분을 concat\n",
    "        src = self.encode_emb(src)\n",
    "        src = self.pos_encoder(src)\n",
    "\n",
    "        tgt = self.decode_emb(tgt)\n",
    "        tgt = self.pos_encoder(tgt)\n",
    "\n",
    "        # print(\"source shape : {0} | target shape : {1}\".format(src.shape,tgt.shape))\n",
    "        target = self.transformer(src=src,tgt=tgt,src_mask = None, tgt_mask = None)\n",
    "        output = self.decoder(target)\n",
    "        # output = self.softmax(output)\n",
    "        return output"
   ]
  },
  {
   "cell_type": "code",
   "execution_count": 15,
   "metadata": {},
   "outputs": [],
   "source": [
    "nodes = 126 # GNN이전의 노드 개수  고친다면\n",
    "d_model = 400 #400\n",
    "nlayers = 4 \n",
    "nhead = 8\n",
    "dropout = 0.2\n",
    "nhid = 2048\n",
    "tokens = 9# token개수 + sos, eos\n",
    "transmodel = TransformerModel_hand(input_node = nodes,d_model= d_model,nhead = nhead,nhid=nhid,nlayers=nlayers,ntoken=tokens,dropout=dropout).to(device)\n",
    "\n",
    "loss_fn =  torch.nn.BCEWithLogitsLoss().to(device)\n",
    "optimizer = torch.optim.Adadelta(transmodel.parameters())"
   ]
  },
  {
   "cell_type": "code",
   "execution_count": 16,
   "metadata": {},
   "outputs": [],
   "source": [
    "src_mask = transmodel.generate_square_subsequent_mask(hand_tensor.shape[0]).to(device)\n",
    "# src mask의 경우 다른 mask를 사용해야 하는것으로 판단됨\n",
    "tgt_mask = transmodel.generate_square_subsequent_mask(decode_data.shape[0]).to(device)"
   ]
  },
  {
   "cell_type": "code",
   "execution_count": 17,
   "metadata": {},
   "outputs": [],
   "source": [
    "x = 0\n",
    "batch_size = 40\n",
    "tmp = int(hand_tensor.shape[1]/batch_size)\n",
    "src =  (hand_tensor[:,x*batch_size:(x+1)*batch_size]) "
   ]
  },
  {
   "cell_type": "code",
   "execution_count": 18,
   "metadata": {},
   "outputs": [],
   "source": [
    "aug = augmentation.DataAugmentation(src,0.5,1,device)"
   ]
  },
  {
   "cell_type": "code",
   "execution_count": 19,
   "metadata": {},
   "outputs": [
    {
     "output_type": "execute_result",
     "data": {
      "text/plain": [
       "torch.Size([71, 40, 126])"
      ]
     },
     "metadata": {},
     "execution_count": 19
    }
   ],
   "source": [
    "src.shape"
   ]
  },
  {
   "cell_type": "code",
   "execution_count": null,
   "metadata": {},
   "outputs": [],
   "source": [
    "\n",
    "epochs = 1000\n",
    "losses = []\n",
    "accuracy = []\n",
    "transmodel.train()\n",
    "start = time.time()\n",
    "for i in range(epochs):\n",
    "    tmp_time = time.time()\n",
    "    print(\"start epoch \",end=\"| \")\n",
    "    # print(tmp)\n",
    "    batch_accuracy = 0\n",
    "    batch_loss = 0\n",
    "    for x in range(tmp):\n",
    "        # print(src[0].shape, tgt.shape)\n",
    "        # print(\"{0} {1:.3f}s \".format(x,time.time()-tmp_time),end=\"\")\n",
    "        src = aug(hand_tensor[:,x*batch_size:(x+1)*batch_size])\n",
    "        tgt = decode_data[0,x*batch_size:(x+1)*batch_size].unsqueeze(dim=0)\n",
    "        y = y_data[0,x*batch_size:(x+1)*batch_size].unsqueeze(dim=0)\n",
    "\n",
    "\n",
    "        optimizer.zero_grad()\n",
    "\n",
    "        predict = transmodel(src,tgt, src_mask )\n",
    "        \n",
    "        tmp_pre = predict.squeeze(0).max(dim=-1, keepdim=False)[1]\n",
    "        tmp_y = y.squeeze(0).max(dim=-1, keepdim=False)[1]\n",
    "        \n",
    "        # predict (seq =1 , batch = 30, feature =  56)\n",
    "        \n",
    "        predict = predict.transpose(0,1)\n",
    "        y = y.transpose(0,1)\n",
    "        \n",
    "        loss =loss_fn(predict,y)\n",
    "        # batch, **\n",
    "        \n",
    "        loss.backward()\n",
    "        optimizer.step()\n",
    "\n",
    "\n",
    "        batch_loss += loss.item()\n",
    "        batch_accuracy +=  batch_size-(tmp_pre - tmp_y).count_nonzero()\n",
    "#         break\n",
    "    # print(batch_loss, batch_accuracy)\n",
    "    losses.append(batch_loss)\n",
    "    accuracy.append(batch_accuracy/(batch_size*tmp))\n",
    "    \n",
    "    end = time.time()\n",
    "    # print(predict.shape,predict.squeeze(0).max(dim=-1, keepdim=False)[1],end=\" \")\n",
    "    print(\"| end epoch: {0}\\t| time: {2:.4f}s |  loss : {1:6f} | acc : {3:.2f}%\".format(i+1,losses[-1], end-tmp_time, accuracy[-1]*100))   \n",
    "#     if(losses[-1] < 0.5 and accuracy[-1] > 0.97):\n",
    "#         break\n",
    "print(\"total time = {0:.4f}s\".format(end-start))\n",
    "\n",
    "        "
   ]
  },
  {
   "cell_type": "code",
   "execution_count": null,
   "metadata": {},
   "outputs": [],
   "source": [
    "src = hand_tensor[:,batch_size*tmp:]\n",
    "tgt = decode_data[0,batch_size*tmp:].unsqueeze(dim=0)\n",
    "y = y_data[0,batch_size*tmp:].unsqueeze(dim=0).transpose(0,1)\n"
   ]
  },
  {
   "cell_type": "code",
   "execution_count": null,
   "metadata": {},
   "outputs": [],
   "source": [
    "src.shape, tgt.shape, y.shape"
   ]
  },
  {
   "cell_type": "code",
   "execution_count": null,
   "metadata": {},
   "outputs": [],
   "source": [
    "val_predict = transmodel(src,tgt,src_mask).transpose(0,1)"
   ]
  },
  {
   "cell_type": "code",
   "execution_count": null,
   "metadata": {},
   "outputs": [],
   "source": [
    "val_loss = loss_fn(val_predict, y)"
   ]
  },
  {
   "cell_type": "code",
   "execution_count": null,
   "metadata": {},
   "outputs": [],
   "source": [
    "val_loss.item()"
   ]
  },
  {
   "cell_type": "code",
   "execution_count": null,
   "metadata": {},
   "outputs": [],
   "source": [
    " val_predict.transpose(0,1).squeeze(0).max(dim=-1, keepdim=False)[1] , tgt , y.transpose(0,1).squeeze(0).max(dim=-1, keepdim=False)[1]"
   ]
  },
  {
   "cell_type": "code",
   "execution_count": null,
   "metadata": {},
   "outputs": [],
   "source": [
    "val_predict[0,0]"
   ]
  },
  {
   "cell_type": "code",
   "execution_count": null,
   "metadata": {},
   "outputs": [],
   "source": [
    "t = [(i,x.item()) for i,x in enumerate(val_predict[0,0])]\n",
    "t = sorted(t , key=lambda x:-x[1] )\n",
    "t"
   ]
  }
 ]
}