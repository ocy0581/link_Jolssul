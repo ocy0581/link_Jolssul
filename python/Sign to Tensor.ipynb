{
 "cells": [
  {
   "cell_type": "code",
   "execution_count": 1,
   "metadata": {},
   "outputs": [],
   "source": [
    "\n",
    "import mediapipe as mp\n",
    "import numpy as np\n",
    "import time\n",
    "import cv2\n",
    "import tensorflow as tf"
   ]
  },
  {
   "cell_type": "code",
   "execution_count": 2,
   "metadata": {},
   "outputs": [
    {
     "name": "stdout",
     "output_type": "stream",
     "text": [
      "95.0\n",
      "30.0\n",
      "Ignoring empty camera frame.\n"
     ]
    }
   ],
   "source": [
    "\"\"\"\n",
    "이거 쓰세용\n",
    "\n",
    "\"\"\"\n",
    "keypoints = []\n",
    "left_hands = []\n",
    "mp_holistic = mp.solutions.holistic\n",
    "video_hol = mp.solutions.holistic.Holistic(static_image_mode=False,upper_body_only=False,smooth_landmarks=True,\n",
    "                                           min_detection_confidence=0.5,min_tracking_confidence=0.5)\n",
    "# Prepare DrawingSpec for drawing the face landmarks later.\n",
    "mp_drawing = mp.solutions.drawing_utils \n",
    "drawing_spec = mp_drawing.DrawingSpec(thickness=1, circle_radius=1)\n",
    "\n",
    "# For webcam input:\n",
    "holistic = mp_holistic.Holistic(\n",
    "    min_detection_confidence=0.5, min_tracking_confidence=0.5)\n",
    "cap = cv2.VideoCapture(\"./video/KETI_SL_0000006020.avi\")\n",
    "\n",
    "cap.set(cv2.CAP_PROP_FRAME_WIDTH, 1280)\n",
    "cap.set(cv2.CAP_PROP_FRAME_HEIGHT, 720)\n",
    "\n",
    "# cap.set(cv2.CAP_PROP_FPS, 1)\n",
    "\n",
    "total_frames = cap.get(7)\n",
    "print(total_frames)\n",
    "\n",
    "print(cap.get(cv2.CAP_PROP_FPS))\n",
    "\n",
    "frame_rate = 10\n",
    "prev = 0\n",
    "i = 0\n",
    "left_hand_lists = []\n",
    "right_hand_lists = []\n",
    "face_lists = []\n",
    "pose_lists = []\n",
    "\n",
    "\n",
    "while cap.isOpened():\n",
    "#     time_elapsed = time.time() - prev\n",
    "    success, image = cap.read()\n",
    "\n",
    "#     if time_elapsed > 1./frame_rate:\n",
    "#         prev = time.time()\n",
    "        \n",
    "    if not success:\n",
    "        print(\"Ignoring empty camera frame.\")\n",
    "    # If loading a video, use 'break' instead of 'continue'.\n",
    "        break\n",
    "\n",
    "    # Flip the image horizontally for a later selfie-view display, and convert\n",
    "    # the BGR image to RGB.\n",
    "    image = cv2.cvtColor(cv2.flip(image, 1), cv2.COLOR_BGR2RGB)\n",
    "    # To improve performance, optionally mark the image as not writeable to\n",
    "    # pass by reference.\n",
    "    image.flags.writeable = False\n",
    "    results = holistic.process(image)\n",
    "\n",
    "    # Draw landmark annotation on the image.\n",
    "    image.flags.writeable = True\n",
    "    image = cv2.cvtColor(image, cv2.COLOR_RGB2BGR)\n",
    "    mp_drawing.draw_landmarks(\n",
    "      image, results.face_landmarks, mp_holistic.FACE_CONNECTIONS)\n",
    "    mp_drawing.draw_landmarks(\n",
    "      image, results.left_hand_landmarks, mp_holistic.HAND_CONNECTIONS)\n",
    "    mp_drawing.draw_landmarks(\n",
    "      image, results.right_hand_landmarks, mp_holistic.HAND_CONNECTIONS)\n",
    "    mp_drawing.draw_landmarks(\n",
    "      image, results.pose_landmarks, mp_holistic.POSE_CONNECTIONS)\n",
    "\n",
    "    if results.left_hand_landmarks:\n",
    "        left_hand_list = []\n",
    "        for lm in results.left_hand_landmarks.landmark:\n",
    "            left_hand_list.append([lm.x, lm.y, lm.z])\n",
    "        left_hand_lists.append(left_hand_list)\n",
    "        \n",
    "    if results.right_hand_landmarks:\n",
    "        right_hand_list = []\n",
    "        for lm in results.right_hand_landmarks.landmark:\n",
    "            right_hand_list.append([lm.x, lm.y, lm.z])\n",
    "        right_hand_lists.append(right_hand_list)\n",
    "        \n",
    "    if results.face_landmarks:\n",
    "        face_list = []\n",
    "        for lm in results.face_landmarks.landmark:\n",
    "            face_list.append([lm.x, lm.y, lm.z])\n",
    "        face_lists.append(face_list)\n",
    "        \n",
    "    if results.pose_landmarks:\n",
    "        pose_list = []\n",
    "        for lm in results.pose_landmarks.landmark:\n",
    "            pose_list.append([lm.x, lm.y, lm.z])\n",
    "        pose_lists.append(pose_list)\n",
    "        \n",
    "        \n",
    "    cv2.imshow('MediaPipe Holistic', image)\n",
    "    if cv2.waitKey(5) & 0xFF == ord('q'):\n",
    "        break\n",
    "holistic.close()\n",
    "cap.release()\n",
    "cv2.destroyAllWindows()"
   ]
  },
  {
   "cell_type": "code",
   "execution_count": 3,
   "metadata": {},
   "outputs": [
    {
     "name": "stdout",
     "output_type": "stream",
     "text": [
      "torch.Size([72, 21, 3]) torch.Size([3, 21, 3]) torch.Size([95, 468, 3]) torch.Size([95, 33, 3])\n"
     ]
    }
   ],
   "source": [
    "import torch\n",
    "lt = torch.FloatTensor(left_hand_lists)\n",
    "rt = torch.FloatTensor(right_hand_lists)\n",
    "ft = torch.FloatTensor(face_lists)\n",
    "pt = torch.FloatTensor(pose_lists)\n",
    "\n",
    "\n",
    "print(\n",
    "torch.FloatTensor(left_hand_lists).shape,\n",
    "torch.FloatTensor(right_hand_lists).shape,\n",
    "torch.FloatTensor(face_lists).shape,\n",
    "torch.FloatTensor(pose_lists).shape)"
   ]
  },
  {
   "cell_type": "code",
   "execution_count": 4,
   "metadata": {},
   "outputs": [],
   "source": [
    "torch.save(lt, 'tensor_lt.pt')\n",
    "torch.save(rt, 'tensor_rt.pt')\n",
    "torch.save(ft, 'tensor_ft.pt')\n",
    "torch.save(pt, 'tensor_pt.pt')"
   ]
  },
  {
   "cell_type": "code",
   "execution_count": 5,
   "metadata": {},
   "outputs": [
    {
     "name": "stdout",
     "output_type": "stream",
     "text": [
      "tensor([[[ 6.1675e-01,  8.5547e-01, -2.7421e-05],\n",
      "         [ 5.8203e-01,  8.7212e-01, -4.2035e-03],\n",
      "         [ 5.5581e-01,  9.0538e-01, -1.7339e-02],\n",
      "         ...,\n",
      "         [ 6.2943e-01,  9.8285e-01,  1.9103e-05],\n",
      "         [ 6.2487e-01,  9.6758e-01,  5.2582e-03],\n",
      "         [ 6.2492e-01,  9.5232e-01,  2.4131e-03]],\n",
      "\n",
      "        [[ 6.2189e-01,  8.0944e-01, -1.3018e-05],\n",
      "         [ 5.9213e-01,  8.1036e-01, -2.1950e-02],\n",
      "         [ 5.6735e-01,  8.4304e-01, -4.1754e-02],\n",
      "         ...,\n",
      "         [ 5.7168e-01,  9.2639e-01, -3.4545e-02],\n",
      "         [ 5.7442e-01,  9.1128e-01, -3.0186e-02],\n",
      "         [ 5.8026e-01,  8.9252e-01, -3.3501e-02]],\n",
      "\n",
      "        [[ 5.9675e-01,  6.9303e-01, -3.7935e-05],\n",
      "         [ 5.7199e-01,  6.4857e-01, -1.1915e-02],\n",
      "         [ 5.4409e-01,  6.3608e-01, -2.8128e-02],\n",
      "         ...,\n",
      "         [ 5.5716e-01,  7.7775e-01, -3.5100e-02],\n",
      "         [ 5.5943e-01,  7.6213e-01, -3.0627e-02],\n",
      "         [ 5.6655e-01,  7.5363e-01, -3.1632e-02]],\n",
      "\n",
      "        ...,\n",
      "\n",
      "        [[ 6.1158e-01,  8.3502e-01,  8.0836e-06],\n",
      "         [ 5.8578e-01,  8.4991e-01,  4.4646e-03],\n",
      "         [ 5.6525e-01,  8.8480e-01, -7.3933e-03],\n",
      "         ...,\n",
      "         [ 6.1578e-01,  9.2657e-01, -6.7086e-02],\n",
      "         [ 6.1831e-01,  9.1566e-01, -5.4310e-02],\n",
      "         [ 6.2000e-01,  9.0437e-01, -4.9489e-02]],\n",
      "\n",
      "        [[ 6.2006e-01,  8.5021e-01,  1.8230e-05],\n",
      "         [ 5.9302e-01,  8.7051e-01,  9.1141e-03],\n",
      "         [ 5.7491e-01,  9.0725e-01, -1.1575e-03],\n",
      "         ...,\n",
      "         [ 6.2645e-01,  9.5000e-01, -6.2141e-02],\n",
      "         [ 6.2807e-01,  9.3599e-01, -4.8762e-02],\n",
      "         [ 6.3057e-01,  9.2413e-01, -4.4519e-02]],\n",
      "\n",
      "        [[ 6.2769e-01,  8.6614e-01,  4.5212e-05],\n",
      "         [ 6.0174e-01,  8.8602e-01,  1.1779e-02],\n",
      "         [ 5.8525e-01,  9.2302e-01,  4.8823e-03],\n",
      "         ...,\n",
      "         [ 6.3330e-01,  9.6890e-01, -5.3237e-02],\n",
      "         [ 6.3558e-01,  9.5449e-01, -4.1492e-02],\n",
      "         [ 6.3824e-01,  9.4199e-01, -3.8293e-02]]])\n"
     ]
    }
   ],
   "source": [
    "print(torch.load('tensor.pt'))"
   ]
  },
  {
   "cell_type": "code",
   "execution_count": null,
   "metadata": {},
   "outputs": [],
   "source": []
  }
 ],
 "metadata": {
  "kernelspec": {
   "display_name": "Python 3",
   "language": "python",
   "name": "python3"
  },
  "language_info": {
   "codemirror_mode": {
    "name": "ipython",
    "version": 3
   },
   "file_extension": ".py",
   "mimetype": "text/x-python",
   "name": "python",
   "nbconvert_exporter": "python",
   "pygments_lexer": "ipython3",
   "version": "3.6.9"
  }
 },
 "nbformat": 4,
 "nbformat_minor": 2
}
