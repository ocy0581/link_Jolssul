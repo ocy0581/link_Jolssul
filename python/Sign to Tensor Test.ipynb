{
 "cells": [
  {
   "cell_type": "markdown",
   "metadata": {},
   "source": [
    "영상 ./video/KETI_SL_0000006020.avi를 mediapipe로 처리하여 출력값 저장하기  \n",
    "출력값은 Tensor나 list 저장"
   ]
  },
  {
   "cell_type": "code",
   "execution_count": 6,
   "metadata": {},
   "outputs": [],
   "source": [
    "import mediapipe as mp\n",
    "import numpy as np\n",
    "import time\n",
    "import cv2"
   ]
  },
  {
   "cell_type": "code",
   "execution_count": 2,
   "metadata": {},
   "outputs": [
    {
     "name": "stdout",
     "output_type": "stream",
     "text": [
      "156.0\n",
      "29.970029\n",
      "Ignoring empty camera frame.\n"
     ]
    }
   ],
   "source": [
    "# Prepare DrawingSpec\n",
    "mp_drawing = mp.solutions.drawing_utils \n",
    "drawing_spec = mp_drawing.DrawingSpec(thickness=1, circle_radius=1)\n",
    "\n",
    "# Config holistic\n",
    "mp_holistic = mp.solutions.holistic\n",
    "holistic = mp_holistic.Holistic(\n",
    "    min_detection_confidence=0.5, min_tracking_confidence=0.5)\n",
    "\n",
    "# 영상 가져오기\n",
    "cap = cv2.VideoCapture(\"./video/KETI_SL_0000006020.avi\")\n",
    "\n",
    "# 영상...\n",
    "cap.set(cv2.CAP_PROP_FRAME_WIDTH, 1280)\n",
    "cap.set(cv2.CAP_PROP_FRAME_HEIGHT, 720)\n",
    "\n",
    "# cap.set(cv2.CAP_PROP_FPS, 1)\n",
    "\n",
    "total_frames = cap.get(7)\n",
    "print(total_frames)\n",
    "\n",
    "print(cap.get(cv2.CAP_PROP_FPS))\n",
    "\n",
    "frame_rate = 10\n",
    "prev = 0\n",
    "i = 0\n",
    "left_hand_lists = []\n",
    "right_hand_lists = []\n",
    "face_lists = []\n",
    "pose_lists = []\n",
    "\n",
    "\n",
    "while cap.isOpened():\n",
    "#     time_elapsed = time.time() - prev\n",
    "    success, image = cap.read()\n",
    "\n",
    "#     if time_elapsed > 1./frame_rate:\n",
    "#         prev = time.time()\n",
    "        \n",
    "    if not success:\n",
    "        print(\"Ignoring empty camera frame.\")\n",
    "        # If loading a video, use 'break' instead of 'continue'.\n",
    "        break\n",
    "\n",
    "    # Flip the image horizontally for a later selfie-view display, and convert\n",
    "    # the BGR image to RGB.\n",
    "    image = cv2.cvtColor(cv2.flip(image, 1), cv2.COLOR_BGR2RGB)\n",
    "    # To improve performance, optionally mark the image as not writeable to\n",
    "    # pass by reference.\n",
    "    image.flags.writeable = False\n",
    "    results = holistic.process(image)\n",
    "\n",
    "    # Draw landmark annotation on the image.\n",
    "    image.flags.writeable = True\n",
    "    image = cv2.cvtColor(image, cv2.COLOR_RGB2BGR)\n",
    "    mp_drawing.draw_landmarks(\n",
    "      image, results.face_landmarks, mp_holistic.FACE_CONNECTIONS)\n",
    "    mp_drawing.draw_landmarks(\n",
    "      image, results.left_hand_landmarks, mp_holistic.HAND_CONNECTIONS)\n",
    "    mp_drawing.draw_landmarks(\n",
    "      image, results.right_hand_landmarks, mp_holistic.HAND_CONNECTIONS)\n",
    "    mp_drawing.draw_landmarks(\n",
    "      image, results.pose_landmarks, mp_holistic.POSE_CONNECTIONS)\n",
    "    \n",
    "    if results.left_hand_landmarks:\n",
    "        left_hand_list = []\n",
    "        for lm in results.left_hand_landmarks.landmark:\n",
    "            left_hand_list.append([lm.x, lm.y, lm.z])\n",
    "        left_hand_lists.append(left_hand_list)\n",
    "        \n",
    "    if results.right_hand_landmarks:\n",
    "        right_hand_list = []\n",
    "        for lm in results.right_hand_landmarks.landmark:\n",
    "            right_hand_list.append([lm.x, lm.y, lm.z])\n",
    "        right_hand_lists.append(right_hand_list)\n",
    "        \n",
    "    if results.face_landmarks:\n",
    "        face_list = []\n",
    "        for lm in results.face_landmarks.landmark:\n",
    "            face_list.append([lm.x, lm.y, lm.z])\n",
    "        face_lists.append(face_list)\n",
    "        \n",
    "    if results.pose_landmarks:\n",
    "        pose_list = []\n",
    "        for lm in results.pose_landmarks.landmark:\n",
    "            pose_list.append([lm.x, lm.y, lm.z])\n",
    "        pose_lists.append(pose_list)\n",
    "        \n",
    "        \n",
    "#     cv2.imshow('MediaPipe Holistic', image)\n",
    "#     if cv2.waitKey(5) & 0xFF == ord('q'):\n",
    "#         break\n",
    "holistic.close()\n",
    "cap.release()\n",
    "cv2.destroyAllWindows()"
   ]
  },
  {
   "cell_type": "code",
   "execution_count": 3,
   "metadata": {},
   "outputs": [
    {
     "name": "stdout",
     "output_type": "stream",
     "text": [
      "torch.Size([54, 21, 3]) torch.Size([0]) torch.Size([156, 468, 3]) torch.Size([156, 33, 3])\n"
     ]
    }
   ],
   "source": [
    "# \n",
    "\n",
    "import torch\n",
    "lt = torch.FloatTensor(left_hand_lists)\n",
    "rt = torch.FloatTensor(right_hand_lists)\n",
    "ft = torch.FloatTensor(face_lists)\n",
    "pt = torch.FloatTensor(pose_lists)\n",
    "\n",
    "print(torch.FloatTensor(left_hand_lists).shape,\n",
    "      torch.FloatTensor(right_hand_lists).shape,\n",
    "      torch.FloatTensor(face_lists).shape,\n",
    "      torch.FloatTensor(pose_lists).shape)"
   ]
  },
  {
   "cell_type": "code",
   "execution_count": 4,
   "metadata": {},
   "outputs": [],
   "source": [
    "# \n",
    "\n",
    "torch.save(lt, 'tensor_lt.pt')\n",
    "torch.save(rt, 'tensor_rt.pt')\n",
    "torch.save(ft, 'tensor_ft.pt')\n",
    "torch.save(pt, 'tensor_pt.pt')"
   ]
  },
  {
   "cell_type": "code",
   "execution_count": 5,
   "metadata": {},
   "outputs": [
    {
     "name": "stdout",
     "output_type": "stream",
     "text": [
      "tensor([[[ 6.7036e-01,  8.9328e-01, -1.7920e-05],\n",
      "         [ 6.5279e-01,  9.1216e-01, -1.2048e-02],\n",
      "         [ 6.4243e-01,  9.4444e-01, -1.3254e-02],\n",
      "         ...,\n",
      "         [ 6.3723e-01,  9.9854e-01,  7.0965e-03],\n",
      "         [ 6.2669e-01,  9.9468e-01,  5.2927e-03],\n",
      "         [ 6.2288e-01,  9.8599e-01,  5.0059e-03]],\n",
      "\n",
      "        [[ 6.4070e-01,  9.6747e-01,  5.9863e-05],\n",
      "         [ 6.6071e-01,  9.4689e-01, -1.3350e-02],\n",
      "         [ 6.7066e-01,  9.2707e-01, -3.7440e-02],\n",
      "         ...,\n",
      "         [ 6.1179e-01,  9.5497e-01, -7.8000e-02],\n",
      "         [ 6.0643e-01,  9.4377e-01, -8.1491e-02],\n",
      "         [ 6.0290e-01,  9.3101e-01, -8.5010e-02]],\n",
      "\n",
      "        [[ 6.4161e-01,  8.1774e-01, -8.2350e-06],\n",
      "         [ 6.1588e-01,  8.1947e-01, -4.9816e-03],\n",
      "         [ 6.0007e-01,  8.1656e-01, -1.2252e-02],\n",
      "         ...,\n",
      "         [ 6.3402e-01,  8.0238e-01, -4.0941e-02],\n",
      "         [ 6.3092e-01,  7.8710e-01, -4.4752e-02],\n",
      "         [ 6.3087e-01,  7.7933e-01, -4.7794e-02]],\n",
      "\n",
      "        ...,\n",
      "\n",
      "        [[ 6.4063e-01,  8.0086e-01, -6.2547e-06],\n",
      "         [ 6.2427e-01,  7.9774e-01,  4.8392e-04],\n",
      "         [ 6.1110e-01,  7.8810e-01, -7.3956e-03],\n",
      "         ...,\n",
      "         [ 5.9977e-01,  7.8864e-01, -1.7250e-02],\n",
      "         [ 6.0294e-01,  7.7832e-01, -1.3931e-02],\n",
      "         [ 6.0680e-01,  7.7720e-01, -1.6708e-02]],\n",
      "\n",
      "        [[ 6.6377e-01,  8.7020e-01, -3.2547e-06],\n",
      "         [ 6.6538e-01,  8.9003e-01, -4.5099e-02],\n",
      "         [ 6.5901e-01,  9.1258e-01, -6.4951e-02],\n",
      "         ...,\n",
      "         [ 6.4123e-01,  9.4237e-01, -1.9327e-02],\n",
      "         [ 6.3255e-01,  9.3537e-01, -3.2766e-02],\n",
      "         [ 6.2762e-01,  9.2549e-01, -3.9505e-02]],\n",
      "\n",
      "        [[ 6.6582e-01,  8.8636e-01, -4.7815e-05],\n",
      "         [ 6.5448e-01,  9.2688e-01, -4.7796e-03],\n",
      "         [ 6.5458e-01,  9.6552e-01, -1.0142e-02],\n",
      "         ...,\n",
      "         [ 6.6185e-01,  9.8422e-01, -2.7147e-02],\n",
      "         [ 6.4887e-01,  9.7651e-01, -3.1743e-02],\n",
      "         [ 6.4252e-01,  9.6268e-01, -3.4649e-02]]])\n"
     ]
    }
   ],
   "source": [
    "print(torch.load('tensor_lt.pt'))"
   ]
  },
  {
   "cell_type": "code",
   "execution_count": null,
   "metadata": {},
   "outputs": [],
   "source": []
  },
  {
   "cell_type": "code",
   "execution_count": null,
   "metadata": {},
   "outputs": [],
   "source": []
  }
 ],
 "metadata": {
  "kernelspec": {
   "display_name": "Python 3",
   "language": "python",
   "name": "python3"
  },
  "language_info": {
   "codemirror_mode": {
    "name": "ipython",
    "version": 3
   },
   "file_extension": ".py",
   "mimetype": "text/x-python",
   "name": "python",
   "nbconvert_exporter": "python",
   "pygments_lexer": "ipython3",
   "version": "3.8.8"
  },
  "toc-autonumbering": false,
  "toc-showcode": true,
  "toc-showmarkdowntxt": false,
  "toc-showtags": false
 },
 "nbformat": 4,
 "nbformat_minor": 4
}
