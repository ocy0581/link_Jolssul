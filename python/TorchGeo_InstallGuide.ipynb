{
 "cells": [
  {
   "cell_type": "code",
   "execution_count": 7,
   "id": "forty-preparation",
   "metadata": {},
   "outputs": [],
   "source": [
    "import torch"
   ]
  },
  {
   "cell_type": "markdown",
   "id": "martial-chrome",
   "metadata": {},
   "source": [
    "### torch version check"
   ]
  },
  {
   "cell_type": "markdown",
   "id": "headed-anchor",
   "metadata": {},
   "source": [
    "version list : 1.4.0, 1.5.0, 1.6.0, 1.7.0, 1.8.0"
   ]
  },
  {
   "cell_type": "code",
   "execution_count": 8,
   "id": "conditional-problem",
   "metadata": {},
   "outputs": [
    {
     "name": "stdout",
     "output_type": "stream",
     "text": [
      "1.8.0\n"
     ]
    }
   ],
   "source": [
    "print(torch.__version__)"
   ]
  },
  {
   "cell_type": "markdown",
   "id": "pleasant-irish",
   "metadata": {},
   "source": [
    "---"
   ]
  },
  {
   "cell_type": "markdown",
   "id": "swedish-cycling",
   "metadata": {},
   "source": [
    "## torch cuda version check"
   ]
  },
  {
   "cell_type": "markdown",
   "id": "confidential-forestry",
   "metadata": {},
   "source": [
    "version list : None, 9.2, 10.1, 10.2, 11.0, 11.1"
   ]
  },
  {
   "cell_type": "code",
   "execution_count": 6,
   "id": "criminal-diameter",
   "metadata": {},
   "outputs": [
    {
     "name": "stdout",
     "output_type": "stream",
     "text": [
      "None\n"
     ]
    }
   ],
   "source": [
    "print(torch.version.cuda)"
   ]
  },
  {
   "cell_type": "markdown",
   "id": "acute-million",
   "metadata": {},
   "source": [
    "## Install Pytorch Geometric"
   ]
  },
  {
   "cell_type": "markdown",
   "id": "sized-tobacco",
   "metadata": {},
   "source": [
    "In terminal\n",
    "```\n",
    "pip install torch-scatter -f https://pytorch-geometric.com/whl/torch-${TORCH}+${CUDA}.html\n",
    "pip install torch-sparse -f https://pytorch-geometric.com/whl/torch-${TORCH}+${CUDA}.html\n",
    "pip install torch-cluster -f https://pytorch-geometric.com/whl/torch-${TORCH}+${CUDA}.html\n",
    "pip install torch-spline-conv -f https://pytorch-geometric.com/whl/torch-${TORCH}+${CUDA}.html\n",
    "pip install torch-geometric\n",
    "```\n",
    "\n",
    "\\\\${TORCH} is replaced by your torch version(```1.4.0```, ```1.5.0```, ```1.6.0```, ```1.7.0```, ```1.8.0```)  \n",
    "\\\\${CUDA} is replaced by your cuda version(```cpu```, ```cu92```, ```cu101```, ```cu102```, ```cu110```, ```cu111```)"
   ]
  },
  {
   "cell_type": "markdown",
   "id": "promotional-douglas",
   "metadata": {},
   "source": [
    "For example, for PyTorch 1.8.0/1.8.1 and CUDA 11.1  \n",
    "```\n",
    "pip install torch-scatter -f https://pytorch-geometric.com/whl/torch-1.8.0+cu111.html\n",
    "pip install torch-sparse -f https://pytorch-geometric.com/whl/torch-1.8.0+cu111.html\n",
    "pip install torch-cluster -f https://pytorch-geometric.com/whl/torch-1.8.0+cu111.html\n",
    "pip install torch-spline-conv -f https://pytorch-geometric.com/whl/torch-1.8.0+cu111.html\n",
    "pip install torch-geometric\n",
    "```"
   ]
  },
  {
   "cell_type": "markdown",
   "id": "perfect-definition",
   "metadata": {},
   "source": [
    "---"
   ]
  },
  {
   "cell_type": "code",
   "execution_count": null,
   "id": "accepted-spell",
   "metadata": {},
   "outputs": [],
   "source": [
    "pip install torch-scatter -f https://pytorch-geometric.com/whl/torch-1.8.0+cpu.html\n",
    "pip install torch-sparse -f https://pytorch-geometric.com/whl/torch-1.8.0+cpu.html\n",
    "pip install torch-cluster -f https://pytorch-geometric.com/whl/torch-1.8.0+cpu.html\n",
    "pip install torch-spline-conv -f https://pytorch-geometric.com/whl/torch-1.8.0+cpu.html\n",
    "pip install torch-geometric"
   ]
  }
 ],
 "metadata": {
  "kernelspec": {
   "display_name": "Python 3",
   "language": "python",
   "name": "python3"
  },
  "language_info": {
   "codemirror_mode": {
    "name": "ipython",
    "version": 3
   },
   "file_extension": ".py",
   "mimetype": "text/x-python",
   "name": "python",
   "nbconvert_exporter": "python",
   "pygments_lexer": "ipython3",
   "version": "3.8.8"
  }
 },
 "nbformat": 4,
 "nbformat_minor": 5
}
