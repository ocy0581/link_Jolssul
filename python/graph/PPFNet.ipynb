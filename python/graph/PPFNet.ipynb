{
 "cells": [
  {
   "cell_type": "markdown",
   "id": "noted-solid",
   "metadata": {},
   "source": [
    "# PPFNet  \n",
    "요한  \n",
    "미완성"
   ]
  },
  {
   "cell_type": "code",
   "execution_count": 18,
   "id": "historical-withdrawal",
   "metadata": {},
   "outputs": [],
   "source": [
    "import os\n",
    "import torch\n",
    "import mediapipe as mp\n",
    "import numpy as np\n",
    "import cv2"
   ]
  },
  {
   "cell_type": "markdown",
   "id": "fresh-permit",
   "metadata": {},
   "source": [
    "## Load Data"
   ]
  },
  {
   "cell_type": "code",
   "execution_count": 19,
   "id": "corresponding-brooklyn",
   "metadata": {},
   "outputs": [
    {
     "name": "stdout",
     "output_type": "stream",
     "text": [
      "torch.Size([160, 21, 3])\n",
      "torch.Size([160, 21, 3])\n",
      "torch.Size([160, 33, 3])\n",
      "torch.Size([160, 468, 3])\n"
     ]
    }
   ],
   "source": [
    "# shape 확인\n",
    "print(torch.load(\"./output/tensor/KETI_SL_0000000002/left_hand.pt\").shape)\n",
    "print(torch.load(\"./output/tensor/KETI_SL_0000000002/right_hand.pt\").shape)\n",
    "print(torch.load(\"./output/tensor/KETI_SL_0000000002/pose.pt\").shape)\n",
    "print(torch.load(\"./output/tensor/KETI_SL_0000000002/face.pt\").shape)"
   ]
  },
  {
   "cell_type": "markdown",
   "id": "nearby-moderator",
   "metadata": {},
   "source": [
    "shape : [a, b, c]  \n",
    "a : time step  \n",
    "b : point#  \n",
    "c : x, y, z 좌표"
   ]
  },
  {
   "cell_type": "code",
   "execution_count": 20,
   "id": "completed-issue",
   "metadata": {},
   "outputs": [],
   "source": [
    "left_hand = torch.load(\"./output/tensor/KETI_SL_0000000002/left_hand.pt\")\n",
    "right_hand = torch.load(\"./output/tensor/KETI_SL_0000000002/right_hand.pt\")\n",
    "pose = torch.load(\"./output/tensor/KETI_SL_0000000002/pose.pt\")\n",
    "#torch.load(\"./output/tensor/KETI_SL_0000000002/face.pt\")"
   ]
  },
  {
   "cell_type": "code",
   "execution_count": 21,
   "id": "sticky-intersection",
   "metadata": {},
   "outputs": [
    {
     "name": "stdout",
     "output_type": "stream",
     "text": [
      "torch.Size([21, 3])\n",
      "torch.Size([21, 3])\n",
      "torch.Size([21, 3])\n"
     ]
    }
   ],
   "source": [
    "# position data\n",
    "print(right_hand[0].shape)\n",
    "print(right_hand[1].shape)\n",
    "print(right_hand[2].shape)"
   ]
  },
  {
   "cell_type": "markdown",
   "id": "medium-leisure",
   "metadata": {},
   "source": [
    "## PPFConv  \n",
    "https://pytorch-geometric.readthedocs.io/en/latest/modules/nn.html#torch_geometric.nn.conv.PPFConv\n",
    "\n",
    "아직 다운샘플링 적용안함. 추후에 해야함."
   ]
  },
  {
   "cell_type": "code",
   "execution_count": 24,
   "id": "short-ultimate",
   "metadata": {},
   "outputs": [
    {
     "name": "stdout",
     "output_type": "stream",
     "text": [
      "PPFNet(\n",
      "  (conv1): PPFConv(local_nn=Sequential(\n",
      "    (0): Linear(in_features=4, out_features=32, bias=True)\n",
      "    (1): ReLU()\n",
      "    (2): Linear(in_features=32, out_features=48, bias=True)\n",
      "    (3): ReLU()\n",
      "    (4): Linear(in_features=48, out_features=32, bias=True)\n",
      "  ), global_nn=None)\n",
      "  (conv2): PPFConv(local_nn=Sequential(\n",
      "    (0): Linear(in_features=36, out_features=48, bias=True)\n",
      "    (1): ReLU()\n",
      "    (2): Linear(in_features=48, out_features=48, bias=True)\n",
      "    (3): ReLU()\n",
      "    (4): Linear(in_features=48, out_features=32, bias=True)\n",
      "  ), global_nn=None)\n",
      "  (conv3): PPFConv(local_nn=Sequential(\n",
      "    (0): Linear(in_features=36, out_features=48, bias=True)\n",
      "    (1): ReLU()\n",
      "    (2): Linear(in_features=48, out_features=48, bias=True)\n",
      "    (3): ReLU()\n",
      "    (4): Linear(in_features=48, out_features=32, bias=True)\n",
      "  ), global_nn=None)\n",
      ")\n"
     ]
    }
   ],
   "source": [
    "from torch.nn import Sequential, Linear, ReLU\n",
    "from torch_geometric.nn import PPFConv\n",
    "from torch_cluster import knn_graph, fps\n",
    "from torch_geometric.nn import global_max_pool\n",
    "\n",
    "\n",
    "class PPFNet(torch.nn.Module):\n",
    "    def __init__(self):\n",
    "        super(PPFNet, self).__init__()\n",
    "\n",
    "        torch.manual_seed(12345)\n",
    "\n",
    "        # hidden features: 0\n",
    "        # 4D descriptor: 4\n",
    "        mlp1 = Sequential(Linear(0+4, 32),\n",
    "                          ReLU(),\n",
    "                          Linear(32, 48),\n",
    "                          ReLU(),\n",
    "                          Linear(48, 32))\n",
    "        self.conv1 = PPFConv(mlp1)\n",
    "\n",
    "        # hidden features: 32\n",
    "        # 4D descriptor: 4\n",
    "        mlp2 = Sequential(Linear(32+4, 48),\n",
    "                          ReLU(),\n",
    "                          Linear(48, 48),\n",
    "                          ReLU(),\n",
    "                          Linear(48, 32))\n",
    "        self.conv2 = PPFConv(mlp2)\n",
    "\n",
    "        # hidden features: 32\n",
    "        # 4D descriptor: 4\n",
    "        mlp3 = Sequential(Linear(32+4, 48),\n",
    "                          ReLU(),\n",
    "                          Linear(48, 48),\n",
    "                          ReLU(),\n",
    "                          Linear(48, 32))\n",
    "        self.conv3 = PPFConv(mlp3)\n",
    "        \n",
    "#         classification이 아닌 transformer를 위한 임베딩\n",
    "#         num_classes = 10\n",
    "#         self.classifier = Linear(32, num_classes)\n",
    "        \n",
    "    def forward(self, pos, normal, batch):\n",
    "        edge_index = knn_graph(pos, k=16, batch=batch, loop=False)\n",
    "        \n",
    "        x = self.conv1(x=None, pos=pos, normal=normal, edge_index=edge_index)\n",
    "        x = x.relu()\n",
    "        x = self.conv2(x=x, pos=pos, normal=normal, edge_index=edge_index)\n",
    "        x = x.relu()\n",
    "        x = self.conv3(x=x, pos=pos, normal=normal, edge_index=edge_index)\n",
    "        x = x.relu()\n",
    "\n",
    "        x = global_max_pool(x, batch)  # [num_examples, hidden_channels]\n",
    "\n",
    "        return x  # 32차원 임베딩 벡터\n",
    "#         return self.classifier(x)\n",
    "\n",
    "\n",
    "model = PPFNet()\n",
    "print(model)"
   ]
  },
  {
   "cell_type": "code",
   "execution_count": 28,
   "id": "special-logging",
   "metadata": {},
   "outputs": [
    {
     "name": "stdout",
     "output_type": "stream",
     "text": [
      "torch.Size([160, 21, 3])\n"
     ]
    }
   ],
   "source": [
    "from torch_geometric.data import DataLoader\n",
    "\n",
    "train_loader = DataLoader(right_hand, batch_size=10, shuffle=False)  # shuffle X 중요!\n",
    "# test_loader = DataLoader(test_dataset, batch_size=10)\n",
    "\n",
    "print(train_loader.dataset.shape)\n",
    "\n",
    "model = PPFNet()\n",
    "optimizer = torch.optim.Adam(model.parameters(), lr=0.01)\n",
    "criterion = torch.nn.CrossEntropyLoss()  # Define loss criterion.\n",
    "\n",
    "def train(model, optimizer, loader):\n",
    "    model.train()\n",
    "    \n",
    "    total_loss = 0\n",
    "    for data in loader:\n",
    "        optimizer.zero_grad()  # Clear gradients.\n",
    "        logits = model(data.pos, data.batch)  # Forward pass.\n",
    "        loss = criterion(logits, data.y)  # Loss computation.\n",
    "        loss.backward()  # Backward pass.\n",
    "        optimizer.step()  # Update model parameters.\n",
    "        total_loss += loss.item() * data.num_graphs\n",
    "\n",
    "    return total_loss / len(train_loader.dataset)\n",
    "\n",
    "\n",
    "@torch.no_grad()\n",
    "def test(model, loader):\n",
    "    model.eval()\n",
    "\n",
    "    total_correct = 0\n",
    "    for data in loader:\n",
    "        logits = model(data.pos, data.batch)\n",
    "        pred = logits.argmax(dim=-1)\n",
    "        total_correct += int((pred == data.y).sum())\n",
    "\n",
    "    return total_correct / len(loader.dataset)"
   ]
  },
  {
   "cell_type": "markdown",
   "id": "aware-victory",
   "metadata": {},
   "source": [
    "일단 normal vector는 임의로 설정  \n",
    "추후 이전 관절과의 변위를 normal vector로 설정\n",
    "\n",
    "batch도 일단 None  \n",
    "설정할 방법 생각해보기"
   ]
  }
 ],
 "metadata": {
  "kernelspec": {
   "display_name": "Python 3",
   "language": "python",
   "name": "python3"
  },
  "language_info": {
   "codemirror_mode": {
    "name": "ipython",
    "version": 3
   },
   "file_extension": ".py",
   "mimetype": "text/x-python",
   "name": "python",
   "nbconvert_exporter": "python",
   "pygments_lexer": "ipython3",
   "version": "3.8.8"
  }
 },
 "nbformat": 4,
 "nbformat_minor": 5
}
